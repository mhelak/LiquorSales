{
 "cells": [
  {
   "cell_type": "markdown",
   "metadata": {},
   "source": [
    "# Model - Linear Regression, Decision Tree, Random Forest"
   ]
  },
  {
   "cell_type": "code",
   "execution_count": 110,
   "metadata": {},
   "outputs": [],
   "source": [
    "import pandas as pd\n",
    "import matplotlib.pyplot as plt\n",
    "import seaborn as sns\n",
    "import numpy as np"
   ]
  },
  {
   "cell_type": "code",
   "execution_count": 111,
   "metadata": {},
   "outputs": [],
   "source": [
    "df = pd.read_csv('liquor_dataset.csv', index_col = 0)"
   ]
  },
  {
   "cell_type": "code",
   "execution_count": 112,
   "metadata": {},
   "outputs": [
    {
     "data": {
      "text/html": [
       "<div>\n",
       "<style scoped>\n",
       "    .dataframe tbody tr th:only-of-type {\n",
       "        vertical-align: middle;\n",
       "    }\n",
       "\n",
       "    .dataframe tbody tr th {\n",
       "        vertical-align: top;\n",
       "    }\n",
       "\n",
       "    .dataframe thead th {\n",
       "        text-align: right;\n",
       "    }\n",
       "</style>\n",
       "<table border=\"1\" class=\"dataframe\">\n",
       "  <thead>\n",
       "    <tr style=\"text-align: right;\">\n",
       "      <th></th>\n",
       "      <th>week</th>\n",
       "      <th>store_number</th>\n",
       "      <th>general_alcohol_category</th>\n",
       "      <th>city</th>\n",
       "      <th>county</th>\n",
       "      <th>initial claims</th>\n",
       "      <th>volume_sold_(liters)</th>\n",
       "    </tr>\n",
       "  </thead>\n",
       "  <tbody>\n",
       "    <tr>\n",
       "      <th>0</th>\n",
       "      <td>1</td>\n",
       "      <td>2500</td>\n",
       "      <td>amaretto</td>\n",
       "      <td>AMES</td>\n",
       "      <td>STORY</td>\n",
       "      <td>167.0</td>\n",
       "      <td>6.75</td>\n",
       "    </tr>\n",
       "    <tr>\n",
       "      <th>1</th>\n",
       "      <td>1</td>\n",
       "      <td>2500</td>\n",
       "      <td>amaretto</td>\n",
       "      <td>AMES</td>\n",
       "      <td>STORY</td>\n",
       "      <td>248.0</td>\n",
       "      <td>3.75</td>\n",
       "    </tr>\n",
       "    <tr>\n",
       "      <th>2</th>\n",
       "      <td>1</td>\n",
       "      <td>2500</td>\n",
       "      <td>amaretto</td>\n",
       "      <td>AMES</td>\n",
       "      <td>STORY</td>\n",
       "      <td>306.0</td>\n",
       "      <td>2.25</td>\n",
       "    </tr>\n",
       "    <tr>\n",
       "      <th>3</th>\n",
       "      <td>1</td>\n",
       "      <td>2500</td>\n",
       "      <td>brandy</td>\n",
       "      <td>AMES</td>\n",
       "      <td>STORY</td>\n",
       "      <td>159.0</td>\n",
       "      <td>33.73</td>\n",
       "    </tr>\n",
       "    <tr>\n",
       "      <th>4</th>\n",
       "      <td>1</td>\n",
       "      <td>2500</td>\n",
       "      <td>brandy</td>\n",
       "      <td>AMES</td>\n",
       "      <td>STORY</td>\n",
       "      <td>167.0</td>\n",
       "      <td>33.80</td>\n",
       "    </tr>\n",
       "  </tbody>\n",
       "</table>\n",
       "</div>"
      ],
      "text/plain": [
       "   week  store_number general_alcohol_category  city county  initial claims  \\\n",
       "0     1          2500                 amaretto  AMES  STORY           167.0   \n",
       "1     1          2500                 amaretto  AMES  STORY           248.0   \n",
       "2     1          2500                 amaretto  AMES  STORY           306.0   \n",
       "3     1          2500                   brandy  AMES  STORY           159.0   \n",
       "4     1          2500                   brandy  AMES  STORY           167.0   \n",
       "\n",
       "   volume_sold_(liters)  \n",
       "0                  6.75  \n",
       "1                  3.75  \n",
       "2                  2.25  \n",
       "3                 33.73  \n",
       "4                 33.80  "
      ]
     },
     "execution_count": 112,
     "metadata": {},
     "output_type": "execute_result"
    }
   ],
   "source": [
    "df.head()"
   ]
  },
  {
   "cell_type": "code",
   "execution_count": 113,
   "metadata": {
    "scrolled": true
   },
   "outputs": [
    {
     "data": {
      "text/html": [
       "<div>\n",
       "<style scoped>\n",
       "    .dataframe tbody tr th:only-of-type {\n",
       "        vertical-align: middle;\n",
       "    }\n",
       "\n",
       "    .dataframe tbody tr th {\n",
       "        vertical-align: top;\n",
       "    }\n",
       "\n",
       "    .dataframe thead th {\n",
       "        text-align: right;\n",
       "    }\n",
       "</style>\n",
       "<table border=\"1\" class=\"dataframe\">\n",
       "  <thead>\n",
       "    <tr style=\"text-align: right;\">\n",
       "      <th></th>\n",
       "      <th>week</th>\n",
       "      <th>store_number</th>\n",
       "      <th>initial claims</th>\n",
       "      <th>volume_sold_(liters)</th>\n",
       "    </tr>\n",
       "  </thead>\n",
       "  <tbody>\n",
       "    <tr>\n",
       "      <th>week</th>\n",
       "      <td>1.000000</td>\n",
       "      <td>0.003007</td>\n",
       "      <td>-0.042759</td>\n",
       "      <td>0.031426</td>\n",
       "    </tr>\n",
       "    <tr>\n",
       "      <th>store_number</th>\n",
       "      <td>0.003007</td>\n",
       "      <td>1.000000</td>\n",
       "      <td>0.016256</td>\n",
       "      <td>0.007627</td>\n",
       "    </tr>\n",
       "    <tr>\n",
       "      <th>initial claims</th>\n",
       "      <td>-0.042759</td>\n",
       "      <td>0.016256</td>\n",
       "      <td>1.000000</td>\n",
       "      <td>0.049004</td>\n",
       "    </tr>\n",
       "    <tr>\n",
       "      <th>volume_sold_(liters)</th>\n",
       "      <td>0.031426</td>\n",
       "      <td>0.007627</td>\n",
       "      <td>0.049004</td>\n",
       "      <td>1.000000</td>\n",
       "    </tr>\n",
       "  </tbody>\n",
       "</table>\n",
       "</div>"
      ],
      "text/plain": [
       "                          week  store_number  initial claims  \\\n",
       "week                  1.000000      0.003007       -0.042759   \n",
       "store_number          0.003007      1.000000        0.016256   \n",
       "initial claims       -0.042759      0.016256        1.000000   \n",
       "volume_sold_(liters)  0.031426      0.007627        0.049004   \n",
       "\n",
       "                      volume_sold_(liters)  \n",
       "week                              0.031426  \n",
       "store_number                      0.007627  \n",
       "initial claims                    0.049004  \n",
       "volume_sold_(liters)              1.000000  "
      ]
     },
     "execution_count": 113,
     "metadata": {},
     "output_type": "execute_result"
    }
   ],
   "source": [
    "df.corr()"
   ]
  },
  {
   "cell_type": "code",
   "execution_count": 114,
   "metadata": {},
   "outputs": [],
   "source": [
    "df = pd.concat([df.drop('general_alcohol_category', axis=1), pd.get_dummies(df['general_alcohol_category'])], axis=1)"
   ]
  },
  {
   "cell_type": "code",
   "execution_count": 115,
   "metadata": {},
   "outputs": [],
   "source": [
    "df = pd.concat([df.drop('city', axis = 1),pd.get_dummies(df['city'])], axis=1)"
   ]
  },
  {
   "cell_type": "code",
   "execution_count": 116,
   "metadata": {},
   "outputs": [],
   "source": [
    "df = pd.concat([df.drop('county', axis = 1), pd.get_dummies(df['county'])], axis=1)"
   ]
  },
  {
   "cell_type": "code",
   "execution_count": 117,
   "metadata": {},
   "outputs": [
    {
     "data": {
      "text/plain": [
       "(477063, 171)"
      ]
     },
     "execution_count": 117,
     "metadata": {},
     "output_type": "execute_result"
    }
   ],
   "source": [
    "df.shape"
   ]
  },
  {
   "cell_type": "code",
   "execution_count": 118,
   "metadata": {},
   "outputs": [],
   "source": [
    "from sklearn.model_selection import train_test_split\n",
    "\n",
    "#here I'm ending up with 170 regressors?\n",
    "X = df.drop(['volume_sold_(liters)'], axis =1)\n",
    "y = df[['volume_sold_(liters)']]\n",
    "\n",
    "X_train, X_test, y_train, y_test = train_test_split(X, y, test_size=0.25, random_state = 123)"
   ]
  },
  {
   "cell_type": "code",
   "execution_count": 119,
   "metadata": {},
   "outputs": [],
   "source": [
    "from sklearn import preprocessing\n",
    "scaler = preprocessing.StandardScaler().fit(X_train)\n",
    "X_train_scaled=scaler.transform(X_train)\n",
    "X_test_scaled=scaler.transform(X_test)"
   ]
  },
  {
   "cell_type": "code",
   "execution_count": 120,
   "metadata": {},
   "outputs": [],
   "source": [
    "from sklearn import linear_model\n",
    "rModel = linear_model.LinearRegression()"
   ]
  },
  {
   "cell_type": "code",
   "execution_count": 121,
   "metadata": {},
   "outputs": [],
   "source": [
    "model = rModel.fit(X_train_scaled, y_train)"
   ]
  },
  {
   "cell_type": "code",
   "execution_count": 122,
   "metadata": {},
   "outputs": [
    {
     "name": "stdout",
     "output_type": "stream",
     "text": [
      "0.25076541440228883\n"
     ]
    }
   ],
   "source": [
    "#prints accuracy of the model agains the training data\n",
    "score = model.score(X_train_scaled, y_train)\n",
    "print(score)"
   ]
  },
  {
   "cell_type": "code",
   "execution_count": 123,
   "metadata": {},
   "outputs": [],
   "source": [
    "y_pred = rModel.predict(X_test_scaled)"
   ]
  },
  {
   "cell_type": "code",
   "execution_count": 124,
   "metadata": {},
   "outputs": [
    {
     "data": {
      "text/plain": [
       "<matplotlib.collections.PathCollection at 0x12c0a0d10>"
      ]
     },
     "execution_count": 124,
     "metadata": {},
     "output_type": "execute_result"
    },
    {
     "data": {
      "image/png": "[encoded data removed]",
      "text/plain": [
       "<Figure size 432x288 with 1 Axes>"
      ]
     },
     "metadata": {
      "needs_background": "light"
     },
     "output_type": "display_data"
    }
   ],
   "source": [
    "plt.scatter(y_test,y_pred)"
   ]
  },
  {
   "cell_type": "markdown",
   "metadata": {},
   "source": [
    "## Random Forest"
   ]
  },
  {
   "cell_type": "markdown",
   "metadata": {},
   "source": [
    "For continuous variables"
   ]
  },
  {
   "cell_type": "markdown",
   "metadata": {},
   "source": [
    "Using the same dataset as the linear regression above:\n",
    "    "
   ]
  },
  {
   "cell_type": "code",
   "execution_count": 143,
   "metadata": {},
   "outputs": [],
   "source": [
    "y = np.array(df['volume_sold_(liters)'])\n",
    "X = np.array(X)"
   ]
  },
  {
   "cell_type": "code",
   "execution_count": 144,
   "metadata": {},
   "outputs": [
    {
     "name": "stdout",
     "output_type": "stream",
     "text": [
      "Training Features Shape: (357797, 170)\n",
      "Training Labels Shape: (357797,)\n",
      "Testing Features Shape: (119266, 170)\n",
      "Testing Labels Shape: (119266,)\n"
     ]
    }
   ],
   "source": [
    "print('Training Features Shape:', X_train.shape)\n",
    "print('Training Labels Shape:', y_train.shape)\n",
    "print('Testing Features Shape:', X_test.shape)\n",
    "print('Testing Labels Shape:', y_test.shape)"
   ]
  },
  {
   "cell_type": "code",
   "execution_count": 127,
   "metadata": {},
   "outputs": [],
   "source": [
    "X_train, X_test, y_train, y_test = train_test_split(X, y, test_size=0.25, random_state = 123)"
   ]
  },
  {
   "cell_type": "code",
   "execution_count": 128,
   "metadata": {},
   "outputs": [],
   "source": [
    "#scale data\n",
    "from sklearn import preprocessing\n",
    "import numpy as np\n",
    "# build scaler based on training data and apply it to test data to then also scale the test data\n",
    "scaler = preprocessing.StandardScaler().fit(X_train)\n",
    "X_train_scaled=scaler.transform(X_train)\n",
    "X_test_scaled=scaler.transform(X_test)"
   ]
  },
  {
   "cell_type": "code",
   "execution_count": 129,
   "metadata": {},
   "outputs": [],
   "source": [
    "#what's the point of this scaling?"
   ]
  },
  {
   "cell_type": "code",
   "execution_count": 130,
   "metadata": {},
   "outputs": [
    {
     "data": {
      "text/plain": [
       "(357797, 170)"
      ]
     },
     "execution_count": 130,
     "metadata": {},
     "output_type": "execute_result"
    }
   ],
   "source": [
    "X_train_scaled.shape"
   ]
  },
  {
   "cell_type": "code",
   "execution_count": 131,
   "metadata": {},
   "outputs": [
    {
     "data": {
      "text/plain": [
       "RandomForestRegressor(bootstrap=True, criterion='mse', max_depth=None,\n",
       "                      max_features='auto', max_leaf_nodes=None,\n",
       "                      min_impurity_decrease=0.0, min_impurity_split=None,\n",
       "                      min_samples_leaf=1, min_samples_split=2,\n",
       "                      min_weight_fraction_leaf=0.0, n_estimators=10,\n",
       "                      n_jobs=None, oob_score=False, random_state=42, verbose=0,\n",
       "                      warm_start=False)"
      ]
     },
     "execution_count": 131,
     "metadata": {},
     "output_type": "execute_result"
    }
   ],
   "source": [
    "rf = RandomForestRegressor(n_estimators = 10, random_state = 42)\n",
    "\n",
    "rf.fit(X_train_scaled, y_train)"
   ]
  },
  {
   "cell_type": "code",
   "execution_count": 132,
   "metadata": {},
   "outputs": [
    {
     "name": "stdout",
     "output_type": "stream",
     "text": [
      "Mean Absolute Error: 69.61\n"
     ]
    }
   ],
   "source": [
    "predictions = rf.predict(X_test_scaled)\n",
    "# Calculate the absolute errors\n",
    "errors = abs(predictions - y_test)\n",
    "# Print out the mean absolute error (mae)\n",
    "print('Mean Absolute Error:', round(np.mean(errors), 2))"
   ]
  },
  {
   "cell_type": "code",
   "execution_count": 133,
   "metadata": {},
   "outputs": [],
   "source": [
    "feature_list = list(df.columns)"
   ]
  },
  {
   "cell_type": "code",
   "execution_count": 134,
   "metadata": {},
   "outputs": [
    {
     "name": "stdout",
     "output_type": "stream",
     "text": [
      "Variable: store_number         Importance: 0.28\n",
      "Variable: initial claims       Importance: 0.22\n",
      "Variable: week                 Importance: 0.2\n",
      "Variable: tequila              Importance: 0.09\n",
      "Variable: vodka                Importance: 0.09\n",
      "Variable: DENISON              Importance: 0.02\n",
      "Variable: gin                  Importance: 0.01\n",
      "Variable: other                Importance: 0.01\n",
      "Variable: TOLEDO               Importance: 0.01\n",
      "Variable: JEFFERSON            Importance: 0.01\n",
      "Variable: volume_sold_(liters) Importance: 0.0\n",
      "Variable: amaretto             Importance: 0.0\n",
      "Variable: bourbon              Importance: 0.0\n",
      "Variable: brandy               Importance: 0.0\n",
      "Variable: cocktail             Importance: 0.0\n",
      "Variable: creme                Importance: 0.0\n",
      "Variable: rum                  Importance: 0.0\n",
      "Variable: scotch               Importance: 0.0\n",
      "Variable: spirit               Importance: 0.0\n",
      "Variable: whiskey              Importance: 0.0\n",
      "Variable: ALBIA                Importance: 0.0\n",
      "Variable: ALGONA               Importance: 0.0\n",
      "Variable: ALTOONA              Importance: 0.0\n",
      "Variable: AMES                 Importance: 0.0\n",
      "Variable: ANKENY               Importance: 0.0\n",
      "Variable: ATLANTIC             Importance: 0.0\n",
      "Variable: BEDFORD              Importance: 0.0\n",
      "Variable: BETTENDORF           Importance: 0.0\n",
      "Variable: BOONE                Importance: 0.0\n",
      "Variable: BURLINGTON           Importance: 0.0\n",
      "Variable: CARROLL              Importance: 0.0\n",
      "Variable: CEDAR FALLS          Importance: 0.0\n",
      "Variable: CEDAR RAPIDS         Importance: 0.0\n",
      "Variable: CENTERVILLE          Importance: 0.0\n",
      "Variable: CHARITON             Importance: 0.0\n",
      "Variable: CHARLES CITY         Importance: 0.0\n",
      "Variable: CHEROKEE             Importance: 0.0\n",
      "Variable: CLARINDA             Importance: 0.0\n",
      "Variable: CLINTON              Importance: 0.0\n",
      "Variable: CLIVE                Importance: 0.0\n",
      "Variable: CORALVILLE           Importance: 0.0\n",
      "Variable: CORNING              Importance: 0.0\n",
      "Variable: CORYDON              Importance: 0.0\n",
      "Variable: COUNCIL BLUFFS       Importance: 0.0\n",
      "Variable: CRESCO               Importance: 0.0\n",
      "Variable: CRESTON              Importance: 0.0\n",
      "Variable: DAVENPORT            Importance: 0.0\n",
      "Variable: DES MOINES           Importance: 0.0\n",
      "Variable: DUBUQUE              Importance: 0.0\n",
      "Variable: DYERSVILLE           Importance: 0.0\n",
      "Variable: ELDORA               Importance: 0.0\n",
      "Variable: EMMETSBURG           Importance: 0.0\n",
      "Variable: ESTHERVILLE          Importance: 0.0\n",
      "Variable: FAIRFIELD            Importance: 0.0\n",
      "Variable: FOREST CITY          Importance: 0.0\n",
      "Variable: FORT DODGE           Importance: 0.0\n",
      "Variable: FORT MADISON         Importance: 0.0\n",
      "Variable: GARNER               Importance: 0.0\n",
      "Variable: GRINNELL             Importance: 0.0\n",
      "Variable: HAMPTON              Importance: 0.0\n",
      "Variable: HARLAN               Importance: 0.0\n",
      "Variable: HUMBOLDT             Importance: 0.0\n",
      "Variable: INDIANOLA            Importance: 0.0\n",
      "Variable: IOWA CITY            Importance: 0.0\n",
      "Variable: IOWA FALLS           Importance: 0.0\n",
      "Variable: JEFFERSON            Importance: 0.0\n",
      "Variable: JOHNSTON             Importance: 0.0\n",
      "Variable: KEOKUK               Importance: 0.0\n",
      "Variable: KNOXVILLE            Importance: 0.0\n",
      "Variable: LAMONI               Importance: 0.0\n",
      "Variable: LE MARS              Importance: 0.0\n",
      "Variable: LEMARS               Importance: 0.0\n",
      "Variable: LEON                 Importance: 0.0\n",
      "Variable: MARION               Importance: 0.0\n",
      "Variable: MARSHALLTOWN         Importance: 0.0\n",
      "Variable: MASON CITY           Importance: 0.0\n",
      "Variable: MOUNT AYR            Importance: 0.0\n",
      "Variable: MOUNT PLEASANT       Importance: 0.0\n",
      "Variable: MUSCATINE            Importance: 0.0\n",
      "Variable: NEWTON               Importance: 0.0\n",
      "Variable: OSCEOLA              Importance: 0.0\n",
      "Variable: OSKALOOSA            Importance: 0.0\n",
      "Variable: OTTUMWA              Importance: 0.0\n",
      "Variable: OTTUWMA              Importance: 0.0\n",
      "Variable: PELLA                Importance: 0.0\n",
      "Variable: PERRY                Importance: 0.0\n",
      "Variable: PLEASANT HILL        Importance: 0.0\n",
      "Variable: RED OAK              Importance: 0.0\n",
      "Variable: SHELDON              Importance: 0.0\n",
      "Variable: SHENANDOAH           Importance: 0.0\n",
      "Variable: SIOUX CITY           Importance: 0.0\n",
      "Variable: SPENCER              Importance: 0.0\n",
      "Variable: SPIRIT LAKE          Importance: 0.0\n",
      "Variable: STORM LAKE           Importance: 0.0\n",
      "Variable: URBANDALE            Importance: 0.0\n",
      "Variable: VINTON               Importance: 0.0\n",
      "Variable: WASHINGTON           Importance: 0.0\n",
      "Variable: WATERLOO             Importance: 0.0\n",
      "Variable: WAUKEE               Importance: 0.0\n",
      "Variable: WAUKON               Importance: 0.0\n",
      "Variable: WAVERLY              Importance: 0.0\n",
      "Variable: WEBSTER CITY         Importance: 0.0\n",
      "Variable: WEST DES MOINES      Importance: 0.0\n",
      "Variable: WINDSOR HEIGHTS      Importance: 0.0\n",
      "Variable: WINTERSET            Importance: 0.0\n",
      "Variable: ADAMS                Importance: 0.0\n",
      "Variable: ALLAMAKEE            Importance: 0.0\n",
      "Variable: APPANOOSE            Importance: 0.0\n",
      "Variable: BENTON               Importance: 0.0\n",
      "Variable: BLACK HAWK           Importance: 0.0\n",
      "Variable: BOONE                Importance: 0.0\n",
      "Variable: BREMER               Importance: 0.0\n",
      "Variable: BUENA VISTA          Importance: 0.0\n",
      "Variable: CARROLL              Importance: 0.0\n",
      "Variable: CASS                 Importance: 0.0\n",
      "Variable: CERRO GORDO          Importance: 0.0\n",
      "Variable: CHEROKEE             Importance: 0.0\n",
      "Variable: CLARKE               Importance: 0.0\n",
      "Variable: CLAY                 Importance: 0.0\n",
      "Variable: CLAYTON              Importance: 0.0\n",
      "Variable: CLINTON              Importance: 0.0\n",
      "Variable: CRAWFORD             Importance: 0.0\n",
      "Variable: DALLAS               Importance: 0.0\n",
      "Variable: DECATUR              Importance: 0.0\n",
      "Variable: DES MOINES           Importance: 0.0\n",
      "Variable: DICKINSON            Importance: 0.0\n",
      "Variable: DUBUQUE              Importance: 0.0\n",
      "Variable: EMMET                Importance: 0.0\n",
      "Variable: FLOYD                Importance: 0.0\n",
      "Variable: FRANKLIN             Importance: 0.0\n",
      "Variable: GREENE               Importance: 0.0\n",
      "Variable: HAMILTON             Importance: 0.0\n",
      "Variable: HANCOCK              Importance: 0.0\n",
      "Variable: HARDIN               Importance: 0.0\n",
      "Variable: HENRY                Importance: 0.0\n",
      "Variable: HOWARD               Importance: 0.0\n",
      "Variable: HUMBOLDT             Importance: 0.0\n",
      "Variable: JASPER               Importance: 0.0\n",
      "Variable: JOHNSON              Importance: 0.0\n",
      "Variable: KOSSUTH              Importance: 0.0\n",
      "Variable: LEE                  Importance: 0.0\n",
      "Variable: LINN                 Importance: 0.0\n",
      "Variable: LUCAS                Importance: 0.0\n",
      "Variable: MADISON              Importance: 0.0\n",
      "Variable: MAHASKA              Importance: 0.0\n",
      "Variable: MARION               Importance: 0.0\n",
      "Variable: MARSHALL             Importance: 0.0\n",
      "Variable: MONROE               Importance: 0.0\n",
      "Variable: MONTGOMERY           Importance: 0.0\n",
      "Variable: MUSCATINE            Importance: 0.0\n",
      "Variable: O'BRIEN              Importance: 0.0\n",
      "Variable: PAGE                 Importance: 0.0\n",
      "Variable: PALO ALTO            Importance: 0.0\n",
      "Variable: PLYMOUTH             Importance: 0.0\n",
      "Variable: POLK                 Importance: 0.0\n",
      "Variable: POTTAWATTAMIE        Importance: 0.0\n",
      "Variable: POWESHIEK            Importance: 0.0\n",
      "Variable: RINGGOLD             Importance: 0.0\n",
      "Variable: SCOTT                Importance: 0.0\n",
      "Variable: SHELBY               Importance: 0.0\n",
      "Variable: STORY                Importance: 0.0\n",
      "Variable: TAMA                 Importance: 0.0\n",
      "Variable: TAYLOR               Importance: 0.0\n",
      "Variable: UNION                Importance: 0.0\n",
      "Variable: WAPELLO              Importance: 0.0\n",
      "Variable: WARREN               Importance: 0.0\n",
      "Variable: WASHINGTON           Importance: 0.0\n",
      "Variable: WAYNE                Importance: 0.0\n",
      "Variable: WEBSTER              Importance: 0.0\n",
      "Variable: WINNEBAGO            Importance: 0.0\n"
     ]
    }
   ],
   "source": [
    "# Get numerical feature importances\n",
    "importances = list(rf.feature_importances_)\n",
    "# List of tuples with variable and importance\n",
    "feature_importances = [(feature, round(importance, 2)) for feature, importance in zip(feature_list, importances)]\n",
    "# Sort the feature importances by most important first\n",
    "feature_importances = sorted(feature_importances, key = lambda x: x[1], reverse = True)\n",
    "# Print out the feature and importances \n",
    "[print('Variable: {:20} Importance: {}'.format(*pair)) for pair in feature_importances];"
   ]
  },
  {
   "cell_type": "code",
   "execution_count": 135,
   "metadata": {},
   "outputs": [
    {
     "name": "stdout",
     "output_type": "stream",
     "text": [
      "30\n"
     ]
    },
    {
     "data": {
      "image/png": "[encoded data removed]",
      "text/plain": [
       "<Figure size 720x720 with 1 Axes>"
      ]
     },
     "metadata": {
      "needs_background": "light"
     },
     "output_type": "display_data"
    }
   ],
   "source": [
    "pos = np.arange(sorted_idx.shape[0]) + .5\n",
    "print(pos.size)\n",
    "sorted_idx.size\n",
    "plt.figure(figsize=(10,10))\n",
    "plt.barh(pos, feature_importance[sorted_idx], align='center')\n",
    "plt.yticks(pos, df.columns[sorted_idx])\n",
    "plt.xlabel('Relative Importance')\n",
    "plt.title('Variable Importance')\n",
    "plt.show()"
   ]
  },
  {
   "cell_type": "markdown",
   "metadata": {},
   "source": [
    "## Decision Tree\n"
   ]
  },
  {
   "cell_type": "code",
   "execution_count": 136,
   "metadata": {},
   "outputs": [],
   "source": [
    "from sklearn.tree import DecisionTreeRegressor"
   ]
  },
  {
   "cell_type": "code",
   "execution_count": 137,
   "metadata": {},
   "outputs": [
    {
     "data": {
      "text/plain": [
       "DecisionTreeRegressor(criterion='mse', max_depth=None, max_features=None,\n",
       "                      max_leaf_nodes=None, min_impurity_decrease=0.0,\n",
       "                      min_impurity_split=None, min_samples_leaf=1,\n",
       "                      min_samples_split=2, min_weight_fraction_leaf=0.0,\n",
       "                      presort=False, random_state=1234, splitter='best')"
      ]
     },
     "execution_count": 137,
     "metadata": {},
     "output_type": "execute_result"
    }
   ],
   "source": [
    "# Declare a variable called entr_model, and assign it: tree.DecisionTreeClassifier(criterion=\"entropy\", random_state = 1234)\n",
    "entr_model = tree.DecisionTreeRegressor(random_state = 1234)\n",
    "\n",
    "# Call fit() on entr_model, and pass in X_train and y_train, in that order \n",
    "entr_model.fit(X_train_scaled, y_train)\n",
    "\n",
    "# Call predict() on entr_model with X_test passed to it, and assign the result to a variable y_pred \n",
    "y_pred = entr_model.predict(X_test_scaled)\n",
    "\n",
    "# Assign y_pred the following: pd.Series(y_pred)\n",
    "y_pred = pd.Series(y_pred)\n",
    "\n",
    "# Check out entr_model\n",
    "entr_model"
   ]
  },
  {
   "cell_type": "code",
   "execution_count": 138,
   "metadata": {},
   "outputs": [
    {
     "data": {
      "text/plain": [
       "57666.09366963259"
      ]
     },
     "execution_count": 138,
     "metadata": {},
     "output_type": "execute_result"
    }
   ],
   "source": [
    "from sklearn import metrics\n",
    "from sklearn.metrics import mean_squared_error\n",
    "mean_squared_error(y_test, y_pred)"
   ]
  },
  {
   "cell_type": "code",
   "execution_count": 139,
   "metadata": {},
   "outputs": [
    {
     "data": {
      "text/plain": [
       "124.97621736286956"
      ]
     },
     "execution_count": 139,
     "metadata": {},
     "output_type": "execute_result"
    }
   ],
   "source": [
    "np.mean(y_test)"
   ]
  },
  {
   "cell_type": "code",
   "execution_count": 140,
   "metadata": {},
   "outputs": [],
   "source": [
    "from sklearn.metrics import r2_score"
   ]
  },
  {
   "cell_type": "code",
   "execution_count": 141,
   "metadata": {},
   "outputs": [
    {
     "data": {
      "text/plain": [
       "0.20031147575344"
      ]
     },
     "execution_count": 141,
     "metadata": {},
     "output_type": "execute_result"
    }
   ],
   "source": [
    "#same as above but scaled betweeen 0-1\n",
    "r2_score(y_test, y_pred)"
   ]
  },
  {
   "cell_type": "code",
   "execution_count": 142,
   "metadata": {},
   "outputs": [
    {
     "name": "stdout",
     "output_type": "stream",
     "text": [
      "Variable: store_number         Importance: 0.28\n",
      "Variable: initial claims       Importance: 0.22\n",
      "Variable: week                 Importance: 0.2\n",
      "Variable: tequila              Importance: 0.09\n",
      "Variable: vodka                Importance: 0.09\n",
      "Variable: DENISON              Importance: 0.02\n",
      "Variable: gin                  Importance: 0.01\n",
      "Variable: other                Importance: 0.01\n",
      "Variable: BURLINGTON           Importance: 0.01\n",
      "Variable: TOLEDO               Importance: 0.01\n",
      "Variable: JEFFERSON            Importance: 0.01\n",
      "Variable: volume_sold_(liters) Importance: 0.0\n",
      "Variable: amaretto             Importance: 0.0\n",
      "Variable: bourbon              Importance: 0.0\n",
      "Variable: brandy               Importance: 0.0\n",
      "Variable: cocktail             Importance: 0.0\n",
      "Variable: creme                Importance: 0.0\n",
      "Variable: rum                  Importance: 0.0\n",
      "Variable: scotch               Importance: 0.0\n",
      "Variable: spirit               Importance: 0.0\n",
      "Variable: whiskey              Importance: 0.0\n",
      "Variable: ALBIA                Importance: 0.0\n",
      "Variable: ALGONA               Importance: 0.0\n",
      "Variable: ALTOONA              Importance: 0.0\n",
      "Variable: AMES                 Importance: 0.0\n",
      "Variable: ANKENY               Importance: 0.0\n",
      "Variable: ATLANTIC             Importance: 0.0\n",
      "Variable: BEDFORD              Importance: 0.0\n",
      "Variable: BETTENDORF           Importance: 0.0\n",
      "Variable: BOONE                Importance: 0.0\n",
      "Variable: CARROLL              Importance: 0.0\n",
      "Variable: CEDAR FALLS          Importance: 0.0\n",
      "Variable: CEDAR RAPIDS         Importance: 0.0\n",
      "Variable: CENTERVILLE          Importance: 0.0\n",
      "Variable: CHARITON             Importance: 0.0\n",
      "Variable: CHARLES CITY         Importance: 0.0\n",
      "Variable: CHEROKEE             Importance: 0.0\n",
      "Variable: CLARINDA             Importance: 0.0\n",
      "Variable: CLINTON              Importance: 0.0\n",
      "Variable: CLIVE                Importance: 0.0\n",
      "Variable: CORALVILLE           Importance: 0.0\n",
      "Variable: CORNING              Importance: 0.0\n",
      "Variable: CORYDON              Importance: 0.0\n",
      "Variable: COUNCIL BLUFFS       Importance: 0.0\n",
      "Variable: CRESCO               Importance: 0.0\n",
      "Variable: CRESTON              Importance: 0.0\n",
      "Variable: DAVENPORT            Importance: 0.0\n",
      "Variable: DES MOINES           Importance: 0.0\n",
      "Variable: DUBUQUE              Importance: 0.0\n",
      "Variable: DYERSVILLE           Importance: 0.0\n",
      "Variable: ELDORA               Importance: 0.0\n",
      "Variable: EMMETSBURG           Importance: 0.0\n",
      "Variable: ESTHERVILLE          Importance: 0.0\n",
      "Variable: FAIRFIELD            Importance: 0.0\n",
      "Variable: FOREST CITY          Importance: 0.0\n",
      "Variable: FORT DODGE           Importance: 0.0\n",
      "Variable: FORT MADISON         Importance: 0.0\n",
      "Variable: GARNER               Importance: 0.0\n",
      "Variable: GRINNELL             Importance: 0.0\n",
      "Variable: HAMPTON              Importance: 0.0\n",
      "Variable: HARLAN               Importance: 0.0\n",
      "Variable: HUMBOLDT             Importance: 0.0\n",
      "Variable: INDIANOLA            Importance: 0.0\n",
      "Variable: IOWA CITY            Importance: 0.0\n",
      "Variable: IOWA FALLS           Importance: 0.0\n",
      "Variable: JEFFERSON            Importance: 0.0\n",
      "Variable: JOHNSTON             Importance: 0.0\n",
      "Variable: KEOKUK               Importance: 0.0\n",
      "Variable: KNOXVILLE            Importance: 0.0\n",
      "Variable: LAMONI               Importance: 0.0\n",
      "Variable: LE MARS              Importance: 0.0\n",
      "Variable: LEMARS               Importance: 0.0\n",
      "Variable: LEON                 Importance: 0.0\n",
      "Variable: MARION               Importance: 0.0\n",
      "Variable: MARSHALLTOWN         Importance: 0.0\n",
      "Variable: MASON CITY           Importance: 0.0\n",
      "Variable: MOUNT AYR            Importance: 0.0\n",
      "Variable: MOUNT PLEASANT       Importance: 0.0\n",
      "Variable: MUSCATINE            Importance: 0.0\n",
      "Variable: NEWTON               Importance: 0.0\n",
      "Variable: OSCEOLA              Importance: 0.0\n",
      "Variable: OSKALOOSA            Importance: 0.0\n",
      "Variable: OTTUMWA              Importance: 0.0\n",
      "Variable: OTTUWMA              Importance: 0.0\n",
      "Variable: PELLA                Importance: 0.0\n",
      "Variable: PERRY                Importance: 0.0\n",
      "Variable: PLEASANT HILL        Importance: 0.0\n",
      "Variable: RED OAK              Importance: 0.0\n",
      "Variable: SHELDON              Importance: 0.0\n",
      "Variable: SHENANDOAH           Importance: 0.0\n",
      "Variable: SIOUX CITY           Importance: 0.0\n",
      "Variable: SPENCER              Importance: 0.0\n",
      "Variable: SPIRIT LAKE          Importance: 0.0\n",
      "Variable: STORM LAKE           Importance: 0.0\n",
      "Variable: URBANDALE            Importance: 0.0\n",
      "Variable: VINTON               Importance: 0.0\n",
      "Variable: WASHINGTON           Importance: 0.0\n",
      "Variable: WATERLOO             Importance: 0.0\n",
      "Variable: WAUKEE               Importance: 0.0\n",
      "Variable: WAUKON               Importance: 0.0\n",
      "Variable: WAVERLY              Importance: 0.0\n",
      "Variable: WEBSTER CITY         Importance: 0.0\n",
      "Variable: WEST DES MOINES      Importance: 0.0\n",
      "Variable: WINDSOR HEIGHTS      Importance: 0.0\n",
      "Variable: WINTERSET            Importance: 0.0\n",
      "Variable: ADAMS                Importance: 0.0\n",
      "Variable: ALLAMAKEE            Importance: 0.0\n",
      "Variable: APPANOOSE            Importance: 0.0\n",
      "Variable: BENTON               Importance: 0.0\n",
      "Variable: BLACK HAWK           Importance: 0.0\n",
      "Variable: BOONE                Importance: 0.0\n",
      "Variable: BREMER               Importance: 0.0\n",
      "Variable: BUENA VISTA          Importance: 0.0\n",
      "Variable: CARROLL              Importance: 0.0\n",
      "Variable: CASS                 Importance: 0.0\n",
      "Variable: CERRO GORDO          Importance: 0.0\n",
      "Variable: CHEROKEE             Importance: 0.0\n",
      "Variable: CLARKE               Importance: 0.0\n",
      "Variable: CLAY                 Importance: 0.0\n",
      "Variable: CLAYTON              Importance: 0.0\n",
      "Variable: CLINTON              Importance: 0.0\n",
      "Variable: CRAWFORD             Importance: 0.0\n",
      "Variable: DALLAS               Importance: 0.0\n",
      "Variable: DECATUR              Importance: 0.0\n",
      "Variable: DES MOINES           Importance: 0.0\n",
      "Variable: DICKINSON            Importance: 0.0\n",
      "Variable: DUBUQUE              Importance: 0.0\n",
      "Variable: EMMET                Importance: 0.0\n",
      "Variable: FLOYD                Importance: 0.0\n",
      "Variable: FRANKLIN             Importance: 0.0\n",
      "Variable: GREENE               Importance: 0.0\n",
      "Variable: HAMILTON             Importance: 0.0\n",
      "Variable: HANCOCK              Importance: 0.0\n",
      "Variable: HARDIN               Importance: 0.0\n",
      "Variable: HENRY                Importance: 0.0\n",
      "Variable: HOWARD               Importance: 0.0\n",
      "Variable: HUMBOLDT             Importance: 0.0\n",
      "Variable: JASPER               Importance: 0.0\n",
      "Variable: JOHNSON              Importance: 0.0\n",
      "Variable: KOSSUTH              Importance: 0.0\n",
      "Variable: LEE                  Importance: 0.0\n",
      "Variable: LINN                 Importance: 0.0\n",
      "Variable: LUCAS                Importance: 0.0\n",
      "Variable: MADISON              Importance: 0.0\n",
      "Variable: MAHASKA              Importance: 0.0\n",
      "Variable: MARION               Importance: 0.0\n",
      "Variable: MARSHALL             Importance: 0.0\n",
      "Variable: MONROE               Importance: 0.0\n",
      "Variable: MONTGOMERY           Importance: 0.0\n",
      "Variable: MUSCATINE            Importance: 0.0\n",
      "Variable: O'BRIEN              Importance: 0.0\n",
      "Variable: PAGE                 Importance: 0.0\n",
      "Variable: PALO ALTO            Importance: 0.0\n",
      "Variable: PLYMOUTH             Importance: 0.0\n",
      "Variable: POLK                 Importance: 0.0\n",
      "Variable: POTTAWATTAMIE        Importance: 0.0\n",
      "Variable: POWESHIEK            Importance: 0.0\n",
      "Variable: RINGGOLD             Importance: 0.0\n",
      "Variable: SCOTT                Importance: 0.0\n",
      "Variable: SHELBY               Importance: 0.0\n",
      "Variable: STORY                Importance: 0.0\n",
      "Variable: TAMA                 Importance: 0.0\n",
      "Variable: TAYLOR               Importance: 0.0\n",
      "Variable: UNION                Importance: 0.0\n",
      "Variable: WAPELLO              Importance: 0.0\n",
      "Variable: WARREN               Importance: 0.0\n",
      "Variable: WASHINGTON           Importance: 0.0\n",
      "Variable: WAYNE                Importance: 0.0\n",
      "Variable: WEBSTER              Importance: 0.0\n",
      "Variable: WINNEBAGO            Importance: 0.0\n"
     ]
    }
   ],
   "source": [
    "# Get numerical feature importances\n",
    "importances = list(entr_model.feature_importances_)\n",
    "# List of tuples with variable and importance\n",
    "feature_importances = [(feature, round(importance, 2)) for feature, importance in zip(feature_list, importances)]\n",
    "# Sort the feature importances by most important first\n",
    "feature_importances = sorted(feature_importances, key = lambda x: x[1], reverse = True)\n",
    "# Print out the feature and importances \n",
    "[print('Variable: {:20} Importance: {}'.format(*pair)) for pair in feature_importances];"
   ]
  }
 ],
 "metadata": {
  "kernelspec": {
   "display_name": "Python 3",
   "language": "python",
   "name": "python3"
  },
  "language_info": {
   "codemirror_mode": {
    "name": "ipython",
    "version": 3
   },
   "file_extension": ".py",
   "mimetype": "text/x-python",
   "name": "python",
   "nbconvert_exporter": "python",
   "pygments_lexer": "ipython3",
   "version": "3.7.4"
  }
 },
 "nbformat": 4,
 "nbformat_minor": 2
}
