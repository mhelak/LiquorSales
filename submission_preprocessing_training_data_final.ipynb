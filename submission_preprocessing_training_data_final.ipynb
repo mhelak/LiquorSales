{
 "cells": [
  {
   "cell_type": "markdown",
   "metadata": {},
   "source": [
    "## Pre-processing and Training Data Development"
   ]
  },
  {
   "cell_type": "markdown",
   "metadata": {},
   "source": [
    "The purpose of this notebook is to preprocess data and prepare it for the next steps in modeling."
   ]
  },
  {
   "cell_type": "code",
   "execution_count": 1,
   "metadata": {},
   "outputs": [
    {
     "name": "stderr",
     "output_type": "stream",
     "text": [
      "/opt/anaconda3/lib/python3.7/site-packages/statsmodels/tools/_testing.py:19: FutureWarning: pandas.util.testing is deprecated. Use the functions in the public API at pandas.testing instead.\n",
      "  import pandas.util.testing as tm\n"
     ]
    }
   ],
   "source": [
    "import pandas as pd\n",
    "import matplotlib.pyplot as plt\n",
    "import seaborn as sns\n",
    "import numpy as np"
   ]
  },
  {
   "cell_type": "code",
   "execution_count": 2,
   "metadata": {},
   "outputs": [],
   "source": [
    "df = pd.read_csv('liquor_dataset_.csv', index_col = 0, dtype={'week': object, 'store_number': object})"
   ]
  },
  {
   "cell_type": "code",
   "execution_count": 3,
   "metadata": {},
   "outputs": [
    {
     "data": {
      "text/plain": [
       "(477063, 7)"
      ]
     },
     "execution_count": 3,
     "metadata": {},
     "output_type": "execute_result"
    }
   ],
   "source": [
    "df.shape"
   ]
  },
  {
   "cell_type": "code",
   "execution_count": 4,
   "metadata": {},
   "outputs": [
    {
     "data": {
      "text/html": [
       "<div>\n",
       "<style scoped>\n",
       "    .dataframe tbody tr th:only-of-type {\n",
       "        vertical-align: middle;\n",
       "    }\n",
       "\n",
       "    .dataframe tbody tr th {\n",
       "        vertical-align: top;\n",
       "    }\n",
       "\n",
       "    .dataframe thead th {\n",
       "        text-align: right;\n",
       "    }\n",
       "</style>\n",
       "<table border=\"1\" class=\"dataframe\">\n",
       "  <thead>\n",
       "    <tr style=\"text-align: right;\">\n",
       "      <th></th>\n",
       "      <th>week</th>\n",
       "      <th>store_number</th>\n",
       "      <th>general_alcohol_category</th>\n",
       "      <th>city</th>\n",
       "      <th>county</th>\n",
       "      <th>initial claims</th>\n",
       "      <th>volume_sold_(liters)</th>\n",
       "    </tr>\n",
       "  </thead>\n",
       "  <tbody>\n",
       "    <tr>\n",
       "      <th>0</th>\n",
       "      <td>1</td>\n",
       "      <td>2500</td>\n",
       "      <td>amaretto</td>\n",
       "      <td>AMES</td>\n",
       "      <td>STORY</td>\n",
       "      <td>167.0</td>\n",
       "      <td>6.75</td>\n",
       "    </tr>\n",
       "    <tr>\n",
       "      <th>1</th>\n",
       "      <td>1</td>\n",
       "      <td>2500</td>\n",
       "      <td>amaretto</td>\n",
       "      <td>AMES</td>\n",
       "      <td>STORY</td>\n",
       "      <td>248.0</td>\n",
       "      <td>3.75</td>\n",
       "    </tr>\n",
       "    <tr>\n",
       "      <th>2</th>\n",
       "      <td>1</td>\n",
       "      <td>2500</td>\n",
       "      <td>amaretto</td>\n",
       "      <td>AMES</td>\n",
       "      <td>STORY</td>\n",
       "      <td>306.0</td>\n",
       "      <td>2.25</td>\n",
       "    </tr>\n",
       "    <tr>\n",
       "      <th>3</th>\n",
       "      <td>1</td>\n",
       "      <td>2500</td>\n",
       "      <td>brandy</td>\n",
       "      <td>AMES</td>\n",
       "      <td>STORY</td>\n",
       "      <td>159.0</td>\n",
       "      <td>33.73</td>\n",
       "    </tr>\n",
       "    <tr>\n",
       "      <th>4</th>\n",
       "      <td>1</td>\n",
       "      <td>2500</td>\n",
       "      <td>brandy</td>\n",
       "      <td>AMES</td>\n",
       "      <td>STORY</td>\n",
       "      <td>167.0</td>\n",
       "      <td>33.80</td>\n",
       "    </tr>\n",
       "  </tbody>\n",
       "</table>\n",
       "</div>"
      ],
      "text/plain": [
       "  week store_number general_alcohol_category  city county  initial claims  \\\n",
       "0    1         2500                 amaretto  AMES  STORY           167.0   \n",
       "1    1         2500                 amaretto  AMES  STORY           248.0   \n",
       "2    1         2500                 amaretto  AMES  STORY           306.0   \n",
       "3    1         2500                   brandy  AMES  STORY           159.0   \n",
       "4    1         2500                   brandy  AMES  STORY           167.0   \n",
       "\n",
       "   volume_sold_(liters)  \n",
       "0                  6.75  \n",
       "1                  3.75  \n",
       "2                  2.25  \n",
       "3                 33.73  \n",
       "4                 33.80  "
      ]
     },
     "execution_count": 4,
     "metadata": {},
     "output_type": "execute_result"
    }
   ],
   "source": [
    "df.head()"
   ]
  },
  {
   "cell_type": "code",
   "execution_count": 5,
   "metadata": {},
   "outputs": [
    {
     "name": "stdout",
     "output_type": "stream",
     "text": [
      "<class 'pandas.core.frame.DataFrame'>\n",
      "Int64Index: 477063 entries, 0 to 477062\n",
      "Data columns (total 7 columns):\n",
      " #   Column                    Non-Null Count   Dtype  \n",
      "---  ------                    --------------   -----  \n",
      " 0   week                      477063 non-null  object \n",
      " 1   store_number              477063 non-null  object \n",
      " 2   general_alcohol_category  477063 non-null  object \n",
      " 3   city                      477063 non-null  object \n",
      " 4   county                    477063 non-null  object \n",
      " 5   initial claims            477063 non-null  float64\n",
      " 6   volume_sold_(liters)      477063 non-null  float64\n",
      "dtypes: float64(2), object(5)\n",
      "memory usage: 29.1+ MB\n"
     ]
    }
   ],
   "source": [
    "df.info()"
   ]
  },
  {
   "cell_type": "markdown",
   "metadata": {},
   "source": [
    "Since most variables are categorical, checking the correlation coefficient is not too useful."
   ]
  },
  {
   "cell_type": "code",
   "execution_count": 6,
   "metadata": {
    "scrolled": true
   },
   "outputs": [
    {
     "data": {
      "text/html": [
       "<div>\n",
       "<style scoped>\n",
       "    .dataframe tbody tr th:only-of-type {\n",
       "        vertical-align: middle;\n",
       "    }\n",
       "\n",
       "    .dataframe tbody tr th {\n",
       "        vertical-align: top;\n",
       "    }\n",
       "\n",
       "    .dataframe thead th {\n",
       "        text-align: right;\n",
       "    }\n",
       "</style>\n",
       "<table border=\"1\" class=\"dataframe\">\n",
       "  <thead>\n",
       "    <tr style=\"text-align: right;\">\n",
       "      <th></th>\n",
       "      <th>initial claims</th>\n",
       "      <th>volume_sold_(liters)</th>\n",
       "    </tr>\n",
       "  </thead>\n",
       "  <tbody>\n",
       "    <tr>\n",
       "      <th>initial claims</th>\n",
       "      <td>1.000000</td>\n",
       "      <td>0.049004</td>\n",
       "    </tr>\n",
       "    <tr>\n",
       "      <th>volume_sold_(liters)</th>\n",
       "      <td>0.049004</td>\n",
       "      <td>1.000000</td>\n",
       "    </tr>\n",
       "  </tbody>\n",
       "</table>\n",
       "</div>"
      ],
      "text/plain": [
       "                      initial claims  volume_sold_(liters)\n",
       "initial claims              1.000000              0.049004\n",
       "volume_sold_(liters)        0.049004              1.000000"
      ]
     },
     "execution_count": 6,
     "metadata": {},
     "output_type": "execute_result"
    }
   ],
   "source": [
    "df.corr()"
   ]
  },
  {
   "cell_type": "markdown",
   "metadata": {},
   "source": [
    "## Dummy Variable Creation\n",
    "For each of the categorical variables, conversion to dummy variables was imperative. As each dummy variable creates multiple columns, the dataframe becomes much larger after all features are concatenated."
   ]
  },
  {
   "cell_type": "code",
   "execution_count": 7,
   "metadata": {},
   "outputs": [],
   "source": [
    "df = pd.concat([df.drop('general_alcohol_category', axis=1), pd.get_dummies(df['general_alcohol_category'])], axis=1)"
   ]
  },
  {
   "cell_type": "code",
   "execution_count": 8,
   "metadata": {},
   "outputs": [],
   "source": [
    "df = pd.concat([df.drop('city', axis = 1),pd.get_dummies(df['city'])], axis=1)"
   ]
  },
  {
   "cell_type": "code",
   "execution_count": 9,
   "metadata": {},
   "outputs": [],
   "source": [
    "df = pd.concat([df.drop('county', axis = 1), pd.get_dummies(df['county'])], axis=1)"
   ]
  },
  {
   "cell_type": "code",
   "execution_count": 10,
   "metadata": {},
   "outputs": [
    {
     "data": {
      "text/plain": [
       "(477063, 171)"
      ]
     },
     "execution_count": 10,
     "metadata": {},
     "output_type": "execute_result"
    }
   ],
   "source": [
    "df.shape"
   ]
  },
  {
   "cell_type": "markdown",
   "metadata": {},
   "source": [
    "## Train test Split\n",
    "\n",
    "At this stage it is appropriate to split the dataset into two parts. I have chosen a 0.75 to 0.25 train test split. "
   ]
  },
  {
   "cell_type": "code",
   "execution_count": 13,
   "metadata": {},
   "outputs": [],
   "source": [
    "from sklearn.model_selection import train_test_split\n",
    "\n",
    "#here I'm ending up with 170 regressors?\n",
    "X = df.drop(['volume_sold_(liters)'], axis =1)\n",
    "y = df[['volume_sold_(liters)']]\n",
    "\n",
    "X_train, X_test, y_train, y_test = train_test_split(X, y, test_size=0.25, random_state = 123)"
   ]
  },
  {
   "cell_type": "markdown",
   "metadata": {},
   "source": [
    "## Scaling the Features\n",
    "\n",
    "Here I resort to standard scaler which assumes each feature's data is normally distributed. It scales the data such so that it is centered around 0, and has a standard deviation of 1."
   ]
  },
  {
   "cell_type": "code",
   "execution_count": 14,
   "metadata": {},
   "outputs": [],
   "source": [
    "from sklearn import preprocessing\n",
    "scaler = preprocessing.StandardScaler().fit(X_train)\n",
    "X_train_scaled=scaler.transform(X_train)\n",
    "X_test_scaled=scaler.transform(X_test)"
   ]
  },
  {
   "cell_type": "markdown",
   "metadata": {},
   "source": [
    "The next steps are to proceed with modeling."
   ]
  }
 ],
 "metadata": {
  "kernelspec": {
   "display_name": "Python 3",
   "language": "python",
   "name": "python3"
  },
  "language_info": {
   "codemirror_mode": {
    "name": "ipython",
    "version": 3
   },
   "file_extension": ".py",
   "mimetype": "text/x-python",
   "name": "python",
   "nbconvert_exporter": "python",
   "pygments_lexer": "ipython3",
   "version": "3.7.4"
  }
 },
 "nbformat": 4,
 "nbformat_minor": 2
}
