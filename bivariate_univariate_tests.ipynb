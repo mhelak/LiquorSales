{
 "cells": [
  {
   "cell_type": "markdown",
   "metadata": {},
   "source": [
    "# Univariate, bivariate and multivariate charts"
   ]
  },
  {
   "cell_type": "markdown",
   "metadata": {},
   "source": [
    "The purpose of this notebook is to look at the relationships between the regressors and the target variable."
   ]
  },
  {
   "cell_type": "code",
   "execution_count": 1,
   "metadata": {},
   "outputs": [
    {
     "data": {
      "text/plain": [
       "'/Users/Monika/GitHub/Iowa Liquor Sales/LiquorSales/data'"
      ]
     },
     "execution_count": 1,
     "metadata": {},
     "output_type": "execute_result"
    }
   ],
   "source": [
    "pwd"
   ]
  },
  {
   "cell_type": "code",
   "execution_count": 203,
   "metadata": {},
   "outputs": [],
   "source": [
    "import pandas as pd\n",
    "import matplotlib.pyplot as plt\n",
    "import numpy as np\n",
    "import scipy.stats"
   ]
  },
  {
   "cell_type": "code",
   "execution_count": 128,
   "metadata": {},
   "outputs": [
    {
     "name": "stderr",
     "output_type": "stream",
     "text": [
      "/opt/anaconda3/lib/python3.7/site-packages/IPython/core/interactiveshell.py:3058: DtypeWarning: Columns (15,28) have mixed types.Specify dtype option on import or set low_memory=False.\n",
      "  interactivity=interactivity, compiler=compiler, result=result)\n"
     ]
    }
   ],
   "source": [
    "dff= pd.read_csv('Hy_vee_clean.csv', index_col= None)"
   ]
  },
  {
   "cell_type": "code",
   "execution_count": 129,
   "metadata": {},
   "outputs": [
    {
     "data": {
      "text/plain": [
       "(6458510, 44)"
      ]
     },
     "execution_count": 129,
     "metadata": {},
     "output_type": "execute_result"
    }
   ],
   "source": [
    "dff.shape"
   ]
  },
  {
   "cell_type": "code",
   "execution_count": 130,
   "metadata": {},
   "outputs": [
    {
     "name": "stdout",
     "output_type": "stream",
     "text": [
      "<class 'pandas.core.frame.DataFrame'>\n",
      "RangeIndex: 6458510 entries, 0 to 6458509\n",
      "Data columns (total 44 columns):\n",
      " #   Column                    Dtype  \n",
      "---  ------                    -----  \n",
      " 0   Unnamed: 0                int64  \n",
      " 1   invoice_number            object \n",
      " 2   date                      object \n",
      " 3   store_number              int64  \n",
      " 4   store_name                object \n",
      " 5   address                   object \n",
      " 6   city                      object \n",
      " 7   zip_code                  float64\n",
      " 8   store_location            object \n",
      " 9   county_number             float64\n",
      " 10  county                    object \n",
      " 11  category                  float64\n",
      " 12  category_name             object \n",
      " 13  vendor_number             float64\n",
      " 14  vendor_name               object \n",
      " 15  item_number               object \n",
      " 16  item_description          object \n",
      " 17  pack                      int64  \n",
      " 18  bottle_volume_(ml)        int64  \n",
      " 19  state_bottle_cost         float64\n",
      " 20  state_bottle_retail       float64\n",
      " 21  bottles_sold              int64  \n",
      " 22  sale_(dollars)            float64\n",
      " 23  volume_sold_(liters)      float64\n",
      " 24  volume_sold_(gallons)     float64\n",
      " 25  year                      int64  \n",
      " 26  month                     int64  \n",
      " 27  initial claims            float64\n",
      " 28  imported                  object \n",
      " 29  rum                       bool   \n",
      " 30  vodka                     bool   \n",
      " 31  liquer                    bool   \n",
      " 32  brandy                    bool   \n",
      " 33  whiskey                   bool   \n",
      " 34  tequila                   bool   \n",
      " 35  cocktail                  bool   \n",
      " 36  gin                       bool   \n",
      " 37  scotch                    bool   \n",
      " 38  creme                     bool   \n",
      " 39  amaretto                  bool   \n",
      " 40  bourbon                   bool   \n",
      " 41  spirit                    bool   \n",
      " 42  other                     bool   \n",
      " 43  general_alcohol_category  object \n",
      "dtypes: bool(14), float64(10), int64(7), object(13)\n",
      "memory usage: 1.5+ GB\n"
     ]
    }
   ],
   "source": [
    "dff.info()"
   ]
  },
  {
   "cell_type": "markdown",
   "metadata": {},
   "source": [
    "Creating a new dataframe in which contains all the location descriptions."
   ]
  },
  {
   "cell_type": "code",
   "execution_count": 131,
   "metadata": {},
   "outputs": [],
   "source": [
    "location = dff[['store_number', 'store_name', 'address', 'city', 'zip_code', 'store_location', 'county_number', 'county']]"
   ]
  },
  {
   "cell_type": "code",
   "execution_count": 132,
   "metadata": {},
   "outputs": [],
   "source": [
    "#computer correlation matrix\n",
    "correlation = location.corr()"
   ]
  },
  {
   "cell_type": "code",
   "execution_count": 133,
   "metadata": {},
   "outputs": [
    {
     "data": {
      "text/plain": [
       "<matplotlib.axes._subplots.AxesSubplot at 0x1c63f5210>"
      ]
     },
     "execution_count": 133,
     "metadata": {},
     "output_type": "execute_result"
    },
    {
     "data": {
      "image/png": "[encoded data removed]",
      "text/plain": [
       "<Figure size 432x288 with 2 Axes>"
      ]
     },
     "metadata": {
      "needs_background": "light"
     },
     "output_type": "display_data"
    }
   ],
   "source": [
    "mask = np.triu(np.ones_like(correlation, dtype=bool))\n",
    "cmap = sns.diverging_palette(230, 20, as_cmap=True)\n",
    "sns.heatmap(correlation, mask=mask, cmap=cmap, vmax=.3, center=0,\n",
    "            square=True, linewidths=.5, cbar_kws={\"shrink\": .5})"
   ]
  },
  {
   "cell_type": "markdown",
   "metadata": {},
   "source": [
    "The heatmap only shows numerical variables. Also - heatmap doesn't make sense because it evaluates zip code as and store numbers as a continuous variable as opposed to a categorical one. For a meaningful result, I would have to convert all zipcodes to dummy variables, but that's unnecessary as I will be dropping them anyways.\n"
   ]
  },
  {
   "cell_type": "markdown",
   "metadata": {},
   "source": [
    "Need to drop some regressors that have overlapping significance..\n",
    "\n",
    "- invoice number: unique for each transaction, do not need to keep\n",
    "- store_name: correlated with store number\n",
    "- address: also correlated with store number\n",
    "- store location: also correlated with store number\n",
    "- county number: correlated with county\n",
    "- category: correlated with category name\n",
    "- vendor name: correlated with vendor number\n",
    "- item description: will keep item number instead\n",
    "- bottle volume: not interested in bottle volume\n",
    "- bottles sold: not interested in bottles sold\n",
    "- volume sold (gallons): will keep volume sold (liters) instead\n",
    "\n",
    "\n"
   ]
  },
  {
   "cell_type": "code",
   "execution_count": 134,
   "metadata": {},
   "outputs": [
    {
     "data": {
      "text/plain": [
       "(6458510, 32)"
      ]
     },
     "execution_count": 134,
     "metadata": {},
     "output_type": "execute_result"
    }
   ],
   "source": [
    "dff = dff.drop(['Unnamed: 0','invoice_number', 'store_name', 'address', 'store_location', 'county_number', 'category', 'vendor_name', 'item_description', 'bottle_volume_(ml)', 'bottles_sold', 'volume_sold_(gallons)'], axis =1)\n",
    "dff.shape"
   ]
  },
  {
   "cell_type": "code",
   "execution_count": 135,
   "metadata": {},
   "outputs": [
    {
     "data": {
      "text/plain": [
       "Index(['date', 'store_number', 'city', 'zip_code', 'county', 'category_name',\n",
       "       'vendor_number', 'item_number', 'pack', 'state_bottle_cost',\n",
       "       'state_bottle_retail', 'sale_(dollars)', 'volume_sold_(liters)', 'year',\n",
       "       'month', 'initial claims', 'imported', 'rum', 'vodka', 'liquer',\n",
       "       'brandy', 'whiskey', 'tequila', 'cocktail', 'gin', 'scotch', 'creme',\n",
       "       'amaretto', 'bourbon', 'spirit', 'other', 'general_alcohol_category'],\n",
       "      dtype='object')"
      ]
     },
     "execution_count": 135,
     "metadata": {},
     "output_type": "execute_result"
    }
   ],
   "source": [
    "dff.columns"
   ]
  },
  {
   "cell_type": "markdown",
   "metadata": {},
   "source": [
    "We are now left with 32 categorical variables."
   ]
  },
  {
   "cell_type": "markdown",
   "metadata": {},
   "source": [
    "This dataset is going to not contain the dummy variables for general_alcohol_category"
   ]
  },
  {
   "cell_type": "code",
   "execution_count": 136,
   "metadata": {},
   "outputs": [
    {
     "data": {
      "text/plain": [
       "(6458510, 17)"
      ]
     },
     "execution_count": 136,
     "metadata": {},
     "output_type": "execute_result"
    }
   ],
   "source": [
    "dff_1 = dff[['date', 'store_number', 'city', 'zip_code', 'county', 'category_name', 'vendor_number', 'item_number', 'pack', 'state_bottle_cost', 'state_bottle_retail', 'sale_(dollars)', 'volume_sold_(liters)', 'year', 'month', 'initial claims', 'general_alcohol_category']]\n",
    "dff_1.shape"
   ]
  },
  {
   "cell_type": "markdown",
   "metadata": {},
   "source": [
    "## Bivariate charts"
   ]
  },
  {
   "cell_type": "markdown",
   "metadata": {},
   "source": [
    "- #### Date"
   ]
  },
  {
   "cell_type": "markdown",
   "metadata": {},
   "source": [
    "First we need to take a look at the transactions over time. Taking a closer look at the 'date' column..."
   ]
  },
  {
   "cell_type": "code",
   "execution_count": 167,
   "metadata": {},
   "outputs": [
    {
     "data": {
      "text/plain": [
       "0    2015-08-31\n",
       "1    2014-05-23\n",
       "2    2015-02-17\n",
       "3    2014-01-20\n",
       "4    2013-08-14\n",
       "Name: date, dtype: object"
      ]
     },
     "execution_count": 167,
     "metadata": {},
     "output_type": "execute_result"
    }
   ],
   "source": [
    "dff['date'].head()"
   ]
  },
  {
   "cell_type": "code",
   "execution_count": 171,
   "metadata": {},
   "outputs": [],
   "source": [
    "dff['date'] =  pd.to_datetime(dff['date'], format='%Y-%m-%d')"
   ]
  },
  {
   "cell_type": "code",
   "execution_count": 172,
   "metadata": {},
   "outputs": [],
   "source": [
    "dff_2=dff_1.groupby(['date'])[['volume_sold_(liters)']].count().sort_values(by = 'date', ascending=False)"
   ]
  },
  {
   "cell_type": "code",
   "execution_count": 173,
   "metadata": {},
   "outputs": [
    {
     "data": {
      "text/plain": [
       "[<matplotlib.lines.Line2D at 0x28e424ad0>]"
      ]
     },
     "execution_count": 173,
     "metadata": {},
     "output_type": "execute_result"
    },
    {
     "data": {
      "image/png": "[encoded data removed]",
      "text/plain": [
       "<Figure size 432x288 with 1 Axes>"
      ]
     },
     "metadata": {
      "needs_background": "light"
     },
     "output_type": "display_data"
    }
   ],
   "source": [
    "Volume = dff_2['volume_sold_(liters)']\n",
    "\n",
    "\n",
    "plt.plot(Volume)"
   ]
  },
  {
   "cell_type": "markdown",
   "metadata": {},
   "source": [
    "A slightly better version..."
   ]
  },
  {
   "cell_type": "code",
   "execution_count": 175,
   "metadata": {},
   "outputs": [],
   "source": [
    "dfft = dff['sale_(dollars)'].groupby([dff['date'].dt.date]).sum()\n",
    "dfft.index = pd.to_datetime(dfft.index)"
   ]
  },
  {
   "cell_type": "code",
   "execution_count": 176,
   "metadata": {},
   "outputs": [
    {
     "data": {
      "text/plain": [
       "Text(0, 0.5, 'Revenue in dollars')"
      ]
     },
     "execution_count": 176,
     "metadata": {},
     "output_type": "execute_result"
    },
    {
     "data": {
      "image/png": "[encoded data removed]",
      "text/plain": [
       "<Figure size 1080x504 with 1 Axes>"
      ]
     },
     "metadata": {
      "needs_background": "light"
     },
     "output_type": "display_data"
    }
   ],
   "source": [
    "fig, ax = plt.subplots(figsize=(15,7))\n",
    "dfft.plot(ax=ax)\n",
    "plt.title('Liquor Sales in the State of Iowa')\n",
    "plt.ylabel('Revenue in dollars')"
   ]
  },
  {
   "cell_type": "markdown",
   "metadata": {},
   "source": [
    "-  #### Store Number"
   ]
  },
  {
   "cell_type": "markdown",
   "metadata": {},
   "source": [
    "Store number needs to be converted to a categorical variable."
   ]
  },
  {
   "cell_type": "code",
   "execution_count": 177,
   "metadata": {},
   "outputs": [
    {
     "data": {
      "text/plain": [
       "178"
      ]
     },
     "execution_count": 177,
     "metadata": {},
     "output_type": "execute_result"
    }
   ],
   "source": [
    "dff['store_number'] = dff['store_number'].astype('object')\n",
    "dff['store_number'].nunique()"
   ]
  },
  {
   "cell_type": "markdown",
   "metadata": {},
   "source": [
    "As the number of stores is really large, I will be looking at the store with the highest volume sales."
   ]
  },
  {
   "cell_type": "code",
   "execution_count": 141,
   "metadata": {},
   "outputs": [
    {
     "data": {
      "text/html": [
       "<div>\n",
       "<style scoped>\n",
       "    .dataframe tbody tr th:only-of-type {\n",
       "        vertical-align: middle;\n",
       "    }\n",
       "\n",
       "    .dataframe tbody tr th {\n",
       "        vertical-align: top;\n",
       "    }\n",
       "\n",
       "    .dataframe thead th {\n",
       "        text-align: right;\n",
       "    }\n",
       "</style>\n",
       "<table border=\"1\" class=\"dataframe\">\n",
       "  <thead>\n",
       "    <tr style=\"text-align: right;\">\n",
       "      <th></th>\n",
       "      <th>mean</th>\n",
       "      <th>std</th>\n",
       "    </tr>\n",
       "    <tr>\n",
       "      <th>store_number</th>\n",
       "      <th></th>\n",
       "      <th></th>\n",
       "    </tr>\n",
       "  </thead>\n",
       "  <tbody>\n",
       "    <tr>\n",
       "      <th>2500</th>\n",
       "      <td>7.667822</td>\n",
       "      <td>20.365975</td>\n",
       "    </tr>\n",
       "    <tr>\n",
       "      <th>2501</th>\n",
       "      <td>9.721031</td>\n",
       "      <td>25.831504</td>\n",
       "    </tr>\n",
       "    <tr>\n",
       "      <th>2502</th>\n",
       "      <td>12.040934</td>\n",
       "      <td>34.376281</td>\n",
       "    </tr>\n",
       "    <tr>\n",
       "      <th>2503</th>\n",
       "      <td>7.671571</td>\n",
       "      <td>32.014869</td>\n",
       "    </tr>\n",
       "    <tr>\n",
       "      <th>2505</th>\n",
       "      <td>9.213167</td>\n",
       "      <td>38.509062</td>\n",
       "    </tr>\n",
       "    <tr>\n",
       "      <th>...</th>\n",
       "      <td>...</td>\n",
       "      <td>...</td>\n",
       "    </tr>\n",
       "    <tr>\n",
       "      <th>2715</th>\n",
       "      <td>27.430876</td>\n",
       "      <td>146.537450</td>\n",
       "    </tr>\n",
       "    <tr>\n",
       "      <th>2716</th>\n",
       "      <td>14.278807</td>\n",
       "      <td>30.227606</td>\n",
       "    </tr>\n",
       "    <tr>\n",
       "      <th>2717</th>\n",
       "      <td>0.264286</td>\n",
       "      <td>0.100178</td>\n",
       "    </tr>\n",
       "    <tr>\n",
       "      <th>2718</th>\n",
       "      <td>16.974825</td>\n",
       "      <td>37.754759</td>\n",
       "    </tr>\n",
       "    <tr>\n",
       "      <th>2720</th>\n",
       "      <td>2.758533</td>\n",
       "      <td>3.549216</td>\n",
       "    </tr>\n",
       "  </tbody>\n",
       "</table>\n",
       "<p>178 rows × 2 columns</p>\n",
       "</div>"
      ],
      "text/plain": [
       "                   mean         std\n",
       "store_number                       \n",
       "2500           7.667822   20.365975\n",
       "2501           9.721031   25.831504\n",
       "2502          12.040934   34.376281\n",
       "2503           7.671571   32.014869\n",
       "2505           9.213167   38.509062\n",
       "...                 ...         ...\n",
       "2715          27.430876  146.537450\n",
       "2716          14.278807   30.227606\n",
       "2717           0.264286    0.100178\n",
       "2718          16.974825   37.754759\n",
       "2720           2.758533    3.549216\n",
       "\n",
       "[178 rows x 2 columns]"
      ]
     },
     "execution_count": 141,
     "metadata": {},
     "output_type": "execute_result"
    },
    {
     "data": {
      "image/png": "[encoded data removed]",
      "text/plain": [
       "<Figure size 432x288 with 1 Axes>"
      ]
     },
     "metadata": {
      "needs_background": "light"
     },
     "output_type": "display_data"
    }
   ],
   "source": [
    "#Plot of volume sold per store\n",
    "dff_0=dff.groupby(['store_number'])[['volume_sold_(liters)']].count().sort_values(by = 'volume_sold_(liters)', ascending=False)[0:10]\n",
    "dff_3 = dff[dff['store_number'].isin(dff_0.index.values.tolist())]\n",
    "\n",
    "dff_3.boxplot(column=['volume_sold_(liters)'],by = ['store_number'], rot=90).set_yscale('log')\n",
    "plt.ylabel(\"volume_sold_(liters)\")\n",
    "pd.DataFrame(dff.groupby(['store_number'])['volume_sold_(liters)'].describe().loc[:,['mean','std']])"
   ]
  },
  {
   "cell_type": "markdown",
   "metadata": {},
   "source": [
    "- #### City"
   ]
  },
  {
   "cell_type": "markdown",
   "metadata": {},
   "source": [
    "There are 88 different cities"
   ]
  },
  {
   "cell_type": "code",
   "execution_count": 142,
   "metadata": {},
   "outputs": [
    {
     "data": {
      "text/plain": [
       "88"
      ]
     },
     "execution_count": 142,
     "metadata": {},
     "output_type": "execute_result"
    }
   ],
   "source": [
    "dff['city'].nunique()\n"
   ]
  },
  {
   "cell_type": "code",
   "execution_count": 143,
   "metadata": {},
   "outputs": [
    {
     "data": {
      "text/html": [
       "<div>\n",
       "<style scoped>\n",
       "    .dataframe tbody tr th:only-of-type {\n",
       "        vertical-align: middle;\n",
       "    }\n",
       "\n",
       "    .dataframe tbody tr th {\n",
       "        vertical-align: top;\n",
       "    }\n",
       "\n",
       "    .dataframe thead th {\n",
       "        text-align: right;\n",
       "    }\n",
       "</style>\n",
       "<table border=\"1\" class=\"dataframe\">\n",
       "  <thead>\n",
       "    <tr style=\"text-align: right;\">\n",
       "      <th></th>\n",
       "      <th>mean</th>\n",
       "      <th>std</th>\n",
       "    </tr>\n",
       "    <tr>\n",
       "      <th>city</th>\n",
       "      <th></th>\n",
       "      <th></th>\n",
       "    </tr>\n",
       "  </thead>\n",
       "  <tbody>\n",
       "    <tr>\n",
       "      <th>ALBIA</th>\n",
       "      <td>7.448929</td>\n",
       "      <td>7.490798</td>\n",
       "    </tr>\n",
       "    <tr>\n",
       "      <th>ALGONA</th>\n",
       "      <td>10.344858</td>\n",
       "      <td>32.581877</td>\n",
       "    </tr>\n",
       "    <tr>\n",
       "      <th>ALTOONA</th>\n",
       "      <td>10.374093</td>\n",
       "      <td>33.450087</td>\n",
       "    </tr>\n",
       "    <tr>\n",
       "      <th>AMES</th>\n",
       "      <td>7.999941</td>\n",
       "      <td>22.331663</td>\n",
       "    </tr>\n",
       "    <tr>\n",
       "      <th>ANKENY</th>\n",
       "      <td>10.234322</td>\n",
       "      <td>30.125821</td>\n",
       "    </tr>\n",
       "    <tr>\n",
       "      <th>...</th>\n",
       "      <td>...</td>\n",
       "      <td>...</td>\n",
       "    </tr>\n",
       "    <tr>\n",
       "      <th>WAVERLY</th>\n",
       "      <td>8.581183</td>\n",
       "      <td>30.513859</td>\n",
       "    </tr>\n",
       "    <tr>\n",
       "      <th>WEBSTER CITY</th>\n",
       "      <td>6.198363</td>\n",
       "      <td>32.816049</td>\n",
       "    </tr>\n",
       "    <tr>\n",
       "      <th>WEST DES MOINES</th>\n",
       "      <td>9.404220</td>\n",
       "      <td>29.066961</td>\n",
       "    </tr>\n",
       "    <tr>\n",
       "      <th>WINDSOR HEIGHTS</th>\n",
       "      <td>7.114017</td>\n",
       "      <td>24.975239</td>\n",
       "    </tr>\n",
       "    <tr>\n",
       "      <th>WINTERSET</th>\n",
       "      <td>10.167193</td>\n",
       "      <td>26.711960</td>\n",
       "    </tr>\n",
       "  </tbody>\n",
       "</table>\n",
       "<p>88 rows × 2 columns</p>\n",
       "</div>"
      ],
      "text/plain": [
       "                      mean        std\n",
       "city                                 \n",
       "ALBIA             7.448929   7.490798\n",
       "ALGONA           10.344858  32.581877\n",
       "ALTOONA          10.374093  33.450087\n",
       "AMES              7.999941  22.331663\n",
       "ANKENY           10.234322  30.125821\n",
       "...                    ...        ...\n",
       "WAVERLY           8.581183  30.513859\n",
       "WEBSTER CITY      6.198363  32.816049\n",
       "WEST DES MOINES   9.404220  29.066961\n",
       "WINDSOR HEIGHTS   7.114017  24.975239\n",
       "WINTERSET        10.167193  26.711960\n",
       "\n",
       "[88 rows x 2 columns]"
      ]
     },
     "execution_count": 143,
     "metadata": {},
     "output_type": "execute_result"
    },
    {
     "data": {
      "image/png": "[encoded data removed]",
      "text/plain": [
       "<Figure size 432x288 with 1 Axes>"
      ]
     },
     "metadata": {
      "needs_background": "light"
     },
     "output_type": "display_data"
    }
   ],
   "source": [
    "dff_0=dff.groupby(['city'])[['volume_sold_(liters)']].count().sort_values(by = 'volume_sold_(liters)', ascending=False)[0:10]\n",
    "dff_3 = dff[dff['city'].isin(dff_0.index.values.tolist())]\n",
    "\n",
    "dff_3.boxplot(column=['volume_sold_(liters)'],by = ['city'], rot=90).set_yscale('log')\n",
    "plt.ylabel(\"volume_sold_(liters)\")\n",
    "pd.DataFrame(dff.groupby(['city'])['volume_sold_(liters)'].describe().loc[:,['mean','std']])"
   ]
  },
  {
   "cell_type": "markdown",
   "metadata": {},
   "source": [
    "The mean volume sales per transaction in each city appear to be homogenous."
   ]
  },
  {
   "cell_type": "markdown",
   "metadata": {},
   "source": [
    "- #### Zip Code\n"
   ]
  },
  {
   "cell_type": "code",
   "execution_count": 144,
   "metadata": {},
   "outputs": [],
   "source": [
    "dff['zip_code'] = dff['zip_code'].astype('object')"
   ]
  },
  {
   "cell_type": "code",
   "execution_count": 147,
   "metadata": {},
   "outputs": [
    {
     "data": {
      "text/plain": [
       "(6458510, 32)"
      ]
     },
     "execution_count": 147,
     "metadata": {},
     "output_type": "execute_result"
    }
   ],
   "source": [
    "dff.shape"
   ]
  },
  {
   "cell_type": "code",
   "execution_count": 148,
   "metadata": {},
   "outputs": [],
   "source": [
    "# dff_0=dff.groupby(['zip_code'])[['volume_sold_(liters)']].count().sort_values(by = 'volume_sold_(liters)', ascending=False)[0:10]\n",
    "# dff_3 = dff[dff['zip_code'].isin(dff_0.index.values.tolist())]\n",
    "\n",
    "# dff_3.boxplot(column=['volume_sold_(liters)'],by = ['zip_code'], rot=90)\n",
    "# plt.ylabel(\"volume_sold_(liters)\")\n",
    "# pd.DataFrame(dff.groupby(['zip_code'])['volume_sold_(liters)'].describe().loc[:,['mean','std']])"
   ]
  },
  {
   "cell_type": "markdown",
   "metadata": {},
   "source": [
    "- #### County"
   ]
  },
  {
   "cell_type": "code",
   "execution_count": 152,
   "metadata": {},
   "outputs": [
    {
     "data": {
      "text/html": [
       "<div>\n",
       "<style scoped>\n",
       "    .dataframe tbody tr th:only-of-type {\n",
       "        vertical-align: middle;\n",
       "    }\n",
       "\n",
       "    .dataframe tbody tr th {\n",
       "        vertical-align: top;\n",
       "    }\n",
       "\n",
       "    .dataframe thead th {\n",
       "        text-align: right;\n",
       "    }\n",
       "</style>\n",
       "<table border=\"1\" class=\"dataframe\">\n",
       "  <thead>\n",
       "    <tr style=\"text-align: right;\">\n",
       "      <th></th>\n",
       "      <th>mean</th>\n",
       "      <th>std</th>\n",
       "    </tr>\n",
       "    <tr>\n",
       "      <th>county</th>\n",
       "      <th></th>\n",
       "      <th></th>\n",
       "    </tr>\n",
       "  </thead>\n",
       "  <tbody>\n",
       "    <tr>\n",
       "      <th>ADAMS</th>\n",
       "      <td>5.297766</td>\n",
       "      <td>5.712865</td>\n",
       "    </tr>\n",
       "    <tr>\n",
       "      <th>ALLAMAKEE</th>\n",
       "      <td>16.974825</td>\n",
       "      <td>37.754759</td>\n",
       "    </tr>\n",
       "    <tr>\n",
       "      <th>APPANOOSE</th>\n",
       "      <td>7.047465</td>\n",
       "      <td>23.041682</td>\n",
       "    </tr>\n",
       "    <tr>\n",
       "      <th>BENTON</th>\n",
       "      <td>10.817891</td>\n",
       "      <td>25.961434</td>\n",
       "    </tr>\n",
       "    <tr>\n",
       "      <th>BLACK HAWK</th>\n",
       "      <td>7.363194</td>\n",
       "      <td>25.330541</td>\n",
       "    </tr>\n",
       "    <tr>\n",
       "      <th>...</th>\n",
       "      <td>...</td>\n",
       "      <td>...</td>\n",
       "    </tr>\n",
       "    <tr>\n",
       "      <th>WASHINGTON</th>\n",
       "      <td>6.997854</td>\n",
       "      <td>31.144932</td>\n",
       "    </tr>\n",
       "    <tr>\n",
       "      <th>WAYNE</th>\n",
       "      <td>7.267525</td>\n",
       "      <td>4.635150</td>\n",
       "    </tr>\n",
       "    <tr>\n",
       "      <th>WEBSTER</th>\n",
       "      <td>13.592391</td>\n",
       "      <td>42.831502</td>\n",
       "    </tr>\n",
       "    <tr>\n",
       "      <th>WINNEBAGO</th>\n",
       "      <td>4.737422</td>\n",
       "      <td>8.223429</td>\n",
       "    </tr>\n",
       "    <tr>\n",
       "      <th>WOODBURY</th>\n",
       "      <td>7.793518</td>\n",
       "      <td>15.747083</td>\n",
       "    </tr>\n",
       "  </tbody>\n",
       "</table>\n",
       "<p>72 rows × 2 columns</p>\n",
       "</div>"
      ],
      "text/plain": [
       "                 mean        std\n",
       "county                          \n",
       "ADAMS        5.297766   5.712865\n",
       "ALLAMAKEE   16.974825  37.754759\n",
       "APPANOOSE    7.047465  23.041682\n",
       "BENTON      10.817891  25.961434\n",
       "BLACK HAWK   7.363194  25.330541\n",
       "...               ...        ...\n",
       "WASHINGTON   6.997854  31.144932\n",
       "WAYNE        7.267525   4.635150\n",
       "WEBSTER     13.592391  42.831502\n",
       "WINNEBAGO    4.737422   8.223429\n",
       "WOODBURY     7.793518  15.747083\n",
       "\n",
       "[72 rows x 2 columns]"
      ]
     },
     "execution_count": 152,
     "metadata": {},
     "output_type": "execute_result"
    },
    {
     "data": {
      "image/png": "[encoded data removed]",
      "text/plain": [
       "<Figure size 432x288 with 1 Axes>"
      ]
     },
     "metadata": {
      "needs_background": "light"
     },
     "output_type": "display_data"
    }
   ],
   "source": [
    "dff_0=dff.groupby(['county'])[['volume_sold_(liters)']].count().sort_values(by = 'volume_sold_(liters)', ascending=False)[0:10]\n",
    "dff_3 = dff[dff['county'].isin(dff_0.index.values.tolist())]\n",
    "\n",
    "dff_3.boxplot(column=['volume_sold_(liters)'],by = ['county'], rot=90).set_yscale('log')\n",
    "plt.ylabel(\"volume_sold_(liters)\")\n",
    "pd.DataFrame(dff.groupby(['county'])['volume_sold_(liters)'].describe().loc[:,['mean','std']])"
   ]
  },
  {
   "cell_type": "markdown",
   "metadata": {},
   "source": [
    "- #### Category Name"
   ]
  },
  {
   "cell_type": "code",
   "execution_count": 149,
   "metadata": {},
   "outputs": [
    {
     "data": {
      "text/html": [
       "<div>\n",
       "<style scoped>\n",
       "    .dataframe tbody tr th:only-of-type {\n",
       "        vertical-align: middle;\n",
       "    }\n",
       "\n",
       "    .dataframe tbody tr th {\n",
       "        vertical-align: top;\n",
       "    }\n",
       "\n",
       "    .dataframe thead th {\n",
       "        text-align: right;\n",
       "    }\n",
       "</style>\n",
       "<table border=\"1\" class=\"dataframe\">\n",
       "  <thead>\n",
       "    <tr style=\"text-align: right;\">\n",
       "      <th></th>\n",
       "      <th>mean</th>\n",
       "      <th>std</th>\n",
       "    </tr>\n",
       "    <tr>\n",
       "      <th>category_name</th>\n",
       "      <th></th>\n",
       "      <th></th>\n",
       "    </tr>\n",
       "  </thead>\n",
       "  <tbody>\n",
       "    <tr>\n",
       "      <th>100 PROOF VODKA</th>\n",
       "      <td>9.664684</td>\n",
       "      <td>18.359547</td>\n",
       "    </tr>\n",
       "    <tr>\n",
       "      <th>100% AGAVE TEQUILA</th>\n",
       "      <td>5.449455</td>\n",
       "      <td>13.574638</td>\n",
       "    </tr>\n",
       "    <tr>\n",
       "      <th>AGED DARK RUM</th>\n",
       "      <td>4.916330</td>\n",
       "      <td>8.246610</td>\n",
       "    </tr>\n",
       "    <tr>\n",
       "      <th>AMARETTO - IMPORTED</th>\n",
       "      <td>9.828947</td>\n",
       "      <td>3.602320</td>\n",
       "    </tr>\n",
       "    <tr>\n",
       "      <th>AMERICAN ALCOHOL</th>\n",
       "      <td>9.008856</td>\n",
       "      <td>5.250240</td>\n",
       "    </tr>\n",
       "    <tr>\n",
       "      <th>...</th>\n",
       "      <td>...</td>\n",
       "      <td>...</td>\n",
       "    </tr>\n",
       "    <tr>\n",
       "      <th>WATERMELON SCHNAPPS</th>\n",
       "      <td>8.899316</td>\n",
       "      <td>11.867725</td>\n",
       "    </tr>\n",
       "    <tr>\n",
       "      <th>WHISKEY LIQUEUR</th>\n",
       "      <td>11.201833</td>\n",
       "      <td>35.492048</td>\n",
       "    </tr>\n",
       "    <tr>\n",
       "      <th>WHITE CREME DE CACAO</th>\n",
       "      <td>4.069006</td>\n",
       "      <td>3.810397</td>\n",
       "    </tr>\n",
       "    <tr>\n",
       "      <th>WHITE CREME DE MENTHE</th>\n",
       "      <td>3.870703</td>\n",
       "      <td>3.595641</td>\n",
       "    </tr>\n",
       "    <tr>\n",
       "      <th>WHITE RUM</th>\n",
       "      <td>12.335284</td>\n",
       "      <td>27.426025</td>\n",
       "    </tr>\n",
       "  </tbody>\n",
       "</table>\n",
       "<p>107 rows × 2 columns</p>\n",
       "</div>"
      ],
      "text/plain": [
       "                            mean        std\n",
       "category_name                              \n",
       "100 PROOF VODKA         9.664684  18.359547\n",
       "100% AGAVE TEQUILA      5.449455  13.574638\n",
       "AGED DARK RUM           4.916330   8.246610\n",
       "AMARETTO - IMPORTED     9.828947   3.602320\n",
       "AMERICAN ALCOHOL        9.008856   5.250240\n",
       "...                          ...        ...\n",
       "WATERMELON SCHNAPPS     8.899316  11.867725\n",
       "WHISKEY LIQUEUR        11.201833  35.492048\n",
       "WHITE CREME DE CACAO    4.069006   3.810397\n",
       "WHITE CREME DE MENTHE   3.870703   3.595641\n",
       "WHITE RUM              12.335284  27.426025\n",
       "\n",
       "[107 rows x 2 columns]"
      ]
     },
     "execution_count": 149,
     "metadata": {},
     "output_type": "execute_result"
    },
    {
     "data": {
      "image/png": "[encoded data removed]",
      "text/plain": [
       "<Figure size 432x288 with 1 Axes>"
      ]
     },
     "metadata": {
      "needs_background": "light"
     },
     "output_type": "display_data"
    }
   ],
   "source": [
    "dff_0=dff.groupby(['category_name'])[['volume_sold_(liters)']].count().sort_values(by = 'volume_sold_(liters)', ascending=False)[0:10]\n",
    "dff_3 = dff[dff['category_name'].isin(dff_0.index.values.tolist())]\n",
    "\n",
    "dff_3.boxplot(column=['volume_sold_(liters)'],by = ['category_name'], rot=90).set_yscale('log')\n",
    "plt.ylabel(\"volume_sold_(liters)\")\n",
    "pd.DataFrame(dff.groupby(['category_name'])['volume_sold_(liters)'].describe().loc[:,['mean','std']])"
   ]
  },
  {
   "cell_type": "markdown",
   "metadata": {},
   "source": [
    "Again, these are likely sold in different sized bottles, which is where the variation comes from."
   ]
  },
  {
   "cell_type": "markdown",
   "metadata": {},
   "source": [
    "- #### Vendor Number"
   ]
  },
  {
   "cell_type": "markdown",
   "metadata": {},
   "source": [
    "This code isn't working for some reason"
   ]
  },
  {
   "cell_type": "code",
   "execution_count": 153,
   "metadata": {},
   "outputs": [],
   "source": [
    "dff['vendor_number'] = dff['vendor_number'].astype('object')"
   ]
  },
  {
   "cell_type": "code",
   "execution_count": 155,
   "metadata": {},
   "outputs": [],
   "source": [
    "dff_0=dff.groupby(['vendor_number'])[['volume_sold_(liters)']].count().sort_values(by = 'volume_sold_(liters)', ascending=False)[0:10]\n",
    "dff_3 = dff[dff['vendor_number'].isin(dff_0.index.values.tolist())]\n",
    "\n",
    "dff_3.boxplot(column=['volume_sold_(liters)'],by = ['vendor_number'], rot=90)\n",
    "plt.ylabel(\"volume_sold_(liters)\")\n",
    "pd.DataFrame(dff.groupby(['vendor_number'])['volume_sold_(liters)'].describe().loc[:,['mean','std']])"
   ]
  },
  {
   "cell_type": "markdown",
   "metadata": {},
   "source": [
    "- #### Item Number"
   ]
  },
  {
   "cell_type": "code",
   "execution_count": 156,
   "metadata": {},
   "outputs": [],
   "source": [
    "dff['item_number'] = dff['item_number'].astype('object')"
   ]
  },
  {
   "cell_type": "code",
   "execution_count": 158,
   "metadata": {},
   "outputs": [
    {
     "data": {
      "text/html": [
       "<div>\n",
       "<style scoped>\n",
       "    .dataframe tbody tr th:only-of-type {\n",
       "        vertical-align: middle;\n",
       "    }\n",
       "\n",
       "    .dataframe tbody tr th {\n",
       "        vertical-align: top;\n",
       "    }\n",
       "\n",
       "    .dataframe thead th {\n",
       "        text-align: right;\n",
       "    }\n",
       "</style>\n",
       "<table border=\"1\" class=\"dataframe\">\n",
       "  <thead>\n",
       "    <tr style=\"text-align: right;\">\n",
       "      <th></th>\n",
       "      <th>mean</th>\n",
       "      <th>std</th>\n",
       "    </tr>\n",
       "    <tr>\n",
       "      <th>vendor_number</th>\n",
       "      <th></th>\n",
       "      <th></th>\n",
       "    </tr>\n",
       "  </thead>\n",
       "  <tbody>\n",
       "    <tr>\n",
       "      <th>10.0</th>\n",
       "      <td>4.488439</td>\n",
       "      <td>5.053752</td>\n",
       "    </tr>\n",
       "    <tr>\n",
       "      <th>27.0</th>\n",
       "      <td>199.060000</td>\n",
       "      <td>NaN</td>\n",
       "    </tr>\n",
       "    <tr>\n",
       "      <th>33.0</th>\n",
       "      <td>12.000000</td>\n",
       "      <td>NaN</td>\n",
       "    </tr>\n",
       "    <tr>\n",
       "      <th>35.0</th>\n",
       "      <td>8.157353</td>\n",
       "      <td>20.826684</td>\n",
       "    </tr>\n",
       "    <tr>\n",
       "      <th>51.0</th>\n",
       "      <td>9.000000</td>\n",
       "      <td>NaN</td>\n",
       "    </tr>\n",
       "    <tr>\n",
       "      <th>...</th>\n",
       "      <td>...</td>\n",
       "      <td>...</td>\n",
       "    </tr>\n",
       "    <tr>\n",
       "      <th>969.0</th>\n",
       "      <td>2.200806</td>\n",
       "      <td>1.687049</td>\n",
       "    </tr>\n",
       "    <tr>\n",
       "      <th>971.0</th>\n",
       "      <td>3.667416</td>\n",
       "      <td>3.707178</td>\n",
       "    </tr>\n",
       "    <tr>\n",
       "      <th>977.0</th>\n",
       "      <td>3.533654</td>\n",
       "      <td>3.239822</td>\n",
       "    </tr>\n",
       "    <tr>\n",
       "      <th>978.0</th>\n",
       "      <td>3.877030</td>\n",
       "      <td>4.619574</td>\n",
       "    </tr>\n",
       "    <tr>\n",
       "      <th>987.0</th>\n",
       "      <td>2.458333</td>\n",
       "      <td>2.780248</td>\n",
       "    </tr>\n",
       "  </tbody>\n",
       "</table>\n",
       "<p>280 rows × 2 columns</p>\n",
       "</div>"
      ],
      "text/plain": [
       "                     mean        std\n",
       "vendor_number                       \n",
       "10.0             4.488439   5.053752\n",
       "27.0           199.060000        NaN\n",
       "33.0            12.000000        NaN\n",
       "35.0             8.157353  20.826684\n",
       "51.0             9.000000        NaN\n",
       "...                   ...        ...\n",
       "969.0            2.200806   1.687049\n",
       "971.0            3.667416   3.707178\n",
       "977.0            3.533654   3.239822\n",
       "978.0            3.877030   4.619574\n",
       "987.0            2.458333   2.780248\n",
       "\n",
       "[280 rows x 2 columns]"
      ]
     },
     "execution_count": 158,
     "metadata": {},
     "output_type": "execute_result"
    },
    {
     "data": {
      "image/png": "[encoded data removed]",
      "text/plain": [
       "<Figure size 432x288 with 1 Axes>"
      ]
     },
     "metadata": {
      "needs_background": "light"
     },
     "output_type": "display_data"
    }
   ],
   "source": [
    "dff_0=dff.groupby(['item_number'])[['volume_sold_(liters)']].count().sort_values(by = 'volume_sold_(liters)', ascending=False)[0:10]\n",
    "dff_3 = dff[dff['item_number'].isin(dff_0.index.values.tolist())]\n",
    "\n",
    "dff_3.boxplot(column=['volume_sold_(liters)'],by = ['item_number'], rot=90).set_yscale('log')\n",
    "plt.ylabel(\"volume_sold_(liters)\")\n",
    "pd.DataFrame(dff.groupby(['vendor_number'])['volume_sold_(liters)'].describe().loc[:,['mean','std']])"
   ]
  },
  {
   "cell_type": "markdown",
   "metadata": {},
   "source": [
    "- #### Pack"
   ]
  },
  {
   "cell_type": "code",
   "execution_count": 159,
   "metadata": {},
   "outputs": [
    {
     "data": {
      "text/plain": [
       "[<matplotlib.lines.Line2D at 0x2b96b9c50>]"
      ]
     },
     "execution_count": 159,
     "metadata": {},
     "output_type": "execute_result"
    },
    {
     "data": {
      "image/png": "[encoded data removed]",
      "text/plain": [
       "<Figure size 432x288 with 1 Axes>"
      ]
     },
     "metadata": {
      "needs_background": "light"
     },
     "output_type": "display_data"
    }
   ],
   "source": [
    "# generate x-values for your regression line (two is sufficient)\n",
    "x = dff.pack\n",
    "# scatter-plot data\n",
    "ax = dff.plot(x='pack', y='volume_sold_(liters)', kind='scatter')\n",
    "# plot regression line on the same axes, set x-axis limits\n",
    "ax.plot(x)"
   ]
  },
  {
   "cell_type": "markdown",
   "metadata": {},
   "source": [
    "- #### State Bottle Cost"
   ]
  },
  {
   "cell_type": "code",
   "execution_count": 160,
   "metadata": {},
   "outputs": [
    {
     "data": {
      "text/plain": [
       "[<matplotlib.lines.Line2D at 0x2b704d7d0>]"
      ]
     },
     "execution_count": 160,
     "metadata": {},
     "output_type": "execute_result"
    },
    {
     "data": {
      "image/png": "[encoded data removed]",
      "text/plain": [
       "<Figure size 432x288 with 1 Axes>"
      ]
     },
     "metadata": {
      "needs_background": "light"
     },
     "output_type": "display_data"
    }
   ],
   "source": [
    "# generate x-values for your regression line (two is sufficient)\n",
    "x = dff.state_bottle_cost\n",
    "# scatter-plot data\n",
    "ax = dff.plot(x='state_bottle_cost', y='volume_sold_(liters)', kind='scatter')\n",
    "# plot regression line on the same axes, set x-axis limits\n",
    "ax.plot(x)"
   ]
  },
  {
   "cell_type": "markdown",
   "metadata": {},
   "source": [
    "- #### State Bottle Retail"
   ]
  },
  {
   "cell_type": "code",
   "execution_count": 161,
   "metadata": {},
   "outputs": [
    {
     "data": {
      "text/plain": [
       "[<matplotlib.lines.Line2D at 0x2b551d2d0>]"
      ]
     },
     "execution_count": 161,
     "metadata": {},
     "output_type": "execute_result"
    },
    {
     "data": {
      "image/png": "[encoded data removed]",
      "text/plain": [
       "<Figure size 432x288 with 1 Axes>"
      ]
     },
     "metadata": {
      "needs_background": "light"
     },
     "output_type": "display_data"
    }
   ],
   "source": [
    "# generate x-values for your regression line (two is sufficient)\n",
    "x = dff.state_bottle_retail\n",
    "# scatter-plot data\n",
    "ax = dff.plot(x='state_bottle_retail', y='volume_sold_(liters)', kind='scatter')\n",
    "# plot regression line on the same axes, set x-axis limits\n",
    "ax.plot(x)"
   ]
  },
  {
   "cell_type": "markdown",
   "metadata": {},
   "source": [
    "- #### Sale (dollars)"
   ]
  },
  {
   "cell_type": "code",
   "execution_count": 163,
   "metadata": {},
   "outputs": [
    {
     "data": {
      "text/plain": [
       "[<matplotlib.lines.Line2D at 0x18f9f5350>]"
      ]
     },
     "execution_count": 163,
     "metadata": {},
     "output_type": "execute_result"
    },
    {
     "data": {
      "image/png": "[encoded data removed]",
      "text/plain": [
       "<Figure size 432x288 with 1 Axes>"
      ]
     },
     "metadata": {
      "needs_background": "light"
     },
     "output_type": "display_data"
    }
   ],
   "source": [
    "# generate x-values for your regression line (two is sufficient)\n",
    "x = dff['sale_(dollars)']\n",
    "# scatter-plot data\n",
    "ax = dff.plot(x='sale_(dollars)', y='volume_sold_(liters)', kind='scatter')\n",
    "# plot regression line on the same axes, set x-axis limits\n",
    "ax.plot(x)"
   ]
  },
  {
   "cell_type": "markdown",
   "metadata": {},
   "source": [
    "- #### General Alcohol Category"
   ]
  },
  {
   "cell_type": "markdown",
   "metadata": {},
   "source": [
    "The below boxplot shows volume sold in liters by general alcohol category."
   ]
  },
  {
   "cell_type": "code",
   "execution_count": 7,
   "metadata": {},
   "outputs": [
    {
     "data": {
      "text/html": [
       "<div>\n",
       "<style scoped>\n",
       "    .dataframe tbody tr th:only-of-type {\n",
       "        vertical-align: middle;\n",
       "    }\n",
       "\n",
       "    .dataframe tbody tr th {\n",
       "        vertical-align: top;\n",
       "    }\n",
       "\n",
       "    .dataframe thead th {\n",
       "        text-align: right;\n",
       "    }\n",
       "</style>\n",
       "<table border=\"1\" class=\"dataframe\">\n",
       "  <thead>\n",
       "    <tr style=\"text-align: right;\">\n",
       "      <th></th>\n",
       "      <th>mean</th>\n",
       "      <th>std</th>\n",
       "    </tr>\n",
       "    <tr>\n",
       "      <th>general_alcohol_category</th>\n",
       "      <th></th>\n",
       "      <th></th>\n",
       "    </tr>\n",
       "  </thead>\n",
       "  <tbody>\n",
       "    <tr>\n",
       "      <th>amaretto</th>\n",
       "      <td>7.601017</td>\n",
       "      <td>6.555001</td>\n",
       "    </tr>\n",
       "    <tr>\n",
       "      <th>bourbon</th>\n",
       "      <td>3.698150</td>\n",
       "      <td>5.221423</td>\n",
       "    </tr>\n",
       "    <tr>\n",
       "      <th>brandy</th>\n",
       "      <td>4.578428</td>\n",
       "      <td>6.416288</td>\n",
       "    </tr>\n",
       "    <tr>\n",
       "      <th>cocktail</th>\n",
       "      <td>11.789429</td>\n",
       "      <td>20.928861</td>\n",
       "    </tr>\n",
       "    <tr>\n",
       "      <th>creme</th>\n",
       "      <td>4.088625</td>\n",
       "      <td>4.006325</td>\n",
       "    </tr>\n",
       "    <tr>\n",
       "      <th>gin</th>\n",
       "      <td>7.407693</td>\n",
       "      <td>8.913832</td>\n",
       "    </tr>\n",
       "    <tr>\n",
       "      <th>other</th>\n",
       "      <td>6.819694</td>\n",
       "      <td>14.681247</td>\n",
       "    </tr>\n",
       "    <tr>\n",
       "      <th>rum</th>\n",
       "      <td>11.329480</td>\n",
       "      <td>43.682226</td>\n",
       "    </tr>\n",
       "    <tr>\n",
       "      <th>scotch</th>\n",
       "      <td>3.098107</td>\n",
       "      <td>6.096262</td>\n",
       "    </tr>\n",
       "    <tr>\n",
       "      <th>spirit</th>\n",
       "      <td>8.427372</td>\n",
       "      <td>26.990276</td>\n",
       "    </tr>\n",
       "    <tr>\n",
       "      <th>tequila</th>\n",
       "      <td>8.493866</td>\n",
       "      <td>30.289739</td>\n",
       "    </tr>\n",
       "    <tr>\n",
       "      <th>vodka</th>\n",
       "      <td>12.251410</td>\n",
       "      <td>47.388763</td>\n",
       "    </tr>\n",
       "    <tr>\n",
       "      <th>whiskey</th>\n",
       "      <td>9.894861</td>\n",
       "      <td>40.159160</td>\n",
       "    </tr>\n",
       "  </tbody>\n",
       "</table>\n",
       "</div>"
      ],
      "text/plain": [
       "                               mean        std\n",
       "general_alcohol_category                      \n",
       "amaretto                   7.601017   6.555001\n",
       "bourbon                    3.698150   5.221423\n",
       "brandy                     4.578428   6.416288\n",
       "cocktail                  11.789429  20.928861\n",
       "creme                      4.088625   4.006325\n",
       "gin                        7.407693   8.913832\n",
       "other                      6.819694  14.681247\n",
       "rum                       11.329480  43.682226\n",
       "scotch                     3.098107   6.096262\n",
       "spirit                     8.427372  26.990276\n",
       "tequila                    8.493866  30.289739\n",
       "vodka                     12.251410  47.388763\n",
       "whiskey                    9.894861  40.159160"
      ]
     },
     "execution_count": 7,
     "metadata": {},
     "output_type": "execute_result"
    },
    {
     "data": {
      "image/png": "[encoded data removed]",
      "text/plain": [
       "<Figure size 432x288 with 1 Axes>"
      ]
     },
     "metadata": {
      "needs_background": "light"
     },
     "output_type": "display_data"
    }
   ],
   "source": []
  },
  {
   "cell_type": "markdown",
   "metadata": {},
   "source": [
    "- #### Unemployment"
   ]
  },
  {
   "cell_type": "code",
   "execution_count": 165,
   "metadata": {},
   "outputs": [
    {
     "data": {
      "text/plain": [
       "[<matplotlib.lines.Line2D at 0x29109d6d0>]"
      ]
     },
     "execution_count": 165,
     "metadata": {},
     "output_type": "execute_result"
    },
    {
     "data": {
      "image/png": "[encoded data removed]",
      "text/plain": [
       "<Figure size 432x288 with 1 Axes>"
      ]
     },
     "metadata": {
      "needs_background": "light"
     },
     "output_type": "display_data"
    }
   ],
   "source": [
    "# generate x-values for your regression line (two is sufficient)\n",
    "x = dff['initial claims']\n",
    "# scatter-plot data\n",
    "ax = dff.plot(x='initial claims', y='volume_sold_(liters)', kind='scatter')\n",
    "# plot regression line on the same axes, set x-axis limits\n",
    "ax.plot(x)"
   ]
  },
  {
   "cell_type": "markdown",
   "metadata": {},
   "source": [
    "## Univariate Charts"
   ]
  },
  {
   "cell_type": "markdown",
   "metadata": {},
   "source": [
    "- #### Unemployment Claims"
   ]
  },
  {
   "cell_type": "code",
   "execution_count": 181,
   "metadata": {},
   "outputs": [
    {
     "data": {
      "text/plain": [
       "<matplotlib.axes._subplots.AxesSubplot at 0x143e20b90>"
      ]
     },
     "execution_count": 181,
     "metadata": {},
     "output_type": "execute_result"
    },
    {
     "data": {
      "image/png": "[encoded data removed]",
      "text/plain": [
       "<Figure size 432x288 with 1 Axes>"
      ]
     },
     "metadata": {
      "needs_background": "light"
     },
     "output_type": "display_data"
    }
   ],
   "source": [
    "ser = dff['initial claims']\n",
    "ser.hist(density=1, bins=100)"
   ]
  },
  {
   "cell_type": "markdown",
   "metadata": {},
   "source": [
    "- #### Volume Sold (Liters)"
   ]
  },
  {
   "cell_type": "code",
   "execution_count": 182,
   "metadata": {},
   "outputs": [
    {
     "data": {
      "text/plain": [
       "<matplotlib.axes._subplots.AxesSubplot at 0x159939110>"
      ]
     },
     "execution_count": 182,
     "metadata": {},
     "output_type": "execute_result"
    },
    {
     "data": {
      "image/png": "[encoded data removed]",
      "text/plain": [
       "<Figure size 432x288 with 1 Axes>"
      ]
     },
     "metadata": {
      "needs_background": "light"
     },
     "output_type": "display_data"
    }
   ],
   "source": [
    "ser = dff['volume_sold_(liters)']\n",
    "ser.hist(density = 1, bins=100)"
   ]
  },
  {
   "cell_type": "markdown",
   "metadata": {},
   "source": [
    "## Statistical Tests"
   ]
  },
  {
   "cell_type": "code",
   "execution_count": 183,
   "metadata": {},
   "outputs": [
    {
     "data": {
      "text/plain": [
       "Index(['date', 'store_number', 'city', 'zip_code', 'county', 'category_name',\n",
       "       'vendor_number', 'item_number', 'pack', 'state_bottle_cost',\n",
       "       'state_bottle_retail', 'sale_(dollars)', 'volume_sold_(liters)', 'year',\n",
       "       'month', 'initial claims', 'imported', 'rum', 'vodka', 'liquer',\n",
       "       'brandy', 'whiskey', 'tequila', 'cocktail', 'gin', 'scotch', 'creme',\n",
       "       'amaretto', 'bourbon', 'spirit', 'other', 'general_alcohol_category'],\n",
       "      dtype='object')"
      ]
     },
     "execution_count": 183,
     "metadata": {},
     "output_type": "execute_result"
    }
   ],
   "source": [
    "dff.columns"
   ]
  },
  {
   "cell_type": "code",
   "execution_count": 184,
   "metadata": {},
   "outputs": [],
   "source": [
    "dff_dummies = dff[['imported', 'rum', 'vodka', 'liquer', 'brandy', 'whiskey', 'tequila', 'cocktail', 'gin', 'scotch', 'creme', 'amaretto', 'bourbon', 'spirit', 'other']]"
   ]
  },
  {
   "cell_type": "code",
   "execution_count": 186,
   "metadata": {},
   "outputs": [
    {
     "data": {
      "text/html": [
       "<div>\n",
       "<style scoped>\n",
       "    .dataframe tbody tr th:only-of-type {\n",
       "        vertical-align: middle;\n",
       "    }\n",
       "\n",
       "    .dataframe tbody tr th {\n",
       "        vertical-align: top;\n",
       "    }\n",
       "\n",
       "    .dataframe thead th {\n",
       "        text-align: right;\n",
       "    }\n",
       "</style>\n",
       "<table border=\"1\" class=\"dataframe\">\n",
       "  <thead>\n",
       "    <tr style=\"text-align: right;\">\n",
       "      <th></th>\n",
       "      <th>mean</th>\n",
       "      <th>std</th>\n",
       "    </tr>\n",
       "    <tr>\n",
       "      <th>general_alcohol_category</th>\n",
       "      <th></th>\n",
       "      <th></th>\n",
       "    </tr>\n",
       "  </thead>\n",
       "  <tbody>\n",
       "    <tr>\n",
       "      <th>amaretto</th>\n",
       "      <td>7.601017</td>\n",
       "      <td>6.555001</td>\n",
       "    </tr>\n",
       "    <tr>\n",
       "      <th>bourbon</th>\n",
       "      <td>3.698150</td>\n",
       "      <td>5.221423</td>\n",
       "    </tr>\n",
       "    <tr>\n",
       "      <th>brandy</th>\n",
       "      <td>4.578428</td>\n",
       "      <td>6.416288</td>\n",
       "    </tr>\n",
       "    <tr>\n",
       "      <th>cocktail</th>\n",
       "      <td>11.789429</td>\n",
       "      <td>20.928861</td>\n",
       "    </tr>\n",
       "    <tr>\n",
       "      <th>creme</th>\n",
       "      <td>4.088625</td>\n",
       "      <td>4.006325</td>\n",
       "    </tr>\n",
       "    <tr>\n",
       "      <th>gin</th>\n",
       "      <td>7.407693</td>\n",
       "      <td>8.913832</td>\n",
       "    </tr>\n",
       "    <tr>\n",
       "      <th>other</th>\n",
       "      <td>6.819694</td>\n",
       "      <td>14.681247</td>\n",
       "    </tr>\n",
       "    <tr>\n",
       "      <th>rum</th>\n",
       "      <td>11.329480</td>\n",
       "      <td>43.682226</td>\n",
       "    </tr>\n",
       "    <tr>\n",
       "      <th>scotch</th>\n",
       "      <td>3.098107</td>\n",
       "      <td>6.096262</td>\n",
       "    </tr>\n",
       "    <tr>\n",
       "      <th>spirit</th>\n",
       "      <td>8.427372</td>\n",
       "      <td>26.990276</td>\n",
       "    </tr>\n",
       "    <tr>\n",
       "      <th>tequila</th>\n",
       "      <td>8.493866</td>\n",
       "      <td>30.289739</td>\n",
       "    </tr>\n",
       "    <tr>\n",
       "      <th>vodka</th>\n",
       "      <td>12.251410</td>\n",
       "      <td>47.388763</td>\n",
       "    </tr>\n",
       "    <tr>\n",
       "      <th>whiskey</th>\n",
       "      <td>9.894861</td>\n",
       "      <td>40.159160</td>\n",
       "    </tr>\n",
       "  </tbody>\n",
       "</table>\n",
       "</div>"
      ],
      "text/plain": [
       "                               mean        std\n",
       "general_alcohol_category                      \n",
       "amaretto                   7.601017   6.555001\n",
       "bourbon                    3.698150   5.221423\n",
       "brandy                     4.578428   6.416288\n",
       "cocktail                  11.789429  20.928861\n",
       "creme                      4.088625   4.006325\n",
       "gin                        7.407693   8.913832\n",
       "other                      6.819694  14.681247\n",
       "rum                       11.329480  43.682226\n",
       "scotch                     3.098107   6.096262\n",
       "spirit                     8.427372  26.990276\n",
       "tequila                    8.493866  30.289739\n",
       "vodka                     12.251410  47.388763\n",
       "whiskey                    9.894861  40.159160"
      ]
     },
     "execution_count": 186,
     "metadata": {},
     "output_type": "execute_result"
    },
    {
     "data": {
      "image/png": "[encoded data removed]",
      "text/plain": [
       "<Figure size 432x288 with 1 Axes>"
      ]
     },
     "metadata": {
      "needs_background": "light"
     },
     "output_type": "display_data"
    }
   ],
   "source": [
    "dff.boxplot(column=['volume_sold_(liters)'],by = ['general_alcohol_category'], rot=90).set_yscale('log')\n",
    "plt.ylabel(\"Volume Sold\")\n",
    "pd.DataFrame(dff.groupby( ['general_alcohol_category'])['volume_sold_(liters)'].describe().loc[:,['mean','std']])"
   ]
  },
  {
   "cell_type": "markdown",
   "metadata": {},
   "source": [
    "Creme and Bourbon look like they have similar distributions on the chart.\n",
    "I'm going to see if that is true."
   ]
  },
  {
   "cell_type": "code",
   "execution_count": 190,
   "metadata": {},
   "outputs": [],
   "source": [
    "data1 = dff[dff['general_alcohol_category'] == 'creme']['volume_sold_(liters)']\n",
    "data2 = dff[dff['general_alcohol_category'] == 'bourbon']['volume_sold_(liters)']"
   ]
  },
  {
   "cell_type": "code",
   "execution_count": 193,
   "metadata": {},
   "outputs": [],
   "source": [
    "# calculate means\n",
    "mean1, mean2 = data1.mean(), data2.mean()"
   ]
  },
  {
   "cell_type": "code",
   "execution_count": 194,
   "metadata": {},
   "outputs": [],
   "source": [
    "# calculate sample standard deviations\n",
    "std1, std2 = data1.std(), data2.std()"
   ]
  },
  {
   "cell_type": "code",
   "execution_count": 198,
   "metadata": {},
   "outputs": [],
   "source": [
    "# calculate standard errors\n",
    "n1, n2 = len(data1), len(data2)\n",
    "se1, se2 = std1/np.sqrt(n1), std2/np.sqrt(n2)"
   ]
  },
  {
   "cell_type": "code",
   "execution_count": 199,
   "metadata": {},
   "outputs": [],
   "source": [
    "# standard error on the difference between the samples\n",
    "sed = np.sqrt(se1**2.0 + se2**2.0)"
   ]
  },
  {
   "cell_type": "code",
   "execution_count": 209,
   "metadata": {},
   "outputs": [
    {
     "data": {
      "text/plain": [
       "5.368087709411032"
      ]
     },
     "execution_count": 209,
     "metadata": {},
     "output_type": "execute_result"
    }
   ],
   "source": [
    "# calculate the t statistic\n",
    "t_stat = (mean1 - mean2) / sed\n",
    "t_stat"
   ]
  },
  {
   "cell_type": "code",
   "execution_count": 201,
   "metadata": {},
   "outputs": [],
   "source": [
    "# degrees of freedom\n",
    "df = n1 + n2 - 2"
   ]
  },
  {
   "cell_type": "code",
   "execution_count": 205,
   "metadata": {},
   "outputs": [],
   "source": [
    "# calculate the critical value\n",
    "alpha = 0.05\n",
    "cv = scipy.stats.t.ppf(1.0 - alpha, df)"
   ]
  },
  {
   "cell_type": "code",
   "execution_count": 208,
   "metadata": {},
   "outputs": [
    {
     "name": "stdout",
     "output_type": "stream",
     "text": [
      "8.04901481021858e-08\n"
     ]
    }
   ],
   "source": [
    "# calculate the p-value\n",
    "p = (1 - scipy.stats.t.cdf(abs(t_stat), df)) * 2\n",
    "print(p)"
   ]
  },
  {
   "cell_type": "markdown",
   "metadata": {},
   "source": [
    "p-value is small so we reject the null hypothesis that the two means are equal"
   ]
  }
 ],
 "metadata": {
  "kernelspec": {
   "display_name": "Python 3",
   "language": "python",
   "name": "python3"
  },
  "language_info": {
   "codemirror_mode": {
    "name": "ipython",
    "version": 3
   },
   "file_extension": ".py",
   "mimetype": "text/x-python",
   "name": "python",
   "nbconvert_exporter": "python",
   "pygments_lexer": "ipython3",
   "version": "3.7.4"
  }
 },
 "nbformat": 4,
 "nbformat_minor": 2
}
