{
 "cells": [
  {
   "cell_type": "markdown",
   "metadata": {},
   "source": [
    "## Iowa Liquor Sales Project - Data Exploration\n"
   ]
  },
  {
   "cell_type": "code",
   "execution_count": 1,
   "metadata": {},
   "outputs": [],
   "source": [
    "import pandas as pd\n",
    "import os"
   ]
  },
  {
   "cell_type": "code",
   "execution_count": 2,
   "metadata": {},
   "outputs": [
    {
     "data": {
      "text/plain": [
       "'/Users/Monika/GitHub/Iowa Liquor Sales/notebooks'"
      ]
     },
     "execution_count": 2,
     "metadata": {},
     "output_type": "execute_result"
    }
   ],
   "source": [
    "pwd"
   ]
  },
  {
   "cell_type": "code",
   "execution_count": 3,
   "metadata": {},
   "outputs": [],
   "source": [
    "os.chdir('../')"
   ]
  },
  {
   "cell_type": "code",
   "execution_count": 4,
   "metadata": {},
   "outputs": [
    {
     "data": {
      "text/plain": [
       "'/Users/Monika/GitHub/Iowa Liquor Sales'"
      ]
     },
     "execution_count": 4,
     "metadata": {},
     "output_type": "execute_result"
    }
   ],
   "source": [
    "pwd"
   ]
  },
  {
   "cell_type": "code",
   "execution_count": 6,
   "metadata": {},
   "outputs": [
    {
     "name": "stderr",
     "output_type": "stream",
     "text": [
      "/opt/anaconda3/lib/python3.7/site-packages/IPython/core/interactiveshell.py:3058: DtypeWarning: Columns (6,14) have mixed types.Specify dtype option on import or set low_memory=False.\n",
      "  interactivity=interactivity, compiler=compiler, result=result)\n"
     ]
    }
   ],
   "source": [
    "df = pd.read_csv('data/Iowa_Liquor_Sales.csv')"
   ]
  },
  {
   "cell_type": "code",
   "execution_count": 13,
   "metadata": {},
   "outputs": [
    {
     "data": {
      "text/plain": [
       "(19445831, 24)"
      ]
     },
     "execution_count": 13,
     "metadata": {},
     "output_type": "execute_result"
    }
   ],
   "source": [
    "df.shape"
   ]
  },
  {
   "cell_type": "markdown",
   "metadata": {},
   "source": [
    "#### These are all the Hy_vee stores in Iowa "
   ]
  },
  {
   "cell_type": "code",
   "execution_count": 8,
   "metadata": {},
   "outputs": [],
   "source": [
    "Hy_vee = df[df['Store Name'].str.contains('Hy')==True]"
   ]
  },
  {
   "cell_type": "markdown",
   "metadata": {},
   "source": [
    "#### Around 6.5 million records if we include just things purchased at Hy_vee stores"
   ]
  },
  {
   "cell_type": "code",
   "execution_count": 11,
   "metadata": {},
   "outputs": [
    {
     "data": {
      "text/plain": [
       "(6513547, 24)"
      ]
     },
     "execution_count": 11,
     "metadata": {},
     "output_type": "execute_result"
    }
   ],
   "source": [
    "Hy_vee.shape"
   ]
  },
  {
   "cell_type": "markdown",
   "metadata": {},
   "source": [
    "Approximately 1/3 of all of the liquor sold in Iowa is sold at Hy_vee stores"
   ]
  },
  {
   "cell_type": "code",
   "execution_count": 19,
   "metadata": {},
   "outputs": [
    {
     "data": {
      "text/plain": [
       "0.3349585317284718"
      ]
     },
     "execution_count": 19,
     "metadata": {},
     "output_type": "execute_result"
    }
   ],
   "source": [
    "(len(Hy_vee)/len(df))"
   ]
  },
  {
   "cell_type": "code",
   "execution_count": 40,
   "metadata": {
    "scrolled": false
   },
   "outputs": [
    {
     "data": {
      "text/plain": [
       "Index(['Invoice/Item Number', 'Date', 'Store Number', 'Store Name', 'Address',\n",
       "       'City', 'Zip Code', 'Store Location', 'County Number', 'County',\n",
       "       'Category', 'Category Name', 'Vendor Number', 'Vendor Name',\n",
       "       'Item Number', 'Item Description', 'Pack', 'Bottle Volume (ml)',\n",
       "       'State Bottle Cost', 'State Bottle Retail', 'Bottles Sold',\n",
       "       'Sale (Dollars)', 'Volume Sold (Liters)', 'Volume Sold (Gallons)'],\n",
       "      dtype='object')"
      ]
     },
     "execution_count": 40,
     "metadata": {},
     "output_type": "execute_result"
    }
   ],
   "source": [
    "Hy_vee.columns"
   ]
  },
  {
   "cell_type": "markdown",
   "metadata": {},
   "source": [
    "Besides tax, what other discrepancy responsible for price difference between vendor name and state bottle cost?"
   ]
  },
  {
   "cell_type": "code",
   "execution_count": 69,
   "metadata": {},
   "outputs": [
    {
     "data": {
      "text/html": [
       "<div>\n",
       "<style scoped>\n",
       "    .dataframe tbody tr th:only-of-type {\n",
       "        vertical-align: middle;\n",
       "    }\n",
       "\n",
       "    .dataframe tbody tr th {\n",
       "        vertical-align: top;\n",
       "    }\n",
       "\n",
       "    .dataframe thead th {\n",
       "        text-align: right;\n",
       "    }\n",
       "</style>\n",
       "<table border=\"1\" class=\"dataframe\">\n",
       "  <thead>\n",
       "    <tr style=\"text-align: right;\">\n",
       "      <th></th>\n",
       "      <th>Vendor Name</th>\n",
       "      <th>State Bottle Cost</th>\n",
       "      <th>State Bottle Retail</th>\n",
       "    </tr>\n",
       "  </thead>\n",
       "  <tbody>\n",
       "    <tr>\n",
       "      <th>2</th>\n",
       "      <td>Sazerac Co., Inc.</td>\n",
       "      <td>29.72</td>\n",
       "      <td>44.58</td>\n",
       "    </tr>\n",
       "    <tr>\n",
       "      <th>17</th>\n",
       "      <td>Luxco-St Louis</td>\n",
       "      <td>6.06</td>\n",
       "      <td>9.09</td>\n",
       "    </tr>\n",
       "    <tr>\n",
       "      <th>23</th>\n",
       "      <td>Heaven Hill Brands</td>\n",
       "      <td>5.78</td>\n",
       "      <td>8.67</td>\n",
       "    </tr>\n",
       "    <tr>\n",
       "      <th>26</th>\n",
       "      <td>Diageo Americas</td>\n",
       "      <td>5.50</td>\n",
       "      <td>8.25</td>\n",
       "    </tr>\n",
       "    <tr>\n",
       "      <th>27</th>\n",
       "      <td>Jim Beam Brands</td>\n",
       "      <td>1.76</td>\n",
       "      <td>2.64</td>\n",
       "    </tr>\n",
       "  </tbody>\n",
       "</table>\n",
       "</div>"
      ],
      "text/plain": [
       "           Vendor Name  State Bottle Cost  State Bottle Retail\n",
       "2    Sazerac Co., Inc.              29.72                44.58\n",
       "17      Luxco-St Louis               6.06                 9.09\n",
       "23  Heaven Hill Brands               5.78                 8.67\n",
       "26     Diageo Americas               5.50                 8.25\n",
       "27     Jim Beam Brands               1.76                 2.64"
      ]
     },
     "execution_count": 69,
     "metadata": {},
     "output_type": "execute_result"
    }
   ],
   "source": [
    "Hy_vee[['Vendor Name', 'State Bottle Cost', 'State Bottle Retail']].head()"
   ]
  },
  {
   "cell_type": "code",
   "execution_count": 70,
   "metadata": {},
   "outputs": [
    {
     "data": {
      "text/plain": [
       "Jim Beam Brands                     696440\n",
       "Diageo Americas                     547455\n",
       "DIAGEO AMERICAS                     483231\n",
       "Luxco-St Louis                      357938\n",
       "Heaven Hill Brands                  316881\n",
       "                                     ...  \n",
       "DC Beverage LLC                          1\n",
       "Veriano Fine Foods & Spirits Ltd         1\n",
       "Black Sea Imports, Inc                   1\n",
       "Stolller Warehouse                       1\n",
       "Belmont Farms Of Va., Inc                1\n",
       "Name: Vendor Name, Length: 392, dtype: int64"
      ]
     },
     "execution_count": 70,
     "metadata": {},
     "output_type": "execute_result"
    }
   ],
   "source": [
    "Hy_vee['Vendor Name'].value_counts()"
   ]
  },
  {
   "cell_type": "markdown",
   "metadata": {},
   "source": [
    "#### Why are bottles overwhelmingly sold in 12 packs? Does it have something to do with the vendor?"
   ]
  },
  {
   "cell_type": "code",
   "execution_count": 66,
   "metadata": {},
   "outputs": [
    {
     "data": {
      "text/plain": [
       "12     1814148\n",
       "6      1439636\n",
       "2       874105\n",
       "3       681240\n",
       "1       608878\n",
       "        ...   \n",
       "494          1\n",
       "519          1\n",
       "95           1\n",
       "94           1\n",
       "223          1\n",
       "Name: Bottles Sold, Length: 424, dtype: int64"
      ]
     },
     "execution_count": 66,
     "metadata": {},
     "output_type": "execute_result"
    }
   ],
   "source": [
    "Hy_vee['Bottles Sold'].value_counts()"
   ]
  },
  {
   "cell_type": "markdown",
   "metadata": {},
   "source": [
    "Category names indicate type of alcohol"
   ]
  },
  {
   "cell_type": "code",
   "execution_count": 59,
   "metadata": {},
   "outputs": [
    {
     "data": {
      "text/plain": [
       "VODKA 80 PROOF                     377351\n",
       "American Vodkas                    375097\n",
       "CANADIAN WHISKIES                  249823\n",
       "Canadian Whiskies                  228539\n",
       "Straight Bourbon Whiskies          223418\n",
       "                                    ...  \n",
       "Holiday VAP                            12\n",
       "Distilled Spirits Specialty            12\n",
       "IMPORTED VODKA - CHERRY                 9\n",
       "Temporary  & Specialty Packages         3\n",
       "SCHNAPPS - IMPORTED                     3\n",
       "Name: Category Name, Length: 131, dtype: int64"
      ]
     },
     "execution_count": 59,
     "metadata": {},
     "output_type": "execute_result"
    }
   ],
   "source": [
    "Hy_vee['Category Name'].value_counts()"
   ]
  },
  {
   "cell_type": "markdown",
   "metadata": {},
   "source": [
    "Within the most popular category, Vodka 80 proof, which is the most popular?"
   ]
  },
  {
   "cell_type": "code",
   "execution_count": 61,
   "metadata": {},
   "outputs": [],
   "source": [
    "vodka_80_proof = Hy_vee[Hy_vee['Category Name'] == 'VODKA 80 PROOF']"
   ]
  },
  {
   "cell_type": "markdown",
   "metadata": {},
   "source": [
    "Most popular vodka among the 80 Proof Vodkas"
   ]
  },
  {
   "cell_type": "code",
   "execution_count": 50,
   "metadata": {},
   "outputs": [
    {
     "data": {
      "text/plain": [
       "'Woody Creek Signature Potato Vodka'"
      ]
     },
     "execution_count": 50,
     "metadata": {},
     "output_type": "execute_result"
    }
   ],
   "source": [
    "Hy_vee[Hy_vee['Category Name'] == 'VODKA 80 PROOF']['Item Description'].max()"
   ]
  },
  {
   "cell_type": "markdown",
   "metadata": {},
   "source": [
    "Most popular vodka among the American Vodkas"
   ]
  },
  {
   "cell_type": "code",
   "execution_count": 51,
   "metadata": {},
   "outputs": [
    {
     "data": {
      "text/plain": [
       "'Y-not Vodka'"
      ]
     },
     "execution_count": 51,
     "metadata": {},
     "output_type": "execute_result"
    }
   ],
   "source": [
    "Hy_vee[Hy_vee['Category Name'] == 'American Vodkas']['Item Description'].max()"
   ]
  },
  {
   "cell_type": "markdown",
   "metadata": {},
   "source": [
    "#### Sales  by month"
   ]
  },
  {
   "cell_type": "code",
   "execution_count": 58,
   "metadata": {},
   "outputs": [
    {
     "data": {
      "text/html": [
       "<div>\n",
       "<style scoped>\n",
       "    .dataframe tbody tr th:only-of-type {\n",
       "        vertical-align: middle;\n",
       "    }\n",
       "\n",
       "    .dataframe tbody tr th {\n",
       "        vertical-align: top;\n",
       "    }\n",
       "\n",
       "    .dataframe thead th {\n",
       "        text-align: right;\n",
       "    }\n",
       "</style>\n",
       "<table border=\"1\" class=\"dataframe\">\n",
       "  <thead>\n",
       "    <tr style=\"text-align: right;\">\n",
       "      <th></th>\n",
       "      <th>Invoice/Item Number</th>\n",
       "      <th>Date</th>\n",
       "      <th>Store Number</th>\n",
       "      <th>Store Name</th>\n",
       "      <th>Address</th>\n",
       "      <th>City</th>\n",
       "      <th>Zip Code</th>\n",
       "      <th>Store Location</th>\n",
       "      <th>County Number</th>\n",
       "      <th>County</th>\n",
       "      <th>...</th>\n",
       "      <th>Pack</th>\n",
       "      <th>Bottle Volume (ml)</th>\n",
       "      <th>State Bottle Cost</th>\n",
       "      <th>State Bottle Retail</th>\n",
       "      <th>Bottles Sold</th>\n",
       "      <th>Sale (Dollars)</th>\n",
       "      <th>Volume Sold (Liters)</th>\n",
       "      <th>Volume Sold (Gallons)</th>\n",
       "      <th>Year</th>\n",
       "      <th>Month</th>\n",
       "    </tr>\n",
       "  </thead>\n",
       "  <tbody>\n",
       "    <tr>\n",
       "      <th>2</th>\n",
       "      <td>S27600300027</td>\n",
       "      <td>08/31/2015</td>\n",
       "      <td>2560</td>\n",
       "      <td>Hy-Vee Food Store / Marion</td>\n",
       "      <td>3600 BUSINESS HWY 151 EAST</td>\n",
       "      <td>MARION</td>\n",
       "      <td>52302</td>\n",
       "      <td>NaN</td>\n",
       "      <td>57.0</td>\n",
       "      <td>Linn</td>\n",
       "      <td>...</td>\n",
       "      <td>1</td>\n",
       "      <td>3000</td>\n",
       "      <td>29.72</td>\n",
       "      <td>44.58</td>\n",
       "      <td>2</td>\n",
       "      <td>89.16</td>\n",
       "      <td>6.0</td>\n",
       "      <td>1.59</td>\n",
       "      <td>2015</td>\n",
       "      <td>8</td>\n",
       "    </tr>\n",
       "    <tr>\n",
       "      <th>17</th>\n",
       "      <td>S19153800051</td>\n",
       "      <td>05/23/2014</td>\n",
       "      <td>2582</td>\n",
       "      <td>Hy-Vee #2 Food Store / Mason City</td>\n",
       "      <td>551 S ILLINOIS AVE</td>\n",
       "      <td>MASON CITY</td>\n",
       "      <td>50401</td>\n",
       "      <td>POINT (-93.17114 43.14623)</td>\n",
       "      <td>17.0</td>\n",
       "      <td>Cerro Gordo</td>\n",
       "      <td>...</td>\n",
       "      <td>12</td>\n",
       "      <td>750</td>\n",
       "      <td>6.06</td>\n",
       "      <td>9.09</td>\n",
       "      <td>12</td>\n",
       "      <td>109.08</td>\n",
       "      <td>9.0</td>\n",
       "      <td>2.38</td>\n",
       "      <td>2014</td>\n",
       "      <td>5</td>\n",
       "    </tr>\n",
       "    <tr>\n",
       "      <th>23</th>\n",
       "      <td>S24086400053</td>\n",
       "      <td>02/17/2015</td>\n",
       "      <td>2607</td>\n",
       "      <td>Hy-Vee Wine and Spirits / Shenandoah</td>\n",
       "      <td>520 SO FREMONT</td>\n",
       "      <td>SHENANDOAH</td>\n",
       "      <td>51601</td>\n",
       "      <td>POINT (-95.385111 40.761736)</td>\n",
       "      <td>73.0</td>\n",
       "      <td>Page</td>\n",
       "      <td>...</td>\n",
       "      <td>12</td>\n",
       "      <td>750</td>\n",
       "      <td>5.78</td>\n",
       "      <td>8.67</td>\n",
       "      <td>12</td>\n",
       "      <td>104.04</td>\n",
       "      <td>9.0</td>\n",
       "      <td>2.38</td>\n",
       "      <td>2015</td>\n",
       "      <td>2</td>\n",
       "    </tr>\n",
       "    <tr>\n",
       "      <th>26</th>\n",
       "      <td>S16932400181</td>\n",
       "      <td>01/20/2014</td>\n",
       "      <td>2647</td>\n",
       "      <td>Hy-Vee #7 / Cedar Rapids</td>\n",
       "      <td>5050 EDGEWOOD RD</td>\n",
       "      <td>CEDAR RAPIDS</td>\n",
       "      <td>52411</td>\n",
       "      <td>POINT (-91.701581 42.030129)</td>\n",
       "      <td>57.0</td>\n",
       "      <td>Linn</td>\n",
       "      <td>...</td>\n",
       "      <td>12</td>\n",
       "      <td>500</td>\n",
       "      <td>5.50</td>\n",
       "      <td>8.25</td>\n",
       "      <td>2</td>\n",
       "      <td>16.50</td>\n",
       "      <td>1.0</td>\n",
       "      <td>0.26</td>\n",
       "      <td>2014</td>\n",
       "      <td>1</td>\n",
       "    </tr>\n",
       "    <tr>\n",
       "      <th>27</th>\n",
       "      <td>S13902000148</td>\n",
       "      <td>08/14/2013</td>\n",
       "      <td>2614</td>\n",
       "      <td>Hy-Vee #3 Food and Drugstore</td>\n",
       "      <td>1823 E KIMBERLY RD</td>\n",
       "      <td>DAVENPORT</td>\n",
       "      <td>52807</td>\n",
       "      <td>POINT (-90.548919 41.55678100000001)</td>\n",
       "      <td>82.0</td>\n",
       "      <td>Scott</td>\n",
       "      <td>...</td>\n",
       "      <td>48</td>\n",
       "      <td>200</td>\n",
       "      <td>1.76</td>\n",
       "      <td>2.64</td>\n",
       "      <td>10</td>\n",
       "      <td>26.40</td>\n",
       "      <td>2.0</td>\n",
       "      <td>0.53</td>\n",
       "      <td>2013</td>\n",
       "      <td>8</td>\n",
       "    </tr>\n",
       "  </tbody>\n",
       "</table>\n",
       "<p>5 rows × 26 columns</p>\n",
       "</div>"
      ],
      "text/plain": [
       "   Invoice/Item Number        Date  Store Number  \\\n",
       "2         S27600300027  08/31/2015          2560   \n",
       "17        S19153800051  05/23/2014          2582   \n",
       "23        S24086400053  02/17/2015          2607   \n",
       "26        S16932400181  01/20/2014          2647   \n",
       "27        S13902000148  08/14/2013          2614   \n",
       "\n",
       "                              Store Name                     Address  \\\n",
       "2             Hy-Vee Food Store / Marion  3600 BUSINESS HWY 151 EAST   \n",
       "17     Hy-Vee #2 Food Store / Mason City          551 S ILLINOIS AVE   \n",
       "23  Hy-Vee Wine and Spirits / Shenandoah              520 SO FREMONT   \n",
       "26              Hy-Vee #7 / Cedar Rapids            5050 EDGEWOOD RD   \n",
       "27          Hy-Vee #3 Food and Drugstore          1823 E KIMBERLY RD   \n",
       "\n",
       "            City Zip Code                        Store Location  \\\n",
       "2         MARION    52302                                   NaN   \n",
       "17    MASON CITY    50401            POINT (-93.17114 43.14623)   \n",
       "23    SHENANDOAH    51601          POINT (-95.385111 40.761736)   \n",
       "26  CEDAR RAPIDS    52411          POINT (-91.701581 42.030129)   \n",
       "27     DAVENPORT    52807  POINT (-90.548919 41.55678100000001)   \n",
       "\n",
       "    County Number       County  ...  Pack Bottle Volume (ml)  \\\n",
       "2            57.0         Linn  ...     1               3000   \n",
       "17           17.0  Cerro Gordo  ...    12                750   \n",
       "23           73.0         Page  ...    12                750   \n",
       "26           57.0         Linn  ...    12                500   \n",
       "27           82.0        Scott  ...    48                200   \n",
       "\n",
       "    State Bottle Cost State Bottle Retail Bottles Sold Sale (Dollars)  \\\n",
       "2               29.72               44.58            2          89.16   \n",
       "17               6.06                9.09           12         109.08   \n",
       "23               5.78                8.67           12         104.04   \n",
       "26               5.50                8.25            2          16.50   \n",
       "27               1.76                2.64           10          26.40   \n",
       "\n",
       "    Volume Sold (Liters)  Volume Sold (Gallons)  Year  Month  \n",
       "2                    6.0                   1.59  2015      8  \n",
       "17                   9.0                   2.38  2014      5  \n",
       "23                   9.0                   2.38  2015      2  \n",
       "26                   1.0                   0.26  2014      1  \n",
       "27                   2.0                   0.53  2013      8  \n",
       "\n",
       "[5 rows x 26 columns]"
      ]
     },
     "execution_count": 58,
     "metadata": {},
     "output_type": "execute_result"
    }
   ],
   "source": [
    "Hy_vee.head()"
   ]
  },
  {
   "cell_type": "code",
   "execution_count": 56,
   "metadata": {},
   "outputs": [
    {
     "name": "stderr",
     "output_type": "stream",
     "text": [
      "/opt/anaconda3/lib/python3.7/site-packages/ipykernel_launcher.py:1: SettingWithCopyWarning: \n",
      "A value is trying to be set on a copy of a slice from a DataFrame.\n",
      "Try using .loc[row_indexer,col_indexer] = value instead\n",
      "\n",
      "See the caveats in the documentation: https://pandas.pydata.org/pandas-docs/stable/user_guide/indexing.html#returning-a-view-versus-a-copy\n",
      "  \"\"\"Entry point for launching an IPython kernel.\n"
     ]
    }
   ],
   "source": [
    "Hy_vee['Year'] = pd.DatetimeIndex(Hy_vee['Date']).year"
   ]
  },
  {
   "cell_type": "code",
   "execution_count": 57,
   "metadata": {},
   "outputs": [
    {
     "name": "stderr",
     "output_type": "stream",
     "text": [
      "/opt/anaconda3/lib/python3.7/site-packages/ipykernel_launcher.py:1: SettingWithCopyWarning: \n",
      "A value is trying to be set on a copy of a slice from a DataFrame.\n",
      "Try using .loc[row_indexer,col_indexer] = value instead\n",
      "\n",
      "See the caveats in the documentation: https://pandas.pydata.org/pandas-docs/stable/user_guide/indexing.html#returning-a-view-versus-a-copy\n",
      "  \"\"\"Entry point for launching an IPython kernel.\n"
     ]
    }
   ],
   "source": [
    "Hy_vee['Month'] = pd.DatetimeIndex(Hy_vee['Date']).month"
   ]
  },
  {
   "cell_type": "markdown",
   "metadata": {},
   "source": [
    "#### This is the total number of Hy_vee stores in Iowa"
   ]
  },
  {
   "cell_type": "code",
   "execution_count": 9,
   "metadata": {},
   "outputs": [
    {
     "data": {
      "text/plain": [
       "203"
      ]
     },
     "execution_count": 9,
     "metadata": {},
     "output_type": "execute_result"
    }
   ],
   "source": [
    "Hy_vee['Store Name'].nunique()"
   ]
  },
  {
   "cell_type": "markdown",
   "metadata": {},
   "source": [
    "Makes sense, as according to Hy_vee website, there are a total of ~240 Hy_vee stores throughout the midwest, with the majority in Iowa."
   ]
  },
  {
   "cell_type": "markdown",
   "metadata": {},
   "source": [
    "#### These are the top selling stores"
   ]
  },
  {
   "cell_type": "code",
   "execution_count": 10,
   "metadata": {},
   "outputs": [
    {
     "data": {
      "text/plain": [
       "Hy-Vee #3 / BDI / Des Moines             167233\n",
       "Hy-Vee Wine and Spirits / Iowa City      119490\n",
       "Hy-Vee Food Store #1 / Mason City        102665\n",
       "Hy-Vee Wine and Spirits / Bettendorf     101923\n",
       "Hy-Vee Food Store / Cedar Falls          101038\n",
       "                                          ...  \n",
       "Hy-Vee Fast and Fresh / Storm Lake           72\n",
       "Hy-Vee Gas - Pleasant Hill                   71\n",
       "Hy-Vee Fast & Fresh Express / Creston        43\n",
       "Hy-Vee Fast & Fresh Express- Creston         34\n",
       "Hy-Vee Gase #5018 / Ames                     21\n",
       "Name: Store Name, Length: 203, dtype: int64"
      ]
     },
     "execution_count": 10,
     "metadata": {},
     "output_type": "execute_result"
    }
   ],
   "source": [
    "Hy_vee['Store Name'].value_counts()"
   ]
  },
  {
   "cell_type": "code",
   "execution_count": 12,
   "metadata": {},
   "outputs": [
    {
     "data": {
      "text/html": [
       "<div>\n",
       "<style scoped>\n",
       "    .dataframe tbody tr th:only-of-type {\n",
       "        vertical-align: middle;\n",
       "    }\n",
       "\n",
       "    .dataframe tbody tr th {\n",
       "        vertical-align: top;\n",
       "    }\n",
       "\n",
       "    .dataframe thead th {\n",
       "        text-align: right;\n",
       "    }\n",
       "</style>\n",
       "<table border=\"1\" class=\"dataframe\">\n",
       "  <thead>\n",
       "    <tr style=\"text-align: right;\">\n",
       "      <th></th>\n",
       "      <th>Invoice/Item Number</th>\n",
       "      <th>Date</th>\n",
       "      <th>Store Number</th>\n",
       "      <th>Store Name</th>\n",
       "      <th>Address</th>\n",
       "      <th>City</th>\n",
       "      <th>Zip Code</th>\n",
       "      <th>Store Location</th>\n",
       "      <th>County Number</th>\n",
       "      <th>County</th>\n",
       "      <th>...</th>\n",
       "      <th>Item Number</th>\n",
       "      <th>Item Description</th>\n",
       "      <th>Pack</th>\n",
       "      <th>Bottle Volume (ml)</th>\n",
       "      <th>State Bottle Cost</th>\n",
       "      <th>State Bottle Retail</th>\n",
       "      <th>Bottles Sold</th>\n",
       "      <th>Sale (Dollars)</th>\n",
       "      <th>Volume Sold (Liters)</th>\n",
       "      <th>Volume Sold (Gallons)</th>\n",
       "    </tr>\n",
       "  </thead>\n",
       "  <tbody>\n",
       "    <tr>\n",
       "      <th>2</th>\n",
       "      <td>S27600300027</td>\n",
       "      <td>08/31/2015</td>\n",
       "      <td>2560</td>\n",
       "      <td>Hy-Vee Food Store / Marion</td>\n",
       "      <td>3600 BUSINESS HWY 151 EAST</td>\n",
       "      <td>MARION</td>\n",
       "      <td>52302</td>\n",
       "      <td>NaN</td>\n",
       "      <td>57.0</td>\n",
       "      <td>Linn</td>\n",
       "      <td>...</td>\n",
       "      <td>64858</td>\n",
       "      <td>Fireball Cinnamon Whiskey Mini Dispenser</td>\n",
       "      <td>1</td>\n",
       "      <td>3000</td>\n",
       "      <td>29.72</td>\n",
       "      <td>44.58</td>\n",
       "      <td>2</td>\n",
       "      <td>89.16</td>\n",
       "      <td>6.0</td>\n",
       "      <td>1.59</td>\n",
       "    </tr>\n",
       "    <tr>\n",
       "      <th>17</th>\n",
       "      <td>S19153800051</td>\n",
       "      <td>05/23/2014</td>\n",
       "      <td>2582</td>\n",
       "      <td>Hy-Vee #2 Food Store / Mason City</td>\n",
       "      <td>551 S ILLINOIS AVE</td>\n",
       "      <td>MASON CITY</td>\n",
       "      <td>50401</td>\n",
       "      <td>POINT (-93.17114 43.14623)</td>\n",
       "      <td>17.0</td>\n",
       "      <td>Cerro Gordo</td>\n",
       "      <td>...</td>\n",
       "      <td>51696</td>\n",
       "      <td>Stock 84 Brandy</td>\n",
       "      <td>12</td>\n",
       "      <td>750</td>\n",
       "      <td>6.06</td>\n",
       "      <td>9.09</td>\n",
       "      <td>12</td>\n",
       "      <td>109.08</td>\n",
       "      <td>9.0</td>\n",
       "      <td>2.38</td>\n",
       "    </tr>\n",
       "    <tr>\n",
       "      <th>23</th>\n",
       "      <td>S24086400053</td>\n",
       "      <td>02/17/2015</td>\n",
       "      <td>2607</td>\n",
       "      <td>Hy-Vee Wine and Spirits / Shenandoah</td>\n",
       "      <td>520 SO FREMONT</td>\n",
       "      <td>SHENANDOAH</td>\n",
       "      <td>51601</td>\n",
       "      <td>POINT (-95.385111 40.761736)</td>\n",
       "      <td>73.0</td>\n",
       "      <td>Page</td>\n",
       "      <td>...</td>\n",
       "      <td>43025</td>\n",
       "      <td>Admiral Nelson Spiced Rum Traveler</td>\n",
       "      <td>12</td>\n",
       "      <td>750</td>\n",
       "      <td>5.78</td>\n",
       "      <td>8.67</td>\n",
       "      <td>12</td>\n",
       "      <td>104.04</td>\n",
       "      <td>9.0</td>\n",
       "      <td>2.38</td>\n",
       "    </tr>\n",
       "    <tr>\n",
       "      <th>26</th>\n",
       "      <td>S16932400181</td>\n",
       "      <td>01/20/2014</td>\n",
       "      <td>2647</td>\n",
       "      <td>Hy-Vee #7 / Cedar Rapids</td>\n",
       "      <td>5050 EDGEWOOD RD</td>\n",
       "      <td>CEDAR RAPIDS</td>\n",
       "      <td>52411</td>\n",
       "      <td>POINT (-91.701581 42.030129)</td>\n",
       "      <td>57.0</td>\n",
       "      <td>Linn</td>\n",
       "      <td>...</td>\n",
       "      <td>43331</td>\n",
       "      <td>Captain Morgan Spiced Rum Mini</td>\n",
       "      <td>12</td>\n",
       "      <td>500</td>\n",
       "      <td>5.50</td>\n",
       "      <td>8.25</td>\n",
       "      <td>2</td>\n",
       "      <td>16.50</td>\n",
       "      <td>1.0</td>\n",
       "      <td>0.26</td>\n",
       "    </tr>\n",
       "    <tr>\n",
       "      <th>27</th>\n",
       "      <td>S13902000148</td>\n",
       "      <td>08/14/2013</td>\n",
       "      <td>2614</td>\n",
       "      <td>Hy-Vee #3 Food and Drugstore</td>\n",
       "      <td>1823 E KIMBERLY RD</td>\n",
       "      <td>DAVENPORT</td>\n",
       "      <td>52807</td>\n",
       "      <td>POINT (-90.548919 41.55678100000001)</td>\n",
       "      <td>82.0</td>\n",
       "      <td>Scott</td>\n",
       "      <td>...</td>\n",
       "      <td>24453</td>\n",
       "      <td>Kessler Blend Whiskey</td>\n",
       "      <td>48</td>\n",
       "      <td>200</td>\n",
       "      <td>1.76</td>\n",
       "      <td>2.64</td>\n",
       "      <td>10</td>\n",
       "      <td>26.40</td>\n",
       "      <td>2.0</td>\n",
       "      <td>0.53</td>\n",
       "    </tr>\n",
       "  </tbody>\n",
       "</table>\n",
       "<p>5 rows × 24 columns</p>\n",
       "</div>"
      ],
      "text/plain": [
       "   Invoice/Item Number        Date  Store Number  \\\n",
       "2         S27600300027  08/31/2015          2560   \n",
       "17        S19153800051  05/23/2014          2582   \n",
       "23        S24086400053  02/17/2015          2607   \n",
       "26        S16932400181  01/20/2014          2647   \n",
       "27        S13902000148  08/14/2013          2614   \n",
       "\n",
       "                              Store Name                     Address  \\\n",
       "2             Hy-Vee Food Store / Marion  3600 BUSINESS HWY 151 EAST   \n",
       "17     Hy-Vee #2 Food Store / Mason City          551 S ILLINOIS AVE   \n",
       "23  Hy-Vee Wine and Spirits / Shenandoah              520 SO FREMONT   \n",
       "26              Hy-Vee #7 / Cedar Rapids            5050 EDGEWOOD RD   \n",
       "27          Hy-Vee #3 Food and Drugstore          1823 E KIMBERLY RD   \n",
       "\n",
       "            City Zip Code                        Store Location  \\\n",
       "2         MARION    52302                                   NaN   \n",
       "17    MASON CITY    50401            POINT (-93.17114 43.14623)   \n",
       "23    SHENANDOAH    51601          POINT (-95.385111 40.761736)   \n",
       "26  CEDAR RAPIDS    52411          POINT (-91.701581 42.030129)   \n",
       "27     DAVENPORT    52807  POINT (-90.548919 41.55678100000001)   \n",
       "\n",
       "    County Number       County  ...  Item Number  \\\n",
       "2            57.0         Linn  ...        64858   \n",
       "17           17.0  Cerro Gordo  ...        51696   \n",
       "23           73.0         Page  ...        43025   \n",
       "26           57.0         Linn  ...        43331   \n",
       "27           82.0        Scott  ...        24453   \n",
       "\n",
       "                            Item Description  Pack Bottle Volume (ml)  \\\n",
       "2   Fireball Cinnamon Whiskey Mini Dispenser     1               3000   \n",
       "17                           Stock 84 Brandy    12                750   \n",
       "23        Admiral Nelson Spiced Rum Traveler    12                750   \n",
       "26            Captain Morgan Spiced Rum Mini    12                500   \n",
       "27                     Kessler Blend Whiskey    48                200   \n",
       "\n",
       "   State Bottle Cost State Bottle Retail  Bottles Sold  Sale (Dollars)  \\\n",
       "2              29.72               44.58             2           89.16   \n",
       "17              6.06                9.09            12          109.08   \n",
       "23              5.78                8.67            12          104.04   \n",
       "26              5.50                8.25             2           16.50   \n",
       "27              1.76                2.64            10           26.40   \n",
       "\n",
       "    Volume Sold (Liters)  Volume Sold (Gallons)  \n",
       "2                    6.0                   1.59  \n",
       "17                   9.0                   2.38  \n",
       "23                   9.0                   2.38  \n",
       "26                   1.0                   0.26  \n",
       "27                   2.0                   0.53  \n",
       "\n",
       "[5 rows x 24 columns]"
      ]
     },
     "execution_count": 12,
     "metadata": {},
     "output_type": "execute_result"
    }
   ],
   "source": [
    "Hy_vee.head()"
   ]
  },
  {
   "cell_type": "code",
   "execution_count": 22,
   "metadata": {},
   "outputs": [
    {
     "data": {
      "text/plain": [
       "Hawkeye Vodka                        93455\n",
       "Black Velvet                         87341\n",
       "Fireball Cinnamon Whiskey            55930\n",
       "Five O'clock Vodka                   52708\n",
       "Jim Beam                             49709\n",
       "                                     ...  \n",
       "99 Long Island Iced Tea Mini             1\n",
       "Macallan Cask Strength Scotch DNO        1\n",
       "Brugal Especial Extra Dry                1\n",
       "Arrow Creme De Strawberry                1\n",
       "Blumers Absinthe                         1\n",
       "Name: Item Description, Length: 6979, dtype: int64"
      ]
     },
     "execution_count": 22,
     "metadata": {},
     "output_type": "execute_result"
    }
   ],
   "source": [
    "Hy_vee['Item Description'].value_counts()"
   ]
  },
  {
   "cell_type": "code",
   "execution_count": 23,
   "metadata": {},
   "outputs": [
    {
     "data": {
      "text/plain": [
       "1134459"
      ]
     },
     "execution_count": 23,
     "metadata": {},
     "output_type": "execute_result"
    }
   ],
   "source": [
    "Hy_vee['Item Description'].str.contains('Vodka').sum()"
   ]
  },
  {
   "cell_type": "code",
   "execution_count": 27,
   "metadata": {},
   "outputs": [
    {
     "data": {
      "text/plain": [
       "301222"
      ]
     },
     "execution_count": 27,
     "metadata": {},
     "output_type": "execute_result"
    }
   ],
   "source": [
    "Hy_vee['Item Description'].str.contains('Whiskey').sum()"
   ]
  },
  {
   "cell_type": "code",
   "execution_count": 36,
   "metadata": {},
   "outputs": [],
   "source": [
    "this = Hy_vee['Store Location'].isna().sum()"
   ]
  },
  {
   "cell_type": "code",
   "execution_count": 37,
   "metadata": {},
   "outputs": [],
   "source": [
    "that = len(Hy_vee['Store Location'])"
   ]
  },
  {
   "cell_type": "markdown",
   "metadata": {},
   "source": [
    "Almost 15% of Store locations are marked as missing."
   ]
  },
  {
   "cell_type": "code",
   "execution_count": 38,
   "metadata": {},
   "outputs": [
    {
     "data": {
      "text/plain": [
       "0.14947907798930443"
      ]
     },
     "execution_count": 38,
     "metadata": {},
     "output_type": "execute_result"
    }
   ],
   "source": [
    "this/that "
   ]
  },
  {
   "cell_type": "code",
   "execution_count": null,
   "metadata": {},
   "outputs": [],
   "source": [
    "Hy_vee[]"
   ]
  },
  {
   "cell_type": "code",
   "execution_count": null,
   "metadata": {},
   "outputs": [],
   "source": [
    "df_test = df.sample(100000)"
   ]
  },
  {
   "cell_type": "code",
   "execution_count": 9,
   "metadata": {},
   "outputs": [
    {
     "data": {
      "text/plain": [
       "'/Users/Monika/GitHub/Iowa Liquor Sales'"
      ]
     },
     "execution_count": 9,
     "metadata": {},
     "output_type": "execute_result"
    }
   ],
   "source": [
    "pwd"
   ]
  },
  {
   "cell_type": "code",
   "execution_count": 10,
   "metadata": {},
   "outputs": [],
   "source": [
    "df_test.to_csv('data/Iowa_Liquor_Subset.csv', index=False)"
   ]
  },
  {
   "cell_type": "code",
   "execution_count": null,
   "metadata": {},
   "outputs": [],
   "source": []
  }
 ],
 "metadata": {
  "kernelspec": {
   "display_name": "Python 3",
   "language": "python",
   "name": "python3"
  },
  "language_info": {
   "codemirror_mode": {
    "name": "ipython",
    "version": 3
   },
   "file_extension": ".py",
   "mimetype": "text/x-python",
   "name": "python",
   "nbconvert_exporter": "python",
   "pygments_lexer": "ipython3",
   "version": "3.7.4"
  }
 },
 "nbformat": 4,
 "nbformat_minor": 2
}
