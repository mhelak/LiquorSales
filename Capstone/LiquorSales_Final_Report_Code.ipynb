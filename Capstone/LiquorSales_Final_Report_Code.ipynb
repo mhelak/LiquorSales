{
 "cells": [
  {
   "cell_type": "markdown",
   "metadata": {},
   "source": [
    "<h3 align=\"center\"> Iowa Liquor Sales Regression Analysis</h3> \n",
    "\n"
   ]
  },
  {
   "cell_type": "markdown",
   "metadata": {},
   "source": [
    "Predicting demand is a common problem for retailers in every domain across the country. It is not only useful to predict revenue and cash flow, but also in the interest of optimizing a supply chain. The aim of this project is to investigate patterns of liquor sales in the supermarket chain Hy-Vee. This would help stakeholders prepare supply chains for certain time periods of the year and/or plan for economic resilience.\n",
    "\n",
    "By using data from the State of Iowa on the Liquor Sales over the last 10 years, I created a random forest model that can predict the volume of liquor sold in a given week of the year across Hy-vee Supermarkets. The tool I created can be used to predict demand given the season and socio-economic condition of the State. "
   ]
  },
  {
   "cell_type": "markdown",
   "metadata": {},
   "source": [
    "### Sourcing the Data\n",
    "\n",
    "My raw dataset was downloaded in the form of a .csv file from the State of Iowa data.gov website, and its original dimensions were 19,445,831 rows and 24 columns. Since I was only interested in predicting the volume sold by a particular supermarket chain, I narrowed down the datasets to only observations from Hy-Vee Supermarkets. This reduced the file to (6458510, 24). I also downloaded another dataset from the same website that contained numbers of unemployment claims by county over the same time period. I merged these two datasets together on county, adding an additional column. "
   ]
  },
  {
   "cell_type": "markdown",
   "metadata": {},
   "source": [
    "### Data Wrangling\n",
    "\n",
    "The dataset required extensive data wrangling work. The steps performed included:\n",
    "- checking for missing values\n",
    "- changing column names to lowercase\n",
    "- filtering down to only Hy-Vee Supermarkets\n",
    "- grouping the dataframe by week and county\n",
    "\n",
    "As these are routine data transformations and in the interest of space, code used to wrangle the raw data can be found in a separate file (titled: Data Wrangling)\n",
    "\n",
    "Below I show the steps for two wrangling procedures:\n",
    "- grouping cities by whether they are large or small ( top 3 in the state )\n",
    "- grouping counties on whether they are urban or rural\n"
   ]
  },
  {
   "cell_type": "code",
   "execution_count": 338,
   "metadata": {},
   "outputs": [],
   "source": [
    "import pandas as pd\n",
    "import matplotlib.pyplot as plt\n",
    "import numpy as np\n",
    "import scipy.stats"
   ]
  },
  {
   "cell_type": "code",
   "execution_count": 339,
   "metadata": {},
   "outputs": [],
   "source": [
    "df = pd.read_csv('liquor_dataset_.csv' , index_col = 0, dtype={'week': object, 'store_number': object})"
   ]
  },
  {
   "cell_type": "markdown",
   "metadata": {},
   "source": [
    "Given that we had way too many counties to be able to deal with, will group by urban and rural based on number of inhabitants.\n",
    "\n",
    "1\tPolk County\t479,612\n",
    "\n",
    "2\tLinn County\t223,861\n",
    "\n",
    "3\tScott County\t172,446\n",
    "\n",
    "4\tJohnson County\t148,577\n",
    "\n",
    "5\tBlack Hawk County\t132,393"
   ]
  },
  {
   "cell_type": "code",
   "execution_count": 340,
   "metadata": {},
   "outputs": [],
   "source": [
    "urban = ['POLK', 'LINN', 'SCOTT', 'JOHNSON', 'BLACK HAWK']\n",
    "\n",
    "rural = ['STORY','BOONE', 'DES MOINES',\n",
    "       'CERRO GORDO', 'JASPER', 'MONTGOMERY', 'DICKINSON', 'APPANOOSE',\n",
    "       'DUBUQUE', 'WEBSTER', 'HARDIN', 'WAPELLO',\n",
    "       'MARSHALL', 'WARREN', 'CLARKE', 'LUCAS', 'UNION', 'LEE',\n",
    "       'EMMET', 'HENRY', 'MONROE', 'CLAY', 'MARION', 'MUSCATINE',\n",
    "       'BUENA VISTA', 'FLOYD', 'POWESHIEK', 'WASHINGTON', 'KOSSUTH',\n",
    "       'CASS', 'CARROLL', 'WOODBURY', 'CRAWFORD', 'CHEROKEE', 'MAHASKA',\n",
    "       'JEFFERSON', 'HAMILTON', 'PLYMOUTH', 'HUMBOLDT', 'PAGE', 'DALLAS',\n",
    "       'POTTAWATTAMIE', 'CLINTON', 'SHELBY', 'BREMER', 'CLAYTON', 'ADAMS',\n",
    "       'TAYLOR', 'RINGGOLD', 'WAYNE', \"O'BRIEN\", 'DECATUR', 'GREENE',\n",
    "       'MADISON', 'WINNEBAGO', 'HANCOCK', 'TAMA', 'PALO ALTO', 'BENTON',\n",
    "       'HOWARD', 'FRANKLIN', 'ALLAMAKEE']"
   ]
  },
  {
   "cell_type": "code",
   "execution_count": 341,
   "metadata": {},
   "outputs": [],
   "source": [
    "df['county'] = df['county'].replace(to_replace = urban, value ='urban')\n",
    "df['county'] = df['county'].replace(to_replace = rural, value = 'rural')"
   ]
  },
  {
   "cell_type": "markdown",
   "metadata": {},
   "source": [
    "Same thing is done for Cities in Iowa. The three major cities in the state are Des Moines, Cedar Rapids and Davenport."
   ]
  },
  {
   "cell_type": "code",
   "execution_count": 342,
   "metadata": {},
   "outputs": [],
   "source": [
    "large = ['DES MOINES', 'CEDAR RAPIDS', 'DAVENPORT']\n",
    "\n",
    "small = ['AMES', 'ANKENY', 'BOONE', 'BURLINGTON', \n",
    "       'IOWA CITY', 'MARION', 'MASON CITY', 'NEWTON', 'RED OAK',\n",
    "       'WEST DES MOINES', 'SPIRIT LAKE', 'CENTERVILLE', 'DUBUQUE',\n",
    "        'URBANDALE', 'FORT DODGE', 'WATERLOO', 'IOWA FALLS',\n",
    "       'OTTUWMA', 'OTTUMWA', 'MARSHALLTOWN', 'ALTOONA', 'INDIANOLA',\n",
    "       'OSCEOLA', 'CHARITON', 'CRESTON', 'KEOKUK',\n",
    "       'ESTHERVILLE', 'MOUNT PLEASANT', 'ALBIA', 'SPENCER', 'KNOXVILLE',\n",
    "       'CEDAR FALLS', 'MUSCATINE', 'STORM LAKE', 'CHARLES CITY',\n",
    "       'GRINNELL', 'WASHINGTON', 'FORT MADISON', 'ALGONA', 'JOHNSTON',\n",
    "       'ATLANTIC', 'CARROLL', 'SIOUX CITY', 'DENISON', 'CHEROKEE',\n",
    "       'CORALVILLE', 'OSKALOOSA', 'FAIRFIELD', 'WEBSTER CITY',\n",
    "       'BETTENDORF', 'LEMARS', 'LE MARS', 'HUMBOLDT', 'SHENANDOAH',\n",
    "       'PERRY', 'COUNCIL BLUFFS', 'CLINTON', 'WINDSOR HEIGHTS', 'ELDORA',\n",
    "       'PELLA', 'HARLAN', 'WAVERLY', 'CLARINDA', 'CORNING', 'BEDFORD',\n",
    "       'MOUNT AYR', 'CORYDON', 'SHELDON', 'WAUKEE', 'LEON', 'JEFFERSON',\n",
    "       'WINTERSET', 'LAMONI', 'FOREST CITY', 'GARNER', 'TOLEDO',\n",
    "       'EMMETSBURG', 'PLEASANT HILL', 'CLIVE', 'VINTON', 'CRESCO',\n",
    "       'HAMPTON', 'WAUKON', 'DYERSVILLE']"
   ]
  },
  {
   "cell_type": "code",
   "execution_count": 343,
   "metadata": {},
   "outputs": [],
   "source": [
    "df['city'] = df['city'].replace(to_replace = large, value ='large')\n",
    "df['city'] = df['city'].replace(to_replace = small, value ='small')"
   ]
  },
  {
   "cell_type": "code",
   "execution_count": 344,
   "metadata": {},
   "outputs": [
    {
     "data": {
      "text/html": [
       "<div>\n",
       "<style scoped>\n",
       "    .dataframe tbody tr th:only-of-type {\n",
       "        vertical-align: middle;\n",
       "    }\n",
       "\n",
       "    .dataframe tbody tr th {\n",
       "        vertical-align: top;\n",
       "    }\n",
       "\n",
       "    .dataframe thead th {\n",
       "        text-align: right;\n",
       "    }\n",
       "</style>\n",
       "<table border=\"1\" class=\"dataframe\">\n",
       "  <thead>\n",
       "    <tr style=\"text-align: right;\">\n",
       "      <th></th>\n",
       "      <th>week</th>\n",
       "      <th>general_alcohol_category</th>\n",
       "      <th>city</th>\n",
       "      <th>county</th>\n",
       "      <th>initial claims</th>\n",
       "      <th>volume</th>\n",
       "    </tr>\n",
       "  </thead>\n",
       "  <tbody>\n",
       "    <tr>\n",
       "      <th>0</th>\n",
       "      <td>1</td>\n",
       "      <td>amaretto</td>\n",
       "      <td>small</td>\n",
       "      <td>rural</td>\n",
       "      <td>167.0</td>\n",
       "      <td>6.75</td>\n",
       "    </tr>\n",
       "    <tr>\n",
       "      <th>1</th>\n",
       "      <td>1</td>\n",
       "      <td>amaretto</td>\n",
       "      <td>small</td>\n",
       "      <td>rural</td>\n",
       "      <td>248.0</td>\n",
       "      <td>3.75</td>\n",
       "    </tr>\n",
       "    <tr>\n",
       "      <th>2</th>\n",
       "      <td>1</td>\n",
       "      <td>amaretto</td>\n",
       "      <td>small</td>\n",
       "      <td>rural</td>\n",
       "      <td>306.0</td>\n",
       "      <td>2.25</td>\n",
       "    </tr>\n",
       "    <tr>\n",
       "      <th>3</th>\n",
       "      <td>1</td>\n",
       "      <td>brandy</td>\n",
       "      <td>small</td>\n",
       "      <td>rural</td>\n",
       "      <td>159.0</td>\n",
       "      <td>33.73</td>\n",
       "    </tr>\n",
       "    <tr>\n",
       "      <th>4</th>\n",
       "      <td>1</td>\n",
       "      <td>brandy</td>\n",
       "      <td>small</td>\n",
       "      <td>rural</td>\n",
       "      <td>167.0</td>\n",
       "      <td>33.80</td>\n",
       "    </tr>\n",
       "  </tbody>\n",
       "</table>\n",
       "</div>"
      ],
      "text/plain": [
       "  week general_alcohol_category   city county  initial claims  volume\n",
       "0    1                 amaretto  small  rural           167.0    6.75\n",
       "1    1                 amaretto  small  rural           248.0    3.75\n",
       "2    1                 amaretto  small  rural           306.0    2.25\n",
       "3    1                   brandy  small  rural           159.0   33.73\n",
       "4    1                   brandy  small  rural           167.0   33.80"
      ]
     },
     "execution_count": 344,
     "metadata": {},
     "output_type": "execute_result"
    }
   ],
   "source": [
    "df.head()"
   ]
  },
  {
   "cell_type": "code",
   "execution_count": 345,
   "metadata": {},
   "outputs": [
    {
     "name": "stdout",
     "output_type": "stream",
     "text": [
      "<class 'pandas.core.frame.DataFrame'>\n",
      "Int64Index: 477063 entries, 0 to 477062\n",
      "Data columns (total 6 columns):\n",
      " #   Column                    Non-Null Count   Dtype  \n",
      "---  ------                    --------------   -----  \n",
      " 0   week                      477063 non-null  object \n",
      " 1   general_alcohol_category  477063 non-null  object \n",
      " 2   city                      477063 non-null  object \n",
      " 3   county                    477063 non-null  object \n",
      " 4   initial claims            477063 non-null  float64\n",
      " 5   volume                    477063 non-null  float64\n",
      "dtypes: float64(2), object(4)\n",
      "memory usage: 25.5+ MB\n"
     ]
    }
   ],
   "source": [
    "df.info()"
   ]
  },
  {
   "cell_type": "markdown",
   "metadata": {},
   "source": [
    "### Exploratory Data analysis"
   ]
  },
  {
   "cell_type": "markdown",
   "metadata": {},
   "source": [
    "The aim of exploratory data analysis is to look at the relationship between different predictor variables and the target variable to see whether there is evidence of any relationship. As most of my data are categorical, I primarily used boxplots to look at the distributions."
   ]
  },
  {
   "cell_type": "markdown",
   "metadata": {},
   "source": [
    "#### Liquor type"
   ]
  },
  {
   "cell_type": "code",
   "execution_count": 346,
   "metadata": {},
   "outputs": [
    {
     "data": {
      "text/html": [
       "<div>\n",
       "<style scoped>\n",
       "    .dataframe tbody tr th:only-of-type {\n",
       "        vertical-align: middle;\n",
       "    }\n",
       "\n",
       "    .dataframe tbody tr th {\n",
       "        vertical-align: top;\n",
       "    }\n",
       "\n",
       "    .dataframe thead th {\n",
       "        text-align: right;\n",
       "    }\n",
       "</style>\n",
       "<table border=\"1\" class=\"dataframe\">\n",
       "  <thead>\n",
       "    <tr style=\"text-align: right;\">\n",
       "      <th></th>\n",
       "      <th>mean</th>\n",
       "      <th>std</th>\n",
       "    </tr>\n",
       "    <tr>\n",
       "      <th>general_alcohol_category</th>\n",
       "      <th></th>\n",
       "      <th></th>\n",
       "    </tr>\n",
       "  </thead>\n",
       "  <tbody>\n",
       "    <tr>\n",
       "      <th>amaretto</th>\n",
       "      <td>12.015031</td>\n",
       "      <td>11.984689</td>\n",
       "    </tr>\n",
       "    <tr>\n",
       "      <th>bourbon</th>\n",
       "      <td>4.070879</td>\n",
       "      <td>5.905013</td>\n",
       "    </tr>\n",
       "    <tr>\n",
       "      <th>brandy</th>\n",
       "      <td>27.163489</td>\n",
       "      <td>29.085454</td>\n",
       "    </tr>\n",
       "    <tr>\n",
       "      <th>cocktail</th>\n",
       "      <td>58.489247</td>\n",
       "      <td>105.421960</td>\n",
       "    </tr>\n",
       "    <tr>\n",
       "      <th>creme</th>\n",
       "      <td>6.170168</td>\n",
       "      <td>7.648201</td>\n",
       "    </tr>\n",
       "    <tr>\n",
       "      <th>gin</th>\n",
       "      <td>39.497795</td>\n",
       "      <td>50.732965</td>\n",
       "    </tr>\n",
       "    <tr>\n",
       "      <th>other</th>\n",
       "      <td>130.551694</td>\n",
       "      <td>210.387576</td>\n",
       "    </tr>\n",
       "    <tr>\n",
       "      <th>rum</th>\n",
       "      <td>155.303484</td>\n",
       "      <td>248.262948</td>\n",
       "    </tr>\n",
       "    <tr>\n",
       "      <th>scotch</th>\n",
       "      <td>9.633912</td>\n",
       "      <td>16.332593</td>\n",
       "    </tr>\n",
       "    <tr>\n",
       "      <th>spirit</th>\n",
       "      <td>16.129562</td>\n",
       "      <td>40.561900</td>\n",
       "    </tr>\n",
       "    <tr>\n",
       "      <th>tequila</th>\n",
       "      <td>56.907316</td>\n",
       "      <td>153.112594</td>\n",
       "    </tr>\n",
       "    <tr>\n",
       "      <th>vodka</th>\n",
       "      <td>360.503878</td>\n",
       "      <td>470.716651</td>\n",
       "    </tr>\n",
       "    <tr>\n",
       "      <th>whiskey</th>\n",
       "      <td>332.682908</td>\n",
       "      <td>428.314765</td>\n",
       "    </tr>\n",
       "  </tbody>\n",
       "</table>\n",
       "</div>"
      ],
      "text/plain": [
       "                                mean         std\n",
       "general_alcohol_category                        \n",
       "amaretto                   12.015031   11.984689\n",
       "bourbon                     4.070879    5.905013\n",
       "brandy                     27.163489   29.085454\n",
       "cocktail                   58.489247  105.421960\n",
       "creme                       6.170168    7.648201\n",
       "gin                        39.497795   50.732965\n",
       "other                     130.551694  210.387576\n",
       "rum                       155.303484  248.262948\n",
       "scotch                      9.633912   16.332593\n",
       "spirit                     16.129562   40.561900\n",
       "tequila                    56.907316  153.112594\n",
       "vodka                     360.503878  470.716651\n",
       "whiskey                   332.682908  428.314765"
      ]
     },
     "execution_count": 346,
     "metadata": {},
     "output_type": "execute_result"
    },
    {
     "data": {
      "image/png": "[encoded data removed]",
      "text/plain": [
       "<Figure size 432x288 with 1 Axes>"
      ]
     },
     "metadata": {
      "needs_background": "light"
     },
     "output_type": "display_data"
    }
   ],
   "source": [
    "df.boxplot(column=['volume'],by = ['general_alcohol_category'], rot=90).set_yscale('log')\n",
    "plt.ylabel(\"Volume Sold\")\n",
    "pd.DataFrame(df.groupby( ['general_alcohol_category'])['volume'].describe().loc[:,['mean','std']])"
   ]
  },
  {
   "cell_type": "markdown",
   "metadata": {},
   "source": [
    "Here, I chose to do an ANOVA to see whether the means are statistically different."
   ]
  },
  {
   "cell_type": "code",
   "execution_count": 347,
   "metadata": {},
   "outputs": [
    {
     "name": "stdout",
     "output_type": "stream",
     "text": [
      "                                sum_sq        df             F  PR(>F)\n",
      "general_alcohol_category  7.463349e+09      12.0  10581.036787     0.0\n",
      "Residual                  2.804065e+10  477050.0           NaN     NaN\n"
     ]
    }
   ],
   "source": [
    "import statsmodels.api as sm\n",
    "from statsmodels.formula.api import ols\n",
    "\n",
    "mod = ols('volume ~ general_alcohol_category', data = df).fit()\n",
    "\n",
    "aov_table = sm.stats.anova_lm(mod, typ=2)\n",
    "print(aov_table)"
   ]
  },
  {
   "cell_type": "markdown",
   "metadata": {},
   "source": [
    "The ANOVA suggests that we can reject the null hypothesis that the means of sales volume across liquor categories are equal and accept the alternative hypothesis that at least one mean is different from the others. This is not surprising from looking at the boxplots and considering that different types of liquor are sold in different kinds of bottles. There is reasonable basis for including this variable in the model. "
   ]
  },
  {
   "cell_type": "markdown",
   "metadata": {},
   "source": [
    "#### Locations"
   ]
  },
  {
   "cell_type": "markdown",
   "metadata": {},
   "source": [
    "Since there are 99 counties in Iowa and 200+ cities, I chose to feature engineer this data grouping it into two categories: large vs. small city and urban vs. rural county. I chose the threshold for each to be 100,000 residents."
   ]
  },
  {
   "cell_type": "code",
   "execution_count": 348,
   "metadata": {},
   "outputs": [
    {
     "data": {
      "text/html": [
       "<div>\n",
       "<style scoped>\n",
       "    .dataframe tbody tr th:only-of-type {\n",
       "        vertical-align: middle;\n",
       "    }\n",
       "\n",
       "    .dataframe tbody tr th {\n",
       "        vertical-align: top;\n",
       "    }\n",
       "\n",
       "    .dataframe thead th {\n",
       "        text-align: right;\n",
       "    }\n",
       "</style>\n",
       "<table border=\"1\" class=\"dataframe\">\n",
       "  <thead>\n",
       "    <tr style=\"text-align: right;\">\n",
       "      <th></th>\n",
       "      <th>mean</th>\n",
       "      <th>std</th>\n",
       "    </tr>\n",
       "    <tr>\n",
       "      <th>city</th>\n",
       "      <th></th>\n",
       "      <th></th>\n",
       "    </tr>\n",
       "  </thead>\n",
       "  <tbody>\n",
       "    <tr>\n",
       "      <th>large</th>\n",
       "      <td>162.042567</td>\n",
       "      <td>385.729939</td>\n",
       "    </tr>\n",
       "    <tr>\n",
       "      <th>small</th>\n",
       "      <td>113.910488</td>\n",
       "      <td>227.782107</td>\n",
       "    </tr>\n",
       "  </tbody>\n",
       "</table>\n",
       "</div>"
      ],
      "text/plain": [
       "             mean         std\n",
       "city                         \n",
       "large  162.042567  385.729939\n",
       "small  113.910488  227.782107"
      ]
     },
     "execution_count": 348,
     "metadata": {},
     "output_type": "execute_result"
    },
    {
     "data": {
      "image/png": "[encoded data removed]",
      "text/plain": [
       "<Figure size 432x288 with 1 Axes>"
      ]
     },
     "metadata": {
      "needs_background": "light"
     },
     "output_type": "display_data"
    }
   ],
   "source": [
    "df.boxplot(column=['volume'],by = ['city'], rot=90).set_yscale('log')\n",
    "plt.ylabel(\"volume\")\n",
    "pd.DataFrame(df.groupby(['city'])['volume'].describe().loc[:,['mean','std']])"
   ]
  },
  {
   "cell_type": "code",
   "execution_count": 349,
   "metadata": {},
   "outputs": [
    {
     "name": "stdout",
     "output_type": "stream",
     "text": [
      "t-statistic: 51.296537982761535 p-value: 0.0 degrees of freedom: 477061.0\n"
     ]
    }
   ],
   "source": [
    "data1 = df[df['city'] == 'large']['volume']\n",
    "data2 = df[df['city'] == 'small']['volume']\n",
    "\n",
    "results = statsmodels.stats.weightstats.ttest_ind(data1, data2, alternative='two-sided', usevar='pooled', weights=(None, None), value=0)\n",
    "\n",
    "print('t-statistic: ' + str(results[0]) + ' p-value: ' + str(results[1]) + ' degrees of freedom: ' + str(results[2]))"
   ]
  },
  {
   "cell_type": "markdown",
   "metadata": {},
   "source": [
    "The result indicates that we should reject the null hypothesis that the means of liquor consumption in large and small cities are equal and accept the alternative hypothesis that they are different. This provides reasonable basis for us to include the variable 'city' in the model.\n"
   ]
  },
  {
   "cell_type": "code",
   "execution_count": 350,
   "metadata": {},
   "outputs": [
    {
     "data": {
      "text/html": [
       "<div>\n",
       "<style scoped>\n",
       "    .dataframe tbody tr th:only-of-type {\n",
       "        vertical-align: middle;\n",
       "    }\n",
       "\n",
       "    .dataframe tbody tr th {\n",
       "        vertical-align: top;\n",
       "    }\n",
       "\n",
       "    .dataframe thead th {\n",
       "        text-align: right;\n",
       "    }\n",
       "</style>\n",
       "<table border=\"1\" class=\"dataframe\">\n",
       "  <thead>\n",
       "    <tr style=\"text-align: right;\">\n",
       "      <th></th>\n",
       "      <th>mean</th>\n",
       "      <th>std</th>\n",
       "    </tr>\n",
       "    <tr>\n",
       "      <th>county</th>\n",
       "      <th></th>\n",
       "      <th></th>\n",
       "    </tr>\n",
       "  </thead>\n",
       "  <tbody>\n",
       "    <tr>\n",
       "      <th>rural</th>\n",
       "      <td>100.733770</td>\n",
       "      <td>191.170189</td>\n",
       "    </tr>\n",
       "    <tr>\n",
       "      <th>urban</th>\n",
       "      <td>153.392156</td>\n",
       "      <td>342.885785</td>\n",
       "    </tr>\n",
       "  </tbody>\n",
       "</table>\n",
       "</div>"
      ],
      "text/plain": [
       "              mean         std\n",
       "county                        \n",
       "rural   100.733770  191.170189\n",
       "urban   153.392156  342.885785"
      ]
     },
     "execution_count": 350,
     "metadata": {},
     "output_type": "execute_result"
    },
    {
     "data": {
      "image/png": "[encoded data removed]",
      "text/plain": [
       "<Figure size 432x288 with 1 Axes>"
      ]
     },
     "metadata": {
      "needs_background": "light"
     },
     "output_type": "display_data"
    }
   ],
   "source": [
    "df.boxplot(column=['volume'],by = ['county'], rot=90).set_yscale('log')\n",
    "plt.ylabel(\"volume\")\n",
    "pd.DataFrame(df.groupby(['county'])['volume'].describe().loc[:,['mean','std']])"
   ]
  },
  {
   "cell_type": "code",
   "execution_count": 351,
   "metadata": {},
   "outputs": [],
   "source": [
    "import statsmodels.stats.weightstats"
   ]
  },
  {
   "cell_type": "code",
   "execution_count": 352,
   "metadata": {},
   "outputs": [
    {
     "name": "stdout",
     "output_type": "stream",
     "text": [
      "t-statistic: -66.7459401284296 p-value: 0.0 degrees of freedom: 477061.0\n"
     ]
    }
   ],
   "source": [
    "data1 = df[df['county'] == 'rural']['volume']\n",
    "data2 = df[df['county'] == 'urban']['volume']\n",
    "\n",
    "results = statsmodels.stats.weightstats.ttest_ind(data1, data2, alternative='two-sided', usevar='pooled', weights=(None, None), value=0)\n",
    "\n",
    "print('t-statistic: ' + str(results[0]) + ' p-value: ' + str(results[1]) + ' degrees of freedom: ' + str(results[2]))"
   ]
  },
  {
   "cell_type": "markdown",
   "metadata": {},
   "source": [
    "The result indicates that we should reject the null hypothesis that the means of liquor consumption in rural and urban counties are equal and accept the alternative hypothesis that they are different. Similarily, this provides reasonable basis for us to include the variable county in the model. "
   ]
  },
  {
   "cell_type": "markdown",
   "metadata": {},
   "source": [
    "I grouped the data by week and feature engineered 'week of the year' as a categorical variable. There appear to be differences in the volumes sold each week judging by the graph below."
   ]
  },
  {
   "cell_type": "code",
   "execution_count": 353,
   "metadata": {},
   "outputs": [
    {
     "data": {
      "text/html": [
       "<div>\n",
       "<style scoped>\n",
       "    .dataframe tbody tr th:only-of-type {\n",
       "        vertical-align: middle;\n",
       "    }\n",
       "\n",
       "    .dataframe tbody tr th {\n",
       "        vertical-align: top;\n",
       "    }\n",
       "\n",
       "    .dataframe thead th {\n",
       "        text-align: right;\n",
       "    }\n",
       "</style>\n",
       "<table border=\"1\" class=\"dataframe\">\n",
       "  <thead>\n",
       "    <tr style=\"text-align: right;\">\n",
       "      <th></th>\n",
       "      <th>mean</th>\n",
       "      <th>std</th>\n",
       "    </tr>\n",
       "    <tr>\n",
       "      <th>week</th>\n",
       "      <th></th>\n",
       "      <th></th>\n",
       "    </tr>\n",
       "  </thead>\n",
       "  <tbody>\n",
       "    <tr>\n",
       "      <th>1</th>\n",
       "      <td>103.681853</td>\n",
       "      <td>203.754095</td>\n",
       "    </tr>\n",
       "    <tr>\n",
       "      <th>10</th>\n",
       "      <td>124.685821</td>\n",
       "      <td>281.254942</td>\n",
       "    </tr>\n",
       "    <tr>\n",
       "      <th>11</th>\n",
       "      <td>111.226696</td>\n",
       "      <td>246.668137</td>\n",
       "    </tr>\n",
       "    <tr>\n",
       "      <th>12</th>\n",
       "      <td>108.145310</td>\n",
       "      <td>225.657303</td>\n",
       "    </tr>\n",
       "    <tr>\n",
       "      <th>13</th>\n",
       "      <td>98.352839</td>\n",
       "      <td>199.404592</td>\n",
       "    </tr>\n",
       "    <tr>\n",
       "      <th>14</th>\n",
       "      <td>131.596770</td>\n",
       "      <td>270.029303</td>\n",
       "    </tr>\n",
       "    <tr>\n",
       "      <th>15</th>\n",
       "      <td>127.132279</td>\n",
       "      <td>249.214555</td>\n",
       "    </tr>\n",
       "    <tr>\n",
       "      <th>16</th>\n",
       "      <td>118.654832</td>\n",
       "      <td>243.734038</td>\n",
       "    </tr>\n",
       "    <tr>\n",
       "      <th>17</th>\n",
       "      <td>118.317716</td>\n",
       "      <td>260.239032</td>\n",
       "    </tr>\n",
       "    <tr>\n",
       "      <th>18</th>\n",
       "      <td>138.188086</td>\n",
       "      <td>294.234193</td>\n",
       "    </tr>\n",
       "    <tr>\n",
       "      <th>19</th>\n",
       "      <td>126.535747</td>\n",
       "      <td>266.863568</td>\n",
       "    </tr>\n",
       "    <tr>\n",
       "      <th>2</th>\n",
       "      <td>99.950978</td>\n",
       "      <td>203.064090</td>\n",
       "    </tr>\n",
       "    <tr>\n",
       "      <th>20</th>\n",
       "      <td>121.937161</td>\n",
       "      <td>246.500308</td>\n",
       "    </tr>\n",
       "    <tr>\n",
       "      <th>21</th>\n",
       "      <td>141.350079</td>\n",
       "      <td>288.612805</td>\n",
       "    </tr>\n",
       "    <tr>\n",
       "      <th>22</th>\n",
       "      <td>129.128324</td>\n",
       "      <td>253.839675</td>\n",
       "    </tr>\n",
       "    <tr>\n",
       "      <th>23</th>\n",
       "      <td>130.254084</td>\n",
       "      <td>304.515576</td>\n",
       "    </tr>\n",
       "    <tr>\n",
       "      <th>24</th>\n",
       "      <td>121.638396</td>\n",
       "      <td>245.032809</td>\n",
       "    </tr>\n",
       "    <tr>\n",
       "      <th>25</th>\n",
       "      <td>108.426675</td>\n",
       "      <td>219.007772</td>\n",
       "    </tr>\n",
       "    <tr>\n",
       "      <th>26</th>\n",
       "      <td>177.047293</td>\n",
       "      <td>399.745125</td>\n",
       "    </tr>\n",
       "    <tr>\n",
       "      <th>27</th>\n",
       "      <td>126.244088</td>\n",
       "      <td>227.873565</td>\n",
       "    </tr>\n",
       "    <tr>\n",
       "      <th>28</th>\n",
       "      <td>121.825538</td>\n",
       "      <td>235.479512</td>\n",
       "    </tr>\n",
       "    <tr>\n",
       "      <th>29</th>\n",
       "      <td>115.709225</td>\n",
       "      <td>231.411022</td>\n",
       "    </tr>\n",
       "    <tr>\n",
       "      <th>3</th>\n",
       "      <td>97.200927</td>\n",
       "      <td>196.241976</td>\n",
       "    </tr>\n",
       "    <tr>\n",
       "      <th>30</th>\n",
       "      <td>113.809437</td>\n",
       "      <td>231.516364</td>\n",
       "    </tr>\n",
       "    <tr>\n",
       "      <th>31</th>\n",
       "      <td>123.988198</td>\n",
       "      <td>246.376989</td>\n",
       "    </tr>\n",
       "    <tr>\n",
       "      <th>32</th>\n",
       "      <td>121.699605</td>\n",
       "      <td>258.137939</td>\n",
       "    </tr>\n",
       "    <tr>\n",
       "      <th>33</th>\n",
       "      <td>112.636151</td>\n",
       "      <td>248.256266</td>\n",
       "    </tr>\n",
       "    <tr>\n",
       "      <th>34</th>\n",
       "      <td>110.493731</td>\n",
       "      <td>250.004540</td>\n",
       "    </tr>\n",
       "    <tr>\n",
       "      <th>35</th>\n",
       "      <td>138.619234</td>\n",
       "      <td>313.746620</td>\n",
       "    </tr>\n",
       "    <tr>\n",
       "      <th>36</th>\n",
       "      <td>140.930019</td>\n",
       "      <td>312.034169</td>\n",
       "    </tr>\n",
       "    <tr>\n",
       "      <th>37</th>\n",
       "      <td>129.258565</td>\n",
       "      <td>276.517556</td>\n",
       "    </tr>\n",
       "    <tr>\n",
       "      <th>38</th>\n",
       "      <td>109.546759</td>\n",
       "      <td>228.174588</td>\n",
       "    </tr>\n",
       "    <tr>\n",
       "      <th>39</th>\n",
       "      <td>109.534846</td>\n",
       "      <td>287.517312</td>\n",
       "    </tr>\n",
       "    <tr>\n",
       "      <th>4</th>\n",
       "      <td>100.310724</td>\n",
       "      <td>205.550726</td>\n",
       "    </tr>\n",
       "    <tr>\n",
       "      <th>40</th>\n",
       "      <td>186.502382</td>\n",
       "      <td>467.772371</td>\n",
       "    </tr>\n",
       "    <tr>\n",
       "      <th>41</th>\n",
       "      <td>182.124756</td>\n",
       "      <td>444.102381</td>\n",
       "    </tr>\n",
       "    <tr>\n",
       "      <th>42</th>\n",
       "      <td>145.410110</td>\n",
       "      <td>329.027714</td>\n",
       "    </tr>\n",
       "    <tr>\n",
       "      <th>43</th>\n",
       "      <td>137.188521</td>\n",
       "      <td>332.763928</td>\n",
       "    </tr>\n",
       "    <tr>\n",
       "      <th>44</th>\n",
       "      <td>121.092306</td>\n",
       "      <td>273.454669</td>\n",
       "    </tr>\n",
       "    <tr>\n",
       "      <th>45</th>\n",
       "      <td>121.368207</td>\n",
       "      <td>254.168335</td>\n",
       "    </tr>\n",
       "    <tr>\n",
       "      <th>46</th>\n",
       "      <td>125.097717</td>\n",
       "      <td>253.516221</td>\n",
       "    </tr>\n",
       "    <tr>\n",
       "      <th>47</th>\n",
       "      <td>131.137037</td>\n",
       "      <td>259.740788</td>\n",
       "    </tr>\n",
       "    <tr>\n",
       "      <th>48</th>\n",
       "      <td>117.278990</td>\n",
       "      <td>268.388399</td>\n",
       "    </tr>\n",
       "    <tr>\n",
       "      <th>49</th>\n",
       "      <td>133.898167</td>\n",
       "      <td>322.243972</td>\n",
       "    </tr>\n",
       "    <tr>\n",
       "      <th>5</th>\n",
       "      <td>108.016465</td>\n",
       "      <td>223.537971</td>\n",
       "    </tr>\n",
       "    <tr>\n",
       "      <th>50</th>\n",
       "      <td>123.228133</td>\n",
       "      <td>245.808370</td>\n",
       "    </tr>\n",
       "    <tr>\n",
       "      <th>51</th>\n",
       "      <td>158.433453</td>\n",
       "      <td>320.937606</td>\n",
       "    </tr>\n",
       "    <tr>\n",
       "      <th>52</th>\n",
       "      <td>131.473746</td>\n",
       "      <td>244.174301</td>\n",
       "    </tr>\n",
       "    <tr>\n",
       "      <th>53</th>\n",
       "      <td>107.125938</td>\n",
       "      <td>210.236825</td>\n",
       "    </tr>\n",
       "    <tr>\n",
       "      <th>6</th>\n",
       "      <td>135.606253</td>\n",
       "      <td>302.162745</td>\n",
       "    </tr>\n",
       "    <tr>\n",
       "      <th>7</th>\n",
       "      <td>110.165003</td>\n",
       "      <td>234.809782</td>\n",
       "    </tr>\n",
       "    <tr>\n",
       "      <th>8</th>\n",
       "      <td>110.707327</td>\n",
       "      <td>235.976739</td>\n",
       "    </tr>\n",
       "    <tr>\n",
       "      <th>9</th>\n",
       "      <td>113.549200</td>\n",
       "      <td>241.538829</td>\n",
       "    </tr>\n",
       "  </tbody>\n",
       "</table>\n",
       "</div>"
      ],
      "text/plain": [
       "            mean         std\n",
       "week                        \n",
       "1     103.681853  203.754095\n",
       "10    124.685821  281.254942\n",
       "11    111.226696  246.668137\n",
       "12    108.145310  225.657303\n",
       "13     98.352839  199.404592\n",
       "14    131.596770  270.029303\n",
       "15    127.132279  249.214555\n",
       "16    118.654832  243.734038\n",
       "17    118.317716  260.239032\n",
       "18    138.188086  294.234193\n",
       "19    126.535747  266.863568\n",
       "2      99.950978  203.064090\n",
       "20    121.937161  246.500308\n",
       "21    141.350079  288.612805\n",
       "22    129.128324  253.839675\n",
       "23    130.254084  304.515576\n",
       "24    121.638396  245.032809\n",
       "25    108.426675  219.007772\n",
       "26    177.047293  399.745125\n",
       "27    126.244088  227.873565\n",
       "28    121.825538  235.479512\n",
       "29    115.709225  231.411022\n",
       "3      97.200927  196.241976\n",
       "30    113.809437  231.516364\n",
       "31    123.988198  246.376989\n",
       "32    121.699605  258.137939\n",
       "33    112.636151  248.256266\n",
       "34    110.493731  250.004540\n",
       "35    138.619234  313.746620\n",
       "36    140.930019  312.034169\n",
       "37    129.258565  276.517556\n",
       "38    109.546759  228.174588\n",
       "39    109.534846  287.517312\n",
       "4     100.310724  205.550726\n",
       "40    186.502382  467.772371\n",
       "41    182.124756  444.102381\n",
       "42    145.410110  329.027714\n",
       "43    137.188521  332.763928\n",
       "44    121.092306  273.454669\n",
       "45    121.368207  254.168335\n",
       "46    125.097717  253.516221\n",
       "47    131.137037  259.740788\n",
       "48    117.278990  268.388399\n",
       "49    133.898167  322.243972\n",
       "5     108.016465  223.537971\n",
       "50    123.228133  245.808370\n",
       "51    158.433453  320.937606\n",
       "52    131.473746  244.174301\n",
       "53    107.125938  210.236825\n",
       "6     135.606253  302.162745\n",
       "7     110.165003  234.809782\n",
       "8     110.707327  235.976739\n",
       "9     113.549200  241.538829"
      ]
     },
     "execution_count": 353,
     "metadata": {},
     "output_type": "execute_result"
    },
    {
     "data": {
      "image/png": "[encoded data removed]",
      "text/plain": [
       "<Figure size 432x288 with 1 Axes>"
      ]
     },
     "metadata": {
      "needs_background": "light"
     },
     "output_type": "display_data"
    }
   ],
   "source": [
    "df.boxplot(column=['volume'],by = ['week'], rot=90).set_yscale('log')\n",
    "plt.ylabel(\"volume\")\n",
    "pd.DataFrame(df.groupby(['week'])['volume'].describe().loc[:,['mean','std']])"
   ]
  },
  {
   "cell_type": "markdown",
   "metadata": {},
   "source": [
    "### Preprocessing"
   ]
  },
  {
   "cell_type": "markdown",
   "metadata": {},
   "source": [
    "The target variable will be the volume of alcohol sold in liters. Given that all the other variables are categorical, they will need to be converted into dummy variables.\n",
    "\n",
    "#### dummy variables"
   ]
  },
  {
   "cell_type": "code",
   "execution_count": 354,
   "metadata": {},
   "outputs": [],
   "source": [
    "df = pd.concat([df.drop('general_alcohol_category', axis=1), pd.get_dummies(df['general_alcohol_category'])], axis=1)\n",
    "df = pd.concat([df.drop('city', axis = 1),pd.get_dummies(df['city'])], axis=1)\n",
    "df = pd.concat([df.drop('county', axis = 1), pd.get_dummies(df['county'])], axis=1)\n",
    "df = pd.concat([df.drop('week', axis = 1), pd.get_dummies(df['week'])], axis=1)"
   ]
  },
  {
   "cell_type": "markdown",
   "metadata": {},
   "source": [
    "\"Week of the year\" when treated as a categorical variable impacted dimensions of the dataset the most. Given that my dataset was still very large (over 400,000 observations) I felt the benefit still outweighed the cost."
   ]
  },
  {
   "cell_type": "code",
   "execution_count": 355,
   "metadata": {},
   "outputs": [
    {
     "data": {
      "text/plain": [
       "(477063, 72)"
      ]
     },
     "execution_count": 355,
     "metadata": {},
     "output_type": "execute_result"
    }
   ],
   "source": [
    "df.shape"
   ]
  },
  {
   "cell_type": "markdown",
   "metadata": {},
   "source": [
    "#### train test split"
   ]
  },
  {
   "cell_type": "code",
   "execution_count": 365,
   "metadata": {},
   "outputs": [],
   "source": [
    "from sklearn.model_selection import train_test_split\n",
    "\n",
    "X = df.drop(['volume'], axis =1)\n",
    "y = df[['volume']]\n",
    "\n",
    "X_train, X_test, y_train, y_test = train_test_split(X, y, test_size=0.25, random_state = 123)\n"
   ]
  },
  {
   "cell_type": "markdown",
   "metadata": {},
   "source": [
    "#### deciding on the size of the dataset needed"
   ]
  },
  {
   "cell_type": "markdown",
   "metadata": {},
   "source": [
    "I have a fairly large dataset which is going to take awhile to run my models. However, it is possible that I can achieve similar results with a smaller dataset. I'm first going to make an untuned decision tree model, train it on various dataset sizes and then plot performance as a function of the size of the dataset and pick the dataset of the smallest size at which close to optimal results can be achieved.\n",
    "\n",
    "sizes of the dataset to be tested = [5000, 15,000, 50,000, 100,000, entire dataset ]"
   ]
  },
  {
   "cell_type": "code",
   "execution_count": 366,
   "metadata": {},
   "outputs": [
    {
     "data": {
      "text/plain": [
       "(477063, 72)"
      ]
     },
     "execution_count": 366,
     "metadata": {},
     "output_type": "execute_result"
    }
   ],
   "source": [
    "df.shape"
   ]
  },
  {
   "cell_type": "code",
   "execution_count": 367,
   "metadata": {},
   "outputs": [],
   "source": [
    "from sklearn.tree import DecisionTreeRegressor\n",
    "import time\n",
    "\n",
    "values = [5000, 15000, 50000, 100000, 477063]\n",
    "results = []\n",
    "times = []"
   ]
  },
  {
   "cell_type": "code",
   "execution_count": 368,
   "metadata": {},
   "outputs": [
    {
     "name": "stdout",
     "output_type": "stream",
     "text": [
      "Training time: 0.07715606689453125s\n",
      "-0.6083808955202119\n"
     ]
    }
   ],
   "source": [
    "#5000 samples\n",
    "\n",
    "X_train_1 = X_train.sample(3750)\n",
    "X_test_1 = X_test.sample(1250)\n",
    "y_train_1 = y_train.sample(3750)\n",
    "y_test_1 = y_test.sample(1250)\n",
    "\n",
    "# Declare a variable called entr_model, and assign it: tree.DecisionTreeClassifier(criterion=\"entropy\", random_state = 1234)\n",
    "entr_model = DecisionTreeRegressor(random_state = 1234)\n",
    "\n",
    "start = time.time()\n",
    "\n",
    "# Call fit() on entr_model, and pass in X_train and y_train, in that order \n",
    "entr_model.fit(X_train_1, y_train_1)\n",
    "\n",
    "stop = time.time()\n",
    "time_spent = stop - start\n",
    "times.append(time_spent)\n",
    "print(f\"Training time: {time_spent}s\")\n",
    "# Call predict() on entr_model with X_test passed to it, and assign the result to a variable y_pred \n",
    "y_pred = entr_model.predict(X_test_1)\n",
    "\n",
    "# Assign y_pred the following: pd.Series(y_pred)\n",
    "y_pred = pd.Series(y_pred)\n",
    "\n",
    "# Check out entr_model\n",
    "entr_model\n",
    "\n",
    "from sklearn.metrics import r2_score\n",
    "results.append(r2_score(y_test_1, y_pred))\n",
    "print(r2_score(y_test_1, y_pred))"
   ]
  },
  {
   "cell_type": "code",
   "execution_count": 369,
   "metadata": {},
   "outputs": [
    {
     "name": "stdout",
     "output_type": "stream",
     "text": [
      "Training time: 0.26428961753845215s\n",
      "-0.9216421859192505\n"
     ]
    }
   ],
   "source": [
    "#15000 samples\n",
    "\n",
    "X_train_2 = X_train.sample(11250)\n",
    "X_test_2 = X_test.sample(3750)\n",
    "y_train_2 = y_train.sample(11250)\n",
    "y_test_2 = y_test.sample(3750)\n",
    "\n",
    "\n",
    "# Declare a variable called entr_model, and assign it: tree.DecisionTreeClassifier(criterion=\"entropy\", random_state = 1234)\n",
    "entr_model = DecisionTreeRegressor(random_state = 1234)\n",
    "\n",
    "start = time.time()\n",
    "\n",
    "# Call fit() on entr_model, and pass in X_train and y_train, in that order \n",
    "entr_model.fit(X_train_2, y_train_2)\n",
    "\n",
    "stop = time.time()\n",
    "time_spent = stop - start\n",
    "times.append(time_spent)\n",
    "print(f\"Training time: {time_spent}s\")\n",
    "# Call predict() on entr_model with X_test passed to it, and assign the result to a variable y_pred \n",
    "y_pred = entr_model.predict(X_test_2)\n",
    "\n",
    "# Assign y_pred the following: pd.Series(y_pred)\n",
    "y_pred = pd.Series(y_pred)\n",
    "\n",
    "# Check out entr_model\n",
    "entr_model\n",
    "\n",
    "from sklearn.metrics import r2_score\n",
    "results.append(r2_score(y_test_2, y_pred))\n",
    "print(r2_score(y_test_2, y_pred))"
   ]
  },
  {
   "cell_type": "code",
   "execution_count": 370,
   "metadata": {},
   "outputs": [
    {
     "name": "stdout",
     "output_type": "stream",
     "text": [
      "Training time: 0.955449104309082s\n",
      "-0.7242561888589367\n"
     ]
    }
   ],
   "source": [
    "#50,000 samples\n",
    "\n",
    "X_train_3 = X_train.sample(37500)\n",
    "X_test_3 = X_test.sample(12500)\n",
    "y_train_3 = y_train.sample(37500)\n",
    "y_test_3 = y_test.sample(12500)\n",
    "\n",
    "# Declare a variable called entr_model, and assign it: tree.DecisionTreeClassifier(criterion=\"entropy\", random_state = 1234)\n",
    "entr_model = DecisionTreeRegressor(random_state = 1234)\n",
    "\n",
    "start = time.time()\n",
    "\n",
    "# Call fit() on entr_model, and pass in X_train and y_train, in that order \n",
    "entr_model.fit(X_train_3, y_train_3)\n",
    "\n",
    "stop = time.time()\n",
    "time_spent = stop - start\n",
    "times.append(time_spent)\n",
    "print(f\"Training time: {time_spent}s\")\n",
    "# Call predict() on entr_model with X_test passed to it, and assign the result to a variable y_pred \n",
    "y_pred = entr_model.predict(X_test_3)\n",
    "\n",
    "# Assign y_pred the following: pd.Series(y_pred)\n",
    "y_pred = pd.Series(y_pred)\n",
    "\n",
    "# Check out entr_model\n",
    "entr_model\n",
    "\n",
    "from sklearn.metrics import r2_score\n",
    "results.append(r2_score(y_test_3, y_pred))\n",
    "print(r2_score(y_test_3, y_pred))"
   ]
  },
  {
   "cell_type": "code",
   "execution_count": 371,
   "metadata": {},
   "outputs": [
    {
     "name": "stdout",
     "output_type": "stream",
     "text": [
      "Training time: 2.613797187805176s\n",
      "-0.8542453099995173\n"
     ]
    }
   ],
   "source": [
    "#100,000 samples\n",
    "\n",
    "X_train_4 = X_train.sample(75000)\n",
    "X_test_4 = X_test.sample(25000)\n",
    "y_train_4 = y_train.sample(75000)\n",
    "y_test_4 = y_test.sample(25000)\n",
    "\n",
    "# Declare a variable called entr_model, and assign it: tree.DecisionTreeClassifier(criterion=\"entropy\", random_state = 1234)\n",
    "entr_model = DecisionTreeRegressor(random_state = 1234)\n",
    "\n",
    "start = time.time()\n",
    "\n",
    "# Call fit() on entr_model, and pass in X_train and y_train, in that order \n",
    "entr_model.fit(X_train_4, y_train_4)\n",
    "\n",
    "stop = time.time()\n",
    "time_spent = stop-start\n",
    "times.append(time_spent)\n",
    "print(f\"Training time: {time_spent}s\")\n",
    "# Call predict() on entr_model with X_test passed to it, and assign the result to a variable y_pred \n",
    "y_pred = entr_model.predict(X_test_4)\n",
    "\n",
    "# Assign y_pred the following: pd.Series(y_pred)\n",
    "y_pred = pd.Series(y_pred)\n",
    "\n",
    "# Check out entr_model\n",
    "entr_model\n",
    "\n",
    "from sklearn.metrics import r2_score\n",
    "results.append(r2_score(y_test_4, y_pred))\n",
    "print(r2_score(y_test_4, y_pred))"
   ]
  },
  {
   "cell_type": "code",
   "execution_count": 372,
   "metadata": {},
   "outputs": [
    {
     "name": "stdout",
     "output_type": "stream",
     "text": [
      "Training time: 12.979122161865234s\n",
      "0.046561958225265876\n"
     ]
    }
   ],
   "source": [
    "#entire dataset\n",
    "\n",
    "# Declare a variable called entr_model, and assign it: tree.DecisionTreeClassifier(criterion=\"entropy\", random_state = 1234)\n",
    "entr_model = DecisionTreeRegressor(random_state = 1234)\n",
    "\n",
    "start = time.time()\n",
    "\n",
    "# Call fit() on entr_model, and pass in X_train and y_train, in that order \n",
    "entr_model.fit(X_train, y_train)\n",
    "\n",
    "stop = time.time()\n",
    "time_spent = stop - start\n",
    "times.append(time_spent)\n",
    "print(f\"Training time: {time_spent}s\")\n",
    "# Call predict() on entr_model with X_test passed to it, and assign the result to a variable y_pred \n",
    "y_pred = entr_model.predict(X_test)\n",
    "\n",
    "# Assign y_pred the following: pd.Series(y_pred)\n",
    "y_pred = pd.Series(y_pred)\n",
    "\n",
    "# Check out entr_model\n",
    "entr_model\n",
    "\n",
    "from sklearn.metrics import r2_score\n",
    "results.append(r2_score(y_test, y_pred))\n",
    "print(r2_score(y_test, y_pred))\n",
    "\n"
   ]
  },
  {
   "cell_type": "markdown",
   "metadata": {},
   "source": [
    "Plotting the results of the training vs the test."
   ]
  },
  {
   "cell_type": "code",
   "execution_count": 373,
   "metadata": {},
   "outputs": [
    {
     "data": {
      "text/plain": [
       "Text(0.5, 1.0, 'performance vs size of dataset')"
      ]
     },
     "execution_count": 373,
     "metadata": {},
     "output_type": "execute_result"
    },
    {
     "data": {
      "image/png": "[encoded data removed]",
      "text/plain": [
       "<Figure size 432x288 with 1 Axes>"
      ]
     },
     "metadata": {
      "needs_background": "light"
     },
     "output_type": "display_data"
    }
   ],
   "source": [
    "plt.scatter(values, results)\n",
    "plt.xlabel(\"R^2\")\n",
    "plt.title(\"performance vs size of dataset\")"
   ]
  },
  {
   "cell_type": "markdown",
   "metadata": {},
   "source": [
    "From this graph we see that performance of the model is rather bad. This could be for several reasons, one of which is the choice to include week of the year as a categorical variable. A future possible modification would be to engineer month and week of the month as variables, additionally reducing the dimmensionality of the dataset.  \n",
    "\n",
    "A different reason for such low performance could be because a decision tree is a poor choice for this problem and/or the hyperparameters of the decision tree - the depth of the tree is too shallow. Other models could be tested to see whether this a problem with the data or the model, which I will see below.\n",
    "\n",
    "To be safe, I choose to use the entire dataset for training and testing."
   ]
  },
  {
   "cell_type": "code",
   "execution_count": 374,
   "metadata": {},
   "outputs": [
    {
     "data": {
      "text/plain": [
       "Text(0.5, 1.0, 'Training time vs. size of dataset')"
      ]
     },
     "execution_count": 374,
     "metadata": {},
     "output_type": "execute_result"
    },
    {
     "data": {
      "image/png": "[encoded data removed]",
      "text/plain": [
       "<Figure size 432x288 with 1 Axes>"
      ]
     },
     "metadata": {
      "needs_background": "light"
     },
     "output_type": "display_data"
    }
   ],
   "source": [
    "plt.scatter(values, times)\n",
    "plt.title(\"Training time vs. size of dataset\")"
   ]
  },
  {
   "cell_type": "markdown",
   "metadata": {},
   "source": [
    "The training time for the model increases with the size of the dataset following a general linear pattern, as expected."
   ]
  },
  {
   "cell_type": "markdown",
   "metadata": {},
   "source": [
    "#### modeling"
   ]
  },
  {
   "cell_type": "markdown",
   "metadata": {},
   "source": [
    "Besides decision tree, I tried two other models:\n",
    "\n",
    "\n"
   ]
  },
  {
   "cell_type": "markdown",
   "metadata": {},
   "source": [
    "##### Linear Regression"
   ]
  },
  {
   "cell_type": "code",
   "execution_count": 375,
   "metadata": {},
   "outputs": [
    {
     "name": "stdout",
     "output_type": "stream",
     "text": [
      "Training time: 3.909592866897583s\n",
      "Score:  0.22522608001207958\n",
      "Mean Absolute Error: 100.17\n",
      "Mean Squared Error: 55203.25\n",
      "Root Mean Squared Error: 234.95\n"
     ]
    }
   ],
   "source": [
    "from sklearn import linear_model\n",
    "import sklearn.metrics as metrics\n",
    "from sklearn.metrics import mean_squared_error\n",
    "from sklearn.metrics import mean_absolute_error\n",
    "\n",
    "\n",
    "rModel = linear_model.LinearRegression()\n",
    "\n",
    "start = time.time()\n",
    "\n",
    "model = rModel.fit(X_train, y_train)\n",
    "\n",
    "stop = time.time()\n",
    "print(f\"Training time: {stop - start}s\")\n",
    "#prints accuracy of the model agains the training data\n",
    "score = model.score(X_train, y_train)\n",
    "print(\"Score: \", score)\n",
    "\n",
    "y_pred = rModel.predict(X_test)\n",
    "\n",
    "\n",
    "print('Mean Absolute Error:', round(metrics.mean_absolute_error(y_test, y_pred), 2))\n",
    "print('Mean Squared Error:', round(metrics.mean_squared_error(y_test, y_pred), 2))\n",
    "print('Root Mean Squared Error:', round(np.sqrt(metrics.mean_squared_error(y_test, y_pred)), 2))"
   ]
  },
  {
   "cell_type": "markdown",
   "metadata": {},
   "source": [
    "The performance of the linear regression model is already superior to decision tree, with an R^2 value of 0.23."
   ]
  },
  {
   "cell_type": "markdown",
   "metadata": {},
   "source": [
    "##### Random Forest"
   ]
  },
  {
   "cell_type": "code",
   "execution_count": 376,
   "metadata": {},
   "outputs": [
    {
     "name": "stdout",
     "output_type": "stream",
     "text": [
      "Training Features Shape: (357797, 71)\n",
      "Training Labels Shape: (357797, 1)\n",
      "Testing Features Shape: (119266, 71)\n",
      "Testing Labels Shape: (119266, 1)\n",
      "Training time: 77.890310049057s\n",
      "Score:  0.42287927132684117\n",
      "Mean Absolute Error: 103.31\n",
      "Mean Squared Error: 66440.41\n",
      "Root Mean Squared Error: 257.76\n",
      "Variable: initial claims       Importance: 0.38\n",
      "Variable: tequila              Importance: 0.16\n",
      "Variable: vodka                Importance: 0.16\n",
      "Variable: small                Importance: 0.04\n",
      "Variable: other                Importance: 0.03\n",
      "Variable: gin                  Importance: 0.02\n",
      "Variable: whiskey              Importance: 0.02\n",
      "Variable: large                Importance: 0.01\n",
      "Variable: 25                   Importance: 0.01\n",
      "Variable: 4                    Importance: 0.01\n"
     ]
    }
   ],
   "source": [
    "from sklearn.ensemble import RandomForestRegressor\n",
    "\n",
    "y = np.array(df['volume'])\n",
    "X = np.array(X)\n",
    "\n",
    "print('Training Features Shape:', X_train.shape)\n",
    "print('Training Labels Shape:', y_train.shape)\n",
    "print('Testing Features Shape:', X_test.shape)\n",
    "print('Testing Labels Shape:', y_test.shape)\n",
    "\n",
    "X_train, X_test, y_train, y_test = train_test_split(X, y, test_size=0.25, random_state = 123)\n",
    "\n",
    "#scale data\n",
    "from sklearn import preprocessing\n",
    "import numpy as np\n",
    "# build scaler based on training data and apply it to test data to then also scale the test data\n",
    "scaler = preprocessing.StandardScaler().fit(X_train)\n",
    "X_train_scaled=scaler.transform(X_train)\n",
    "X_test_scaled=scaler.transform(X_test)\n",
    "\n",
    "X_train_scaled.shape\n",
    "\n",
    "rf = RandomForestRegressor(n_estimators = 10, random_state = 42)\n",
    "start = time.time()\n",
    "rf.fit(X_train_scaled, y_train)\n",
    "stop = time.time()\n",
    "print(f\"Training time: {stop - start}s\")\n",
    "\n",
    "predictions = rf.predict(X_test_scaled)\n",
    "score = rf.score(X_train_scaled, y_train)\n",
    "print(\"Score: \", score)\n",
    "# Calculate the absolute errors\n",
    "errors = abs(predictions - y_test)\n",
    "y_pred = rf.predict(X_test_scaled)\n",
    "# Print out the mean absolute error (mae)\n",
    "print('Mean Absolute Error:', round(np.mean(errors), 2))\n",
    "print('Mean Squared Error:', round(metrics.mean_squared_error(y_test, y_pred), 2))\n",
    "print('Root Mean Squared Error:', round(np.sqrt(metrics.mean_squared_error(y_test, y_pred)), 2))\n",
    "\n",
    "\n",
    "feature_list = list(df.columns)\n",
    "\n",
    "\n",
    "# Get numerical feature importances\n",
    "importances = list(rf.feature_importances_)\n",
    "# List of tuples with variable and importance\n",
    "feature_importances = [(feature, round(importance, 2)) for feature, importance in zip(feature_list, importances)]\n",
    "# Sort the feature importances by most important first\n",
    "feature_importances = sorted(feature_importances, key = lambda x: x[1], reverse = True)\n",
    "# Print out the feature and importances \n",
    "[print('Variable: {:20} Importance: {}'.format(*pair)) for pair in feature_importances[:10]];"
   ]
  },
  {
   "cell_type": "markdown",
   "metadata": {},
   "source": [
    "The performance for Random Forest is even better, 0.423. However, a disadvantage is that the model took significantly longer to train: 70 seconds vs 6 seconds for linear regression. It is also more complex and more difficult to explain feature importance.\n",
    "\n",
    "Note: scaling of features in a random forest model is not necessary."
   ]
  },
  {
   "cell_type": "markdown",
   "metadata": {},
   "source": [
    "#### model selection\n",
    "\n",
    "The first most important criteria for model selection is based on the model assumptions, advantages and disadvantages\n",
    "\n",
    "Secondly, we look at performance and lastly training time. I chose MAE as a performance metric because in this scenario I would like to downplay the significance of outliers.\n",
    "\n",
    "Based on my results: \n"
   ]
  },
  {
   "cell_type": "markdown",
   "metadata": {},
   "source": [
    "|  | Decision Tree | Linear Regression | Random Forest |\n",
    "| --- | --- | --- | --- |\n",
    "| Advantages |  High accuracy | Simple interpretation | Can handle many predictors |\n",
    "| Disadvantages | Prone to overfitting | Prone to underfitting | Complex & long training period |\n",
    "| Performance (MAE) | 126.33 | 100.17| 103.31 |\n",
    "| Training Time | 15.188100099563599s |  5.974484920501709s| 69.99898076057434s |\n"
   ]
  },
  {
   "cell_type": "markdown",
   "metadata": {},
   "source": [
    "#### hyperparameter tuning\n",
    "\n",
    "once I have chosen random forest as my model of choice, I will perform hyperparameter tuning to see how much model performance can be improved"
   ]
  },
  {
   "cell_type": "code",
   "execution_count": 377,
   "metadata": {},
   "outputs": [
    {
     "name": "stdout",
     "output_type": "stream",
     "text": [
      "Fitting 2 folds for each of 6 candidates, totalling 12 fits\n"
     ]
    },
    {
     "name": "stderr",
     "output_type": "stream",
     "text": [
      "[Parallel(n_jobs=-1)]: Using backend LokyBackend with 4 concurrent workers.\n",
      "[Parallel(n_jobs=-1)]: Done  12 out of  12 | elapsed:  5.8min remaining:    0.0s\n",
      "[Parallel(n_jobs=-1)]: Done  12 out of  12 | elapsed:  5.8min finished\n"
     ]
    },
    {
     "name": "stdout",
     "output_type": "stream",
     "text": [
      "Training time:  -478.85259985923767\n",
      "{'max_depth': 5, 'n_estimators': 40}\n"
     ]
    },
    {
     "data": {
      "text/plain": [
       "dict_keys(['criterion', 'max_depth', 'max_features', 'max_leaf_nodes', 'min_impurity_decrease', 'min_impurity_split', 'min_samples_leaf', 'min_samples_split', 'min_weight_fraction_leaf', 'presort', 'random_state', 'splitter'])"
      ]
     },
     "execution_count": 377,
     "metadata": {},
     "output_type": "execute_result"
    }
   ],
   "source": [
    "param_grid = {\n",
    "    'max_depth': [3,5], \n",
    "    'n_estimators': [10,40,60]\n",
    "}\n",
    "\n",
    "from sklearn.model_selection import GridSearchCV\n",
    "grid_search = GridSearchCV(estimator = rf, param_grid = param_grid, \n",
    "                          cv = 2, n_jobs = -1, verbose = 2)\n",
    "start = time.time()\n",
    "grid_search.fit(X_train_scaled, y_train)\n",
    "stop = time.time()\n",
    "timespent = start-stop\n",
    "print(\"Training time: \", timespent)\n",
    "print(grid_search.best_params_)\n",
    "\n",
    "entr_model.get_params().keys()"
   ]
  },
  {
   "cell_type": "code",
   "execution_count": 378,
   "metadata": {},
   "outputs": [
    {
     "data": {
      "text/plain": [
       "{'max_depth': 5, 'n_estimators': 40}"
      ]
     },
     "execution_count": 378,
     "metadata": {},
     "output_type": "execute_result"
    }
   ],
   "source": [
    "grid_search.best_params_"
   ]
  },
  {
   "cell_type": "markdown",
   "metadata": {},
   "source": [
    "Training the final model with the final chosen hyperparameters ( 40 trees and max depth of 5 ) The resulting performance is : Mean Absolute Error: 92.91 Liters"
   ]
  },
  {
   "cell_type": "code",
   "execution_count": 379,
   "metadata": {},
   "outputs": [
    {
     "name": "stdout",
     "output_type": "stream",
     "text": [
      "Training time: 134.86350989341736s\n",
      "Score:  0.25435330585162585\n",
      "Mean Absolute Error: 92.91\n",
      "Mean Squared Error: 53282.18\n",
      "Root Mean Squared Error: 230.83\n",
      "Variable: vodka                Importance: 0.36\n",
      "Variable: tequila              Importance: 0.35\n",
      "Variable: small                Importance: 0.09\n",
      "Variable: initial claims       Importance: 0.06\n",
      "Variable: other                Importance: 0.05\n",
      "Variable: gin                  Importance: 0.04\n",
      "Variable: whiskey              Importance: 0.01\n",
      "Variable: 25                   Importance: 0.01\n",
      "Variable: 4                    Importance: 0.01\n",
      "Variable: 40                   Importance: 0.01\n"
     ]
    }
   ],
   "source": [
    "rf = RandomForestRegressor(n_estimators = 40, max_depth = 5, random_state = 42)\n",
    "start = time.time()\n",
    "rf.fit(X_train_scaled, y_train)\n",
    "stop = time.time()\n",
    "print(f\"Training time: {stop - start}s\")\n",
    "\n",
    "predictions = rf.predict(X_test_scaled)\n",
    "score = rf.score(X_train_scaled, y_train)\n",
    "print(\"Score: \", score)\n",
    "# Calculate the absolute errors\n",
    "errors = abs(predictions - y_test)\n",
    "y_pred = rf.predict(X_test_scaled)\n",
    "# Print out the mean absolute error (mae)\n",
    "print('Mean Absolute Error:', round(np.mean(errors), 2))\n",
    "print('Mean Squared Error:', round(metrics.mean_squared_error(y_test, y_pred), 2))\n",
    "print('Root Mean Squared Error:', round(np.sqrt(metrics.mean_squared_error(y_test, y_pred)), 2))\n",
    "\n",
    "\n",
    "feature_list = list(df.columns)\n",
    "\n",
    "\n",
    "# Get numerical feature importances\n",
    "importances = list(rf.feature_importances_)\n",
    "# List of tuples with variable and importance\n",
    "feature_importances = [(feature, round(importance, 2)) for feature, importance in zip(feature_list, importances)]\n",
    "# Sort the feature importances by most important first\n",
    "feature_importances = sorted(feature_importances, key = lambda x: x[1], reverse = True)\n",
    "# Print out the feature and importances \n",
    "[print('Variable: {:20} Importance: {}'.format(*pair)) for pair in feature_importances[:10]];"
   ]
  },
  {
   "cell_type": "markdown",
   "metadata": {},
   "source": [
    "#### Shortcomings and Limitations of the Analysis"
   ]
  },
  {
   "cell_type": "markdown",
   "metadata": {},
   "source": [
    "There are some limitations and shortcomings of this analysis that could lead way to opportunities to dive deeper into how the unemployment rate impacts volumes of liquor sales.\n",
    "\t\n",
    "Firstly, a better proxy for socioeconomic condition in the state could be found rather than using unemployment claims. This is only one measure of condition and unlikely to fluctuate by week of the year, but follows its own timeline. It would be better to include more features that measure this.\n",
    "\n",
    "Similarily, grouping the data by week of the year was not a good decision, leading to a dataset of large dimensions and providing little information. Grouping data by other time intervals could be explored.\n",
    "    \n",
    "Another area for improvement could have been a closer analysis of the outliers. I found that the volumes of purchases varied greatly, likely because of a variety of customers ranging from individual buyers to bar and restaurant purchasers. More extensive outlier detection methods could be explored.\n"
   ]
  }
 ],
 "metadata": {
  "kernelspec": {
   "display_name": "Python 3",
   "language": "python",
   "name": "python3"
  },
  "language_info": {
   "codemirror_mode": {
    "name": "ipython",
    "version": 3
   },
   "file_extension": ".py",
   "mimetype": "text/x-python",
   "name": "python",
   "nbconvert_exporter": "python",
   "pygments_lexer": "ipython3",
   "version": "3.7.4"
  }
 },
 "nbformat": 4,
 "nbformat_minor": 2
}
